{
 "cells": [
  {
   "cell_type": "code",
   "execution_count": 1,
   "id": "d8987732-bc50-4731-9320-729219559bde",
   "metadata": {},
   "outputs": [],
   "source": [
    "from tqdm import tqdm\n",
    "from time import sleep"
   ]
  },
  {
   "cell_type": "code",
   "execution_count": 2,
   "id": "82849dbe-1865-4f86-a23d-2aa0d8e0395f",
   "metadata": {},
   "outputs": [],
   "source": [
    "import warnings\n",
    "warnings.filterwarnings('ignore')"
   ]
  },
  {
   "cell_type": "code",
   "execution_count": 3,
   "id": "e6f77f7a-1165-4aac-b6dc-dff3a584d24a",
   "metadata": {},
   "outputs": [],
   "source": [
    "from datasets import load_dataset\n",
    "from pinecone import Pinecone, ServerlessSpec\n",
    "from sentence_transformers import SentenceTransformer\n",
    "from pinecone_text.sparse import BM25Encoder"
   ]
  },
  {
   "cell_type": "code",
   "execution_count": 4,
   "id": "0c381399-840a-45be-91da-2aebceb18ca8",
   "metadata": {},
   "outputs": [],
   "source": [
    "import torch\n",
    "import os"
   ]
  },
  {
   "cell_type": "code",
   "execution_count": 5,
   "id": "9a1eaa50-3993-45e2-9d8d-3f52c87a2adf",
   "metadata": {},
   "outputs": [
    {
     "data": {
      "application/javascript": [
       "(function(root) {\n",
       "  function now() {\n",
       "    return new Date();\n",
       "  }\n",
       "\n",
       "  var force = true;\n",
       "  var py_version = '3.4.1'.replace('rc', '-rc.').replace('.dev', '-dev.');\n",
       "  var reloading = false;\n",
       "  var Bokeh = root.Bokeh;\n",
       "\n",
       "  if (typeof (root._bokeh_timeout) === \"undefined\" || force) {\n",
       "    root._bokeh_timeout = Date.now() + 5000;\n",
       "    root._bokeh_failed_load = false;\n",
       "  }\n",
       "\n",
       "  function run_callbacks() {\n",
       "    try {\n",
       "      root._bokeh_onload_callbacks.forEach(function(callback) {\n",
       "        if (callback != null)\n",
       "          callback();\n",
       "      });\n",
       "    } finally {\n",
       "      delete root._bokeh_onload_callbacks;\n",
       "    }\n",
       "    console.debug(\"Bokeh: all callbacks have finished\");\n",
       "  }\n",
       "\n",
       "  function load_libs(css_urls, js_urls, js_modules, js_exports, callback) {\n",
       "    if (css_urls == null) css_urls = [];\n",
       "    if (js_urls == null) js_urls = [];\n",
       "    if (js_modules == null) js_modules = [];\n",
       "    if (js_exports == null) js_exports = {};\n",
       "\n",
       "    root._bokeh_onload_callbacks.push(callback);\n",
       "\n",
       "    if (root._bokeh_is_loading > 0) {\n",
       "      console.debug(\"Bokeh: BokehJS is being loaded, scheduling callback at\", now());\n",
       "      return null;\n",
       "    }\n",
       "    if (js_urls.length === 0 && js_modules.length === 0 && Object.keys(js_exports).length === 0) {\n",
       "      run_callbacks();\n",
       "      return null;\n",
       "    }\n",
       "    if (!reloading) {\n",
       "      console.debug(\"Bokeh: BokehJS not loaded, scheduling load and callback at\", now());\n",
       "    }\n",
       "\n",
       "    function on_load() {\n",
       "      root._bokeh_is_loading--;\n",
       "      if (root._bokeh_is_loading === 0) {\n",
       "        console.debug(\"Bokeh: all BokehJS libraries/stylesheets loaded\");\n",
       "        run_callbacks()\n",
       "      }\n",
       "    }\n",
       "    window._bokeh_on_load = on_load\n",
       "\n",
       "    function on_error() {\n",
       "      console.error(\"failed to load \" + url);\n",
       "    }\n",
       "\n",
       "    var skip = [];\n",
       "    if (window.requirejs) {\n",
       "      window.requirejs.config({'packages': {}, 'paths': {}, 'shim': {}});\n",
       "      root._bokeh_is_loading = css_urls.length + 0;\n",
       "    } else {\n",
       "      root._bokeh_is_loading = css_urls.length + js_urls.length + js_modules.length + Object.keys(js_exports).length;\n",
       "    }\n",
       "\n",
       "    var existing_stylesheets = []\n",
       "    var links = document.getElementsByTagName('link')\n",
       "    for (var i = 0; i < links.length; i++) {\n",
       "      var link = links[i]\n",
       "      if (link.href != null) {\n",
       "\texisting_stylesheets.push(link.href)\n",
       "      }\n",
       "    }\n",
       "    for (var i = 0; i < css_urls.length; i++) {\n",
       "      var url = css_urls[i];\n",
       "      if (existing_stylesheets.indexOf(url) !== -1) {\n",
       "\ton_load()\n",
       "\tcontinue;\n",
       "      }\n",
       "      const element = document.createElement(\"link\");\n",
       "      element.onload = on_load;\n",
       "      element.onerror = on_error;\n",
       "      element.rel = \"stylesheet\";\n",
       "      element.type = \"text/css\";\n",
       "      element.href = url;\n",
       "      console.debug(\"Bokeh: injecting link tag for BokehJS stylesheet: \", url);\n",
       "      document.body.appendChild(element);\n",
       "    }    var existing_scripts = []\n",
       "    var scripts = document.getElementsByTagName('script')\n",
       "    for (var i = 0; i < scripts.length; i++) {\n",
       "      var script = scripts[i]\n",
       "      if (script.src != null) {\n",
       "\texisting_scripts.push(script.src)\n",
       "      }\n",
       "    }\n",
       "    for (var i = 0; i < js_urls.length; i++) {\n",
       "      var url = js_urls[i];\n",
       "      if (skip.indexOf(url) !== -1 || existing_scripts.indexOf(url) !== -1) {\n",
       "\tif (!window.requirejs) {\n",
       "\t  on_load();\n",
       "\t}\n",
       "\tcontinue;\n",
       "      }\n",
       "      var element = document.createElement('script');\n",
       "      element.onload = on_load;\n",
       "      element.onerror = on_error;\n",
       "      element.async = false;\n",
       "      element.src = url;\n",
       "      console.debug(\"Bokeh: injecting script tag for BokehJS library: \", url);\n",
       "      document.head.appendChild(element);\n",
       "    }\n",
       "    for (var i = 0; i < js_modules.length; i++) {\n",
       "      var url = js_modules[i];\n",
       "      if (skip.indexOf(url) !== -1 || existing_scripts.indexOf(url) !== -1) {\n",
       "\tif (!window.requirejs) {\n",
       "\t  on_load();\n",
       "\t}\n",
       "\tcontinue;\n",
       "      }\n",
       "      var element = document.createElement('script');\n",
       "      element.onload = on_load;\n",
       "      element.onerror = on_error;\n",
       "      element.async = false;\n",
       "      element.src = url;\n",
       "      element.type = \"module\";\n",
       "      console.debug(\"Bokeh: injecting script tag for BokehJS library: \", url);\n",
       "      document.head.appendChild(element);\n",
       "    }\n",
       "    for (const name in js_exports) {\n",
       "      var url = js_exports[name];\n",
       "      if (skip.indexOf(url) >= 0 || root[name] != null) {\n",
       "\tif (!window.requirejs) {\n",
       "\t  on_load();\n",
       "\t}\n",
       "\tcontinue;\n",
       "      }\n",
       "      var element = document.createElement('script');\n",
       "      element.onerror = on_error;\n",
       "      element.async = false;\n",
       "      element.type = \"module\";\n",
       "      console.debug(\"Bokeh: injecting script tag for BokehJS library: \", url);\n",
       "      element.textContent = `\n",
       "      import ${name} from \"${url}\"\n",
       "      window.${name} = ${name}\n",
       "      window._bokeh_on_load()\n",
       "      `\n",
       "      document.head.appendChild(element);\n",
       "    }\n",
       "    if (!js_urls.length && !js_modules.length) {\n",
       "      on_load()\n",
       "    }\n",
       "  };\n",
       "\n",
       "  function inject_raw_css(css) {\n",
       "    const element = document.createElement(\"style\");\n",
       "    element.appendChild(document.createTextNode(css));\n",
       "    document.body.appendChild(element);\n",
       "  }\n",
       "\n",
       "  var js_urls = [\"https://cdn.bokeh.org/bokeh/release/bokeh-3.4.1.min.js\", \"https://cdn.bokeh.org/bokeh/release/bokeh-gl-3.4.1.min.js\", \"https://cdn.bokeh.org/bokeh/release/bokeh-widgets-3.4.1.min.js\", \"https://cdn.bokeh.org/bokeh/release/bokeh-tables-3.4.1.min.js\", \"https://cdn.holoviz.org/panel/1.4.4/dist/panel.min.js\"];\n",
       "  var js_modules = [];\n",
       "  var js_exports = {};\n",
       "  var css_urls = [];\n",
       "  var inline_js = [    function(Bokeh) {\n",
       "      Bokeh.set_log_level(\"info\");\n",
       "    },\n",
       "function(Bokeh) {} // ensure no trailing comma for IE\n",
       "  ];\n",
       "\n",
       "  function run_inline_js() {\n",
       "    if ((root.Bokeh !== undefined) || (force === true)) {\n",
       "      for (var i = 0; i < inline_js.length; i++) {\n",
       "\ttry {\n",
       "          inline_js[i].call(root, root.Bokeh);\n",
       "\t} catch(e) {\n",
       "\t  if (!reloading) {\n",
       "\t    throw e;\n",
       "\t  }\n",
       "\t}\n",
       "      }\n",
       "      // Cache old bokeh versions\n",
       "      if (Bokeh != undefined && !reloading) {\n",
       "\tvar NewBokeh = root.Bokeh;\n",
       "\tif (Bokeh.versions === undefined) {\n",
       "\t  Bokeh.versions = new Map();\n",
       "\t}\n",
       "\tif (NewBokeh.version !== Bokeh.version) {\n",
       "\t  Bokeh.versions.set(NewBokeh.version, NewBokeh)\n",
       "\t}\n",
       "\troot.Bokeh = Bokeh;\n",
       "      }} else if (Date.now() < root._bokeh_timeout) {\n",
       "      setTimeout(run_inline_js, 100);\n",
       "    } else if (!root._bokeh_failed_load) {\n",
       "      console.log(\"Bokeh: BokehJS failed to load within specified timeout.\");\n",
       "      root._bokeh_failed_load = true;\n",
       "    }\n",
       "    root._bokeh_is_initializing = false\n",
       "  }\n",
       "\n",
       "  function load_or_wait() {\n",
       "    // Implement a backoff loop that tries to ensure we do not load multiple\n",
       "    // versions of Bokeh and its dependencies at the same time.\n",
       "    // In recent versions we use the root._bokeh_is_initializing flag\n",
       "    // to determine whether there is an ongoing attempt to initialize\n",
       "    // bokeh, however for backward compatibility we also try to ensure\n",
       "    // that we do not start loading a newer (Panel>=1.0 and Bokeh>3) version\n",
       "    // before older versions are fully initialized.\n",
       "    if (root._bokeh_is_initializing && Date.now() > root._bokeh_timeout) {\n",
       "      root._bokeh_is_initializing = false;\n",
       "      root._bokeh_onload_callbacks = undefined;\n",
       "      console.log(\"Bokeh: BokehJS was loaded multiple times but one version failed to initialize.\");\n",
       "      load_or_wait();\n",
       "    } else if (root._bokeh_is_initializing || (typeof root._bokeh_is_initializing === \"undefined\" && root._bokeh_onload_callbacks !== undefined)) {\n",
       "      setTimeout(load_or_wait, 100);\n",
       "    } else {\n",
       "      root._bokeh_is_initializing = true\n",
       "      root._bokeh_onload_callbacks = []\n",
       "      var bokeh_loaded = Bokeh != null && (Bokeh.version === py_version || (Bokeh.versions !== undefined && Bokeh.versions.has(py_version)));\n",
       "      if (!reloading && !bokeh_loaded) {\n",
       "\troot.Bokeh = undefined;\n",
       "      }\n",
       "      load_libs(css_urls, js_urls, js_modules, js_exports, function() {\n",
       "\tconsole.debug(\"Bokeh: BokehJS plotting callback run at\", now());\n",
       "\trun_inline_js();\n",
       "      });\n",
       "    }\n",
       "  }\n",
       "  // Give older versions of the autoload script a head-start to ensure\n",
       "  // they initialize before we start loading newer version.\n",
       "  setTimeout(load_or_wait, 100)\n",
       "}(window));"
      ],
      "application/vnd.holoviews_load.v0+json": "(function(root) {\n  function now() {\n    return new Date();\n  }\n\n  var force = true;\n  var py_version = '3.4.1'.replace('rc', '-rc.').replace('.dev', '-dev.');\n  var reloading = false;\n  var Bokeh = root.Bokeh;\n\n  if (typeof (root._bokeh_timeout) === \"undefined\" || force) {\n    root._bokeh_timeout = Date.now() + 5000;\n    root._bokeh_failed_load = false;\n  }\n\n  function run_callbacks() {\n    try {\n      root._bokeh_onload_callbacks.forEach(function(callback) {\n        if (callback != null)\n          callback();\n      });\n    } finally {\n      delete root._bokeh_onload_callbacks;\n    }\n    console.debug(\"Bokeh: all callbacks have finished\");\n  }\n\n  function load_libs(css_urls, js_urls, js_modules, js_exports, callback) {\n    if (css_urls == null) css_urls = [];\n    if (js_urls == null) js_urls = [];\n    if (js_modules == null) js_modules = [];\n    if (js_exports == null) js_exports = {};\n\n    root._bokeh_onload_callbacks.push(callback);\n\n    if (root._bokeh_is_loading > 0) {\n      console.debug(\"Bokeh: BokehJS is being loaded, scheduling callback at\", now());\n      return null;\n    }\n    if (js_urls.length === 0 && js_modules.length === 0 && Object.keys(js_exports).length === 0) {\n      run_callbacks();\n      return null;\n    }\n    if (!reloading) {\n      console.debug(\"Bokeh: BokehJS not loaded, scheduling load and callback at\", now());\n    }\n\n    function on_load() {\n      root._bokeh_is_loading--;\n      if (root._bokeh_is_loading === 0) {\n        console.debug(\"Bokeh: all BokehJS libraries/stylesheets loaded\");\n        run_callbacks()\n      }\n    }\n    window._bokeh_on_load = on_load\n\n    function on_error() {\n      console.error(\"failed to load \" + url);\n    }\n\n    var skip = [];\n    if (window.requirejs) {\n      window.requirejs.config({'packages': {}, 'paths': {}, 'shim': {}});\n      root._bokeh_is_loading = css_urls.length + 0;\n    } else {\n      root._bokeh_is_loading = css_urls.length + js_urls.length + js_modules.length + Object.keys(js_exports).length;\n    }\n\n    var existing_stylesheets = []\n    var links = document.getElementsByTagName('link')\n    for (var i = 0; i < links.length; i++) {\n      var link = links[i]\n      if (link.href != null) {\n\texisting_stylesheets.push(link.href)\n      }\n    }\n    for (var i = 0; i < css_urls.length; i++) {\n      var url = css_urls[i];\n      if (existing_stylesheets.indexOf(url) !== -1) {\n\ton_load()\n\tcontinue;\n      }\n      const element = document.createElement(\"link\");\n      element.onload = on_load;\n      element.onerror = on_error;\n      element.rel = \"stylesheet\";\n      element.type = \"text/css\";\n      element.href = url;\n      console.debug(\"Bokeh: injecting link tag for BokehJS stylesheet: \", url);\n      document.body.appendChild(element);\n    }    var existing_scripts = []\n    var scripts = document.getElementsByTagName('script')\n    for (var i = 0; i < scripts.length; i++) {\n      var script = scripts[i]\n      if (script.src != null) {\n\texisting_scripts.push(script.src)\n      }\n    }\n    for (var i = 0; i < js_urls.length; i++) {\n      var url = js_urls[i];\n      if (skip.indexOf(url) !== -1 || existing_scripts.indexOf(url) !== -1) {\n\tif (!window.requirejs) {\n\t  on_load();\n\t}\n\tcontinue;\n      }\n      var element = document.createElement('script');\n      element.onload = on_load;\n      element.onerror = on_error;\n      element.async = false;\n      element.src = url;\n      console.debug(\"Bokeh: injecting script tag for BokehJS library: \", url);\n      document.head.appendChild(element);\n    }\n    for (var i = 0; i < js_modules.length; i++) {\n      var url = js_modules[i];\n      if (skip.indexOf(url) !== -1 || existing_scripts.indexOf(url) !== -1) {\n\tif (!window.requirejs) {\n\t  on_load();\n\t}\n\tcontinue;\n      }\n      var element = document.createElement('script');\n      element.onload = on_load;\n      element.onerror = on_error;\n      element.async = false;\n      element.src = url;\n      element.type = \"module\";\n      console.debug(\"Bokeh: injecting script tag for BokehJS library: \", url);\n      document.head.appendChild(element);\n    }\n    for (const name in js_exports) {\n      var url = js_exports[name];\n      if (skip.indexOf(url) >= 0 || root[name] != null) {\n\tif (!window.requirejs) {\n\t  on_load();\n\t}\n\tcontinue;\n      }\n      var element = document.createElement('script');\n      element.onerror = on_error;\n      element.async = false;\n      element.type = \"module\";\n      console.debug(\"Bokeh: injecting script tag for BokehJS library: \", url);\n      element.textContent = `\n      import ${name} from \"${url}\"\n      window.${name} = ${name}\n      window._bokeh_on_load()\n      `\n      document.head.appendChild(element);\n    }\n    if (!js_urls.length && !js_modules.length) {\n      on_load()\n    }\n  };\n\n  function inject_raw_css(css) {\n    const element = document.createElement(\"style\");\n    element.appendChild(document.createTextNode(css));\n    document.body.appendChild(element);\n  }\n\n  var js_urls = [\"https://cdn.bokeh.org/bokeh/release/bokeh-3.4.1.min.js\", \"https://cdn.bokeh.org/bokeh/release/bokeh-gl-3.4.1.min.js\", \"https://cdn.bokeh.org/bokeh/release/bokeh-widgets-3.4.1.min.js\", \"https://cdn.bokeh.org/bokeh/release/bokeh-tables-3.4.1.min.js\", \"https://cdn.holoviz.org/panel/1.4.4/dist/panel.min.js\"];\n  var js_modules = [];\n  var js_exports = {};\n  var css_urls = [];\n  var inline_js = [    function(Bokeh) {\n      Bokeh.set_log_level(\"info\");\n    },\nfunction(Bokeh) {} // ensure no trailing comma for IE\n  ];\n\n  function run_inline_js() {\n    if ((root.Bokeh !== undefined) || (force === true)) {\n      for (var i = 0; i < inline_js.length; i++) {\n\ttry {\n          inline_js[i].call(root, root.Bokeh);\n\t} catch(e) {\n\t  if (!reloading) {\n\t    throw e;\n\t  }\n\t}\n      }\n      // Cache old bokeh versions\n      if (Bokeh != undefined && !reloading) {\n\tvar NewBokeh = root.Bokeh;\n\tif (Bokeh.versions === undefined) {\n\t  Bokeh.versions = new Map();\n\t}\n\tif (NewBokeh.version !== Bokeh.version) {\n\t  Bokeh.versions.set(NewBokeh.version, NewBokeh)\n\t}\n\troot.Bokeh = Bokeh;\n      }} else if (Date.now() < root._bokeh_timeout) {\n      setTimeout(run_inline_js, 100);\n    } else if (!root._bokeh_failed_load) {\n      console.log(\"Bokeh: BokehJS failed to load within specified timeout.\");\n      root._bokeh_failed_load = true;\n    }\n    root._bokeh_is_initializing = false\n  }\n\n  function load_or_wait() {\n    // Implement a backoff loop that tries to ensure we do not load multiple\n    // versions of Bokeh and its dependencies at the same time.\n    // In recent versions we use the root._bokeh_is_initializing flag\n    // to determine whether there is an ongoing attempt to initialize\n    // bokeh, however for backward compatibility we also try to ensure\n    // that we do not start loading a newer (Panel>=1.0 and Bokeh>3) version\n    // before older versions are fully initialized.\n    if (root._bokeh_is_initializing && Date.now() > root._bokeh_timeout) {\n      root._bokeh_is_initializing = false;\n      root._bokeh_onload_callbacks = undefined;\n      console.log(\"Bokeh: BokehJS was loaded multiple times but one version failed to initialize.\");\n      load_or_wait();\n    } else if (root._bokeh_is_initializing || (typeof root._bokeh_is_initializing === \"undefined\" && root._bokeh_onload_callbacks !== undefined)) {\n      setTimeout(load_or_wait, 100);\n    } else {\n      root._bokeh_is_initializing = true\n      root._bokeh_onload_callbacks = []\n      var bokeh_loaded = Bokeh != null && (Bokeh.version === py_version || (Bokeh.versions !== undefined && Bokeh.versions.has(py_version)));\n      if (!reloading && !bokeh_loaded) {\n\troot.Bokeh = undefined;\n      }\n      load_libs(css_urls, js_urls, js_modules, js_exports, function() {\n\tconsole.debug(\"Bokeh: BokehJS plotting callback run at\", now());\n\trun_inline_js();\n      });\n    }\n  }\n  // Give older versions of the autoload script a head-start to ensure\n  // they initialize before we start loading newer version.\n  setTimeout(load_or_wait, 100)\n}(window));"
     },
     "metadata": {},
     "output_type": "display_data"
    },
    {
     "data": {
      "application/javascript": [
       "\n",
       "if ((window.PyViz === undefined) || (window.PyViz instanceof HTMLElement)) {\n",
       "  window.PyViz = {comms: {}, comm_status:{}, kernels:{}, receivers: {}, plot_index: []}\n",
       "}\n",
       "\n",
       "\n",
       "    function JupyterCommManager() {\n",
       "    }\n",
       "\n",
       "    JupyterCommManager.prototype.register_target = function(plot_id, comm_id, msg_handler) {\n",
       "      if (window.comm_manager || ((window.Jupyter !== undefined) && (Jupyter.notebook.kernel != null))) {\n",
       "        var comm_manager = window.comm_manager || Jupyter.notebook.kernel.comm_manager;\n",
       "        comm_manager.register_target(comm_id, function(comm) {\n",
       "          comm.on_msg(msg_handler);\n",
       "        });\n",
       "      } else if ((plot_id in window.PyViz.kernels) && (window.PyViz.kernels[plot_id])) {\n",
       "        window.PyViz.kernels[plot_id].registerCommTarget(comm_id, function(comm) {\n",
       "          comm.onMsg = msg_handler;\n",
       "        });\n",
       "      } else if (typeof google != 'undefined' && google.colab.kernel != null) {\n",
       "        google.colab.kernel.comms.registerTarget(comm_id, (comm) => {\n",
       "          var messages = comm.messages[Symbol.asyncIterator]();\n",
       "          function processIteratorResult(result) {\n",
       "            var message = result.value;\n",
       "            console.log(message)\n",
       "            var content = {data: message.data, comm_id};\n",
       "            var buffers = []\n",
       "            for (var buffer of message.buffers || []) {\n",
       "              buffers.push(new DataView(buffer))\n",
       "            }\n",
       "            var metadata = message.metadata || {};\n",
       "            var msg = {content, buffers, metadata}\n",
       "            msg_handler(msg);\n",
       "            return messages.next().then(processIteratorResult);\n",
       "          }\n",
       "          return messages.next().then(processIteratorResult);\n",
       "        })\n",
       "      }\n",
       "    }\n",
       "\n",
       "    JupyterCommManager.prototype.get_client_comm = function(plot_id, comm_id, msg_handler) {\n",
       "      if (comm_id in window.PyViz.comms) {\n",
       "        return window.PyViz.comms[comm_id];\n",
       "      } else if (window.comm_manager || ((window.Jupyter !== undefined) && (Jupyter.notebook.kernel != null))) {\n",
       "        var comm_manager = window.comm_manager || Jupyter.notebook.kernel.comm_manager;\n",
       "        var comm = comm_manager.new_comm(comm_id, {}, {}, {}, comm_id);\n",
       "        if (msg_handler) {\n",
       "          comm.on_msg(msg_handler);\n",
       "        }\n",
       "      } else if ((plot_id in window.PyViz.kernels) && (window.PyViz.kernels[plot_id])) {\n",
       "        var comm = window.PyViz.kernels[plot_id].connectToComm(comm_id);\n",
       "        comm.open();\n",
       "        if (msg_handler) {\n",
       "          comm.onMsg = msg_handler;\n",
       "        }\n",
       "      } else if (typeof google != 'undefined' && google.colab.kernel != null) {\n",
       "        var comm_promise = google.colab.kernel.comms.open(comm_id)\n",
       "        comm_promise.then((comm) => {\n",
       "          window.PyViz.comms[comm_id] = comm;\n",
       "          if (msg_handler) {\n",
       "            var messages = comm.messages[Symbol.asyncIterator]();\n",
       "            function processIteratorResult(result) {\n",
       "              var message = result.value;\n",
       "              var content = {data: message.data};\n",
       "              var metadata = message.metadata || {comm_id};\n",
       "              var msg = {content, metadata}\n",
       "              msg_handler(msg);\n",
       "              return messages.next().then(processIteratorResult);\n",
       "            }\n",
       "            return messages.next().then(processIteratorResult);\n",
       "          }\n",
       "        }) \n",
       "        var sendClosure = (data, metadata, buffers, disposeOnDone) => {\n",
       "          return comm_promise.then((comm) => {\n",
       "            comm.send(data, metadata, buffers, disposeOnDone);\n",
       "          });\n",
       "        };\n",
       "        var comm = {\n",
       "          send: sendClosure\n",
       "        };\n",
       "      }\n",
       "      window.PyViz.comms[comm_id] = comm;\n",
       "      return comm;\n",
       "    }\n",
       "    window.PyViz.comm_manager = new JupyterCommManager();\n",
       "    \n",
       "\n",
       "\n",
       "var JS_MIME_TYPE = 'application/javascript';\n",
       "var HTML_MIME_TYPE = 'text/html';\n",
       "var EXEC_MIME_TYPE = 'application/vnd.holoviews_exec.v0+json';\n",
       "var CLASS_NAME = 'output';\n",
       "\n",
       "/**\n",
       " * Render data to the DOM node\n",
       " */\n",
       "function render(props, node) {\n",
       "  var div = document.createElement(\"div\");\n",
       "  var script = document.createElement(\"script\");\n",
       "  node.appendChild(div);\n",
       "  node.appendChild(script);\n",
       "}\n",
       "\n",
       "/**\n",
       " * Handle when a new output is added\n",
       " */\n",
       "function handle_add_output(event, handle) {\n",
       "  var output_area = handle.output_area;\n",
       "  var output = handle.output;\n",
       "  if ((output.data == undefined) || (!output.data.hasOwnProperty(EXEC_MIME_TYPE))) {\n",
       "    return\n",
       "  }\n",
       "  var id = output.metadata[EXEC_MIME_TYPE][\"id\"];\n",
       "  var toinsert = output_area.element.find(\".\" + CLASS_NAME.split(' ')[0]);\n",
       "  if (id !== undefined) {\n",
       "    var nchildren = toinsert.length;\n",
       "    var html_node = toinsert[nchildren-1].children[0];\n",
       "    html_node.innerHTML = output.data[HTML_MIME_TYPE];\n",
       "    var scripts = [];\n",
       "    var nodelist = html_node.querySelectorAll(\"script\");\n",
       "    for (var i in nodelist) {\n",
       "      if (nodelist.hasOwnProperty(i)) {\n",
       "        scripts.push(nodelist[i])\n",
       "      }\n",
       "    }\n",
       "\n",
       "    scripts.forEach( function (oldScript) {\n",
       "      var newScript = document.createElement(\"script\");\n",
       "      var attrs = [];\n",
       "      var nodemap = oldScript.attributes;\n",
       "      for (var j in nodemap) {\n",
       "        if (nodemap.hasOwnProperty(j)) {\n",
       "          attrs.push(nodemap[j])\n",
       "        }\n",
       "      }\n",
       "      attrs.forEach(function(attr) { newScript.setAttribute(attr.name, attr.value) });\n",
       "      newScript.appendChild(document.createTextNode(oldScript.innerHTML));\n",
       "      oldScript.parentNode.replaceChild(newScript, oldScript);\n",
       "    });\n",
       "    if (JS_MIME_TYPE in output.data) {\n",
       "      toinsert[nchildren-1].children[1].textContent = output.data[JS_MIME_TYPE];\n",
       "    }\n",
       "    output_area._hv_plot_id = id;\n",
       "    if ((window.Bokeh !== undefined) && (id in Bokeh.index)) {\n",
       "      window.PyViz.plot_index[id] = Bokeh.index[id];\n",
       "    } else {\n",
       "      window.PyViz.plot_index[id] = null;\n",
       "    }\n",
       "  } else if (output.metadata[EXEC_MIME_TYPE][\"server_id\"] !== undefined) {\n",
       "    var bk_div = document.createElement(\"div\");\n",
       "    bk_div.innerHTML = output.data[HTML_MIME_TYPE];\n",
       "    var script_attrs = bk_div.children[0].attributes;\n",
       "    for (var i = 0; i < script_attrs.length; i++) {\n",
       "      toinsert[toinsert.length - 1].childNodes[1].setAttribute(script_attrs[i].name, script_attrs[i].value);\n",
       "    }\n",
       "    // store reference to server id on output_area\n",
       "    output_area._bokeh_server_id = output.metadata[EXEC_MIME_TYPE][\"server_id\"];\n",
       "  }\n",
       "}\n",
       "\n",
       "/**\n",
       " * Handle when an output is cleared or removed\n",
       " */\n",
       "function handle_clear_output(event, handle) {\n",
       "  var id = handle.cell.output_area._hv_plot_id;\n",
       "  var server_id = handle.cell.output_area._bokeh_server_id;\n",
       "  if (((id === undefined) || !(id in PyViz.plot_index)) && (server_id !== undefined)) { return; }\n",
       "  var comm = window.PyViz.comm_manager.get_client_comm(\"hv-extension-comm\", \"hv-extension-comm\", function () {});\n",
       "  if (server_id !== null) {\n",
       "    comm.send({event_type: 'server_delete', 'id': server_id});\n",
       "    return;\n",
       "  } else if (comm !== null) {\n",
       "    comm.send({event_type: 'delete', 'id': id});\n",
       "  }\n",
       "  delete PyViz.plot_index[id];\n",
       "  if ((window.Bokeh !== undefined) & (id in window.Bokeh.index)) {\n",
       "    var doc = window.Bokeh.index[id].model.document\n",
       "    doc.clear();\n",
       "    const i = window.Bokeh.documents.indexOf(doc);\n",
       "    if (i > -1) {\n",
       "      window.Bokeh.documents.splice(i, 1);\n",
       "    }\n",
       "  }\n",
       "}\n",
       "\n",
       "/**\n",
       " * Handle kernel restart event\n",
       " */\n",
       "function handle_kernel_cleanup(event, handle) {\n",
       "  delete PyViz.comms[\"hv-extension-comm\"];\n",
       "  window.PyViz.plot_index = {}\n",
       "}\n",
       "\n",
       "/**\n",
       " * Handle update_display_data messages\n",
       " */\n",
       "function handle_update_output(event, handle) {\n",
       "  handle_clear_output(event, {cell: {output_area: handle.output_area}})\n",
       "  handle_add_output(event, handle)\n",
       "}\n",
       "\n",
       "function register_renderer(events, OutputArea) {\n",
       "  function append_mime(data, metadata, element) {\n",
       "    // create a DOM node to render to\n",
       "    var toinsert = this.create_output_subarea(\n",
       "    metadata,\n",
       "    CLASS_NAME,\n",
       "    EXEC_MIME_TYPE\n",
       "    );\n",
       "    this.keyboard_manager.register_events(toinsert);\n",
       "    // Render to node\n",
       "    var props = {data: data, metadata: metadata[EXEC_MIME_TYPE]};\n",
       "    render(props, toinsert[0]);\n",
       "    element.append(toinsert);\n",
       "    return toinsert\n",
       "  }\n",
       "\n",
       "  events.on('output_added.OutputArea', handle_add_output);\n",
       "  events.on('output_updated.OutputArea', handle_update_output);\n",
       "  events.on('clear_output.CodeCell', handle_clear_output);\n",
       "  events.on('delete.Cell', handle_clear_output);\n",
       "  events.on('kernel_ready.Kernel', handle_kernel_cleanup);\n",
       "\n",
       "  OutputArea.prototype.register_mime_type(EXEC_MIME_TYPE, append_mime, {\n",
       "    safe: true,\n",
       "    index: 0\n",
       "  });\n",
       "}\n",
       "\n",
       "if (window.Jupyter !== undefined) {\n",
       "  try {\n",
       "    var events = require('base/js/events');\n",
       "    var OutputArea = require('notebook/js/outputarea').OutputArea;\n",
       "    if (OutputArea.prototype.mime_types().indexOf(EXEC_MIME_TYPE) == -1) {\n",
       "      register_renderer(events, OutputArea);\n",
       "    }\n",
       "  } catch(err) {\n",
       "  }\n",
       "}\n"
      ],
      "application/vnd.holoviews_load.v0+json": "\nif ((window.PyViz === undefined) || (window.PyViz instanceof HTMLElement)) {\n  window.PyViz = {comms: {}, comm_status:{}, kernels:{}, receivers: {}, plot_index: []}\n}\n\n\n    function JupyterCommManager() {\n    }\n\n    JupyterCommManager.prototype.register_target = function(plot_id, comm_id, msg_handler) {\n      if (window.comm_manager || ((window.Jupyter !== undefined) && (Jupyter.notebook.kernel != null))) {\n        var comm_manager = window.comm_manager || Jupyter.notebook.kernel.comm_manager;\n        comm_manager.register_target(comm_id, function(comm) {\n          comm.on_msg(msg_handler);\n        });\n      } else if ((plot_id in window.PyViz.kernels) && (window.PyViz.kernels[plot_id])) {\n        window.PyViz.kernels[plot_id].registerCommTarget(comm_id, function(comm) {\n          comm.onMsg = msg_handler;\n        });\n      } else if (typeof google != 'undefined' && google.colab.kernel != null) {\n        google.colab.kernel.comms.registerTarget(comm_id, (comm) => {\n          var messages = comm.messages[Symbol.asyncIterator]();\n          function processIteratorResult(result) {\n            var message = result.value;\n            console.log(message)\n            var content = {data: message.data, comm_id};\n            var buffers = []\n            for (var buffer of message.buffers || []) {\n              buffers.push(new DataView(buffer))\n            }\n            var metadata = message.metadata || {};\n            var msg = {content, buffers, metadata}\n            msg_handler(msg);\n            return messages.next().then(processIteratorResult);\n          }\n          return messages.next().then(processIteratorResult);\n        })\n      }\n    }\n\n    JupyterCommManager.prototype.get_client_comm = function(plot_id, comm_id, msg_handler) {\n      if (comm_id in window.PyViz.comms) {\n        return window.PyViz.comms[comm_id];\n      } else if (window.comm_manager || ((window.Jupyter !== undefined) && (Jupyter.notebook.kernel != null))) {\n        var comm_manager = window.comm_manager || Jupyter.notebook.kernel.comm_manager;\n        var comm = comm_manager.new_comm(comm_id, {}, {}, {}, comm_id);\n        if (msg_handler) {\n          comm.on_msg(msg_handler);\n        }\n      } else if ((plot_id in window.PyViz.kernels) && (window.PyViz.kernels[plot_id])) {\n        var comm = window.PyViz.kernels[plot_id].connectToComm(comm_id);\n        comm.open();\n        if (msg_handler) {\n          comm.onMsg = msg_handler;\n        }\n      } else if (typeof google != 'undefined' && google.colab.kernel != null) {\n        var comm_promise = google.colab.kernel.comms.open(comm_id)\n        comm_promise.then((comm) => {\n          window.PyViz.comms[comm_id] = comm;\n          if (msg_handler) {\n            var messages = comm.messages[Symbol.asyncIterator]();\n            function processIteratorResult(result) {\n              var message = result.value;\n              var content = {data: message.data};\n              var metadata = message.metadata || {comm_id};\n              var msg = {content, metadata}\n              msg_handler(msg);\n              return messages.next().then(processIteratorResult);\n            }\n            return messages.next().then(processIteratorResult);\n          }\n        }) \n        var sendClosure = (data, metadata, buffers, disposeOnDone) => {\n          return comm_promise.then((comm) => {\n            comm.send(data, metadata, buffers, disposeOnDone);\n          });\n        };\n        var comm = {\n          send: sendClosure\n        };\n      }\n      window.PyViz.comms[comm_id] = comm;\n      return comm;\n    }\n    window.PyViz.comm_manager = new JupyterCommManager();\n    \n\n\nvar JS_MIME_TYPE = 'application/javascript';\nvar HTML_MIME_TYPE = 'text/html';\nvar EXEC_MIME_TYPE = 'application/vnd.holoviews_exec.v0+json';\nvar CLASS_NAME = 'output';\n\n/**\n * Render data to the DOM node\n */\nfunction render(props, node) {\n  var div = document.createElement(\"div\");\n  var script = document.createElement(\"script\");\n  node.appendChild(div);\n  node.appendChild(script);\n}\n\n/**\n * Handle when a new output is added\n */\nfunction handle_add_output(event, handle) {\n  var output_area = handle.output_area;\n  var output = handle.output;\n  if ((output.data == undefined) || (!output.data.hasOwnProperty(EXEC_MIME_TYPE))) {\n    return\n  }\n  var id = output.metadata[EXEC_MIME_TYPE][\"id\"];\n  var toinsert = output_area.element.find(\".\" + CLASS_NAME.split(' ')[0]);\n  if (id !== undefined) {\n    var nchildren = toinsert.length;\n    var html_node = toinsert[nchildren-1].children[0];\n    html_node.innerHTML = output.data[HTML_MIME_TYPE];\n    var scripts = [];\n    var nodelist = html_node.querySelectorAll(\"script\");\n    for (var i in nodelist) {\n      if (nodelist.hasOwnProperty(i)) {\n        scripts.push(nodelist[i])\n      }\n    }\n\n    scripts.forEach( function (oldScript) {\n      var newScript = document.createElement(\"script\");\n      var attrs = [];\n      var nodemap = oldScript.attributes;\n      for (var j in nodemap) {\n        if (nodemap.hasOwnProperty(j)) {\n          attrs.push(nodemap[j])\n        }\n      }\n      attrs.forEach(function(attr) { newScript.setAttribute(attr.name, attr.value) });\n      newScript.appendChild(document.createTextNode(oldScript.innerHTML));\n      oldScript.parentNode.replaceChild(newScript, oldScript);\n    });\n    if (JS_MIME_TYPE in output.data) {\n      toinsert[nchildren-1].children[1].textContent = output.data[JS_MIME_TYPE];\n    }\n    output_area._hv_plot_id = id;\n    if ((window.Bokeh !== undefined) && (id in Bokeh.index)) {\n      window.PyViz.plot_index[id] = Bokeh.index[id];\n    } else {\n      window.PyViz.plot_index[id] = null;\n    }\n  } else if (output.metadata[EXEC_MIME_TYPE][\"server_id\"] !== undefined) {\n    var bk_div = document.createElement(\"div\");\n    bk_div.innerHTML = output.data[HTML_MIME_TYPE];\n    var script_attrs = bk_div.children[0].attributes;\n    for (var i = 0; i < script_attrs.length; i++) {\n      toinsert[toinsert.length - 1].childNodes[1].setAttribute(script_attrs[i].name, script_attrs[i].value);\n    }\n    // store reference to server id on output_area\n    output_area._bokeh_server_id = output.metadata[EXEC_MIME_TYPE][\"server_id\"];\n  }\n}\n\n/**\n * Handle when an output is cleared or removed\n */\nfunction handle_clear_output(event, handle) {\n  var id = handle.cell.output_area._hv_plot_id;\n  var server_id = handle.cell.output_area._bokeh_server_id;\n  if (((id === undefined) || !(id in PyViz.plot_index)) && (server_id !== undefined)) { return; }\n  var comm = window.PyViz.comm_manager.get_client_comm(\"hv-extension-comm\", \"hv-extension-comm\", function () {});\n  if (server_id !== null) {\n    comm.send({event_type: 'server_delete', 'id': server_id});\n    return;\n  } else if (comm !== null) {\n    comm.send({event_type: 'delete', 'id': id});\n  }\n  delete PyViz.plot_index[id];\n  if ((window.Bokeh !== undefined) & (id in window.Bokeh.index)) {\n    var doc = window.Bokeh.index[id].model.document\n    doc.clear();\n    const i = window.Bokeh.documents.indexOf(doc);\n    if (i > -1) {\n      window.Bokeh.documents.splice(i, 1);\n    }\n  }\n}\n\n/**\n * Handle kernel restart event\n */\nfunction handle_kernel_cleanup(event, handle) {\n  delete PyViz.comms[\"hv-extension-comm\"];\n  window.PyViz.plot_index = {}\n}\n\n/**\n * Handle update_display_data messages\n */\nfunction handle_update_output(event, handle) {\n  handle_clear_output(event, {cell: {output_area: handle.output_area}})\n  handle_add_output(event, handle)\n}\n\nfunction register_renderer(events, OutputArea) {\n  function append_mime(data, metadata, element) {\n    // create a DOM node to render to\n    var toinsert = this.create_output_subarea(\n    metadata,\n    CLASS_NAME,\n    EXEC_MIME_TYPE\n    );\n    this.keyboard_manager.register_events(toinsert);\n    // Render to node\n    var props = {data: data, metadata: metadata[EXEC_MIME_TYPE]};\n    render(props, toinsert[0]);\n    element.append(toinsert);\n    return toinsert\n  }\n\n  events.on('output_added.OutputArea', handle_add_output);\n  events.on('output_updated.OutputArea', handle_update_output);\n  events.on('clear_output.CodeCell', handle_clear_output);\n  events.on('delete.Cell', handle_clear_output);\n  events.on('kernel_ready.Kernel', handle_kernel_cleanup);\n\n  OutputArea.prototype.register_mime_type(EXEC_MIME_TYPE, append_mime, {\n    safe: true,\n    index: 0\n  });\n}\n\nif (window.Jupyter !== undefined) {\n  try {\n    var events = require('base/js/events');\n    var OutputArea = require('notebook/js/outputarea').OutputArea;\n    if (OutputArea.prototype.mime_types().indexOf(EXEC_MIME_TYPE) == -1) {\n      register_renderer(events, OutputArea);\n    }\n  } catch(err) {\n  }\n}\n"
     },
     "metadata": {},
     "output_type": "display_data"
    },
    {
     "data": {
      "text/html": [
       "<style>*[data-root-id],\n",
       "*[data-root-id] > * {\n",
       "  box-sizing: border-box;\n",
       "  font-family: var(--jp-ui-font-family);\n",
       "  font-size: var(--jp-ui-font-size1);\n",
       "  color: var(--vscode-editor-foreground, var(--jp-ui-font-color1));\n",
       "}\n",
       "\n",
       "/* Override VSCode background color */\n",
       ".cell-output-ipywidget-background:has(\n",
       "    > .cell-output-ipywidget-background > .lm-Widget > *[data-root-id]\n",
       "  ),\n",
       ".cell-output-ipywidget-background:has(> .lm-Widget > *[data-root-id]) {\n",
       "  background-color: transparent !important;\n",
       "}\n",
       "</style>"
      ]
     },
     "metadata": {},
     "output_type": "display_data"
    },
    {
     "data": {
      "application/vnd.holoviews_exec.v0+json": "",
      "text/html": [
       "<div id='b3416dfe-a76b-4727-9609-4a9169203d0f'>\n",
       "  <div id=\"c2431e91-d4da-408c-bb50-1bc1f5ee1d33\" data-root-id=\"b3416dfe-a76b-4727-9609-4a9169203d0f\" style=\"display: contents;\"></div>\n",
       "</div>\n",
       "<script type=\"application/javascript\">(function(root) {\n",
       "  var docs_json = {\"ea6a6c07-81a9-4175-8488-532240188025\":{\"version\":\"3.4.1\",\"title\":\"Bokeh Application\",\"roots\":[{\"type\":\"object\",\"name\":\"panel.models.browser.BrowserInfo\",\"id\":\"b3416dfe-a76b-4727-9609-4a9169203d0f\"},{\"type\":\"object\",\"name\":\"panel.models.comm_manager.CommManager\",\"id\":\"b4a2804b-fa6f-4ab1-823b-c2abecc2ab4b\",\"attributes\":{\"plot_id\":\"b3416dfe-a76b-4727-9609-4a9169203d0f\",\"comm_id\":\"381a8da0abb443428c9efc5dd092ac21\",\"client_comm_id\":\"0d1f46ebb3634398b242e347ca8e4bdf\"}}],\"defs\":[{\"type\":\"model\",\"name\":\"ReactiveHTML1\"},{\"type\":\"model\",\"name\":\"FlexBox1\",\"properties\":[{\"name\":\"align_content\",\"kind\":\"Any\",\"default\":\"flex-start\"},{\"name\":\"align_items\",\"kind\":\"Any\",\"default\":\"flex-start\"},{\"name\":\"flex_direction\",\"kind\":\"Any\",\"default\":\"row\"},{\"name\":\"flex_wrap\",\"kind\":\"Any\",\"default\":\"wrap\"},{\"name\":\"gap\",\"kind\":\"Any\",\"default\":\"\"},{\"name\":\"justify_content\",\"kind\":\"Any\",\"default\":\"flex-start\"}]},{\"type\":\"model\",\"name\":\"FloatPanel1\",\"properties\":[{\"name\":\"config\",\"kind\":\"Any\",\"default\":{\"type\":\"map\"}},{\"name\":\"contained\",\"kind\":\"Any\",\"default\":true},{\"name\":\"position\",\"kind\":\"Any\",\"default\":\"right-top\"},{\"name\":\"offsetx\",\"kind\":\"Any\",\"default\":null},{\"name\":\"offsety\",\"kind\":\"Any\",\"default\":null},{\"name\":\"theme\",\"kind\":\"Any\",\"default\":\"primary\"},{\"name\":\"status\",\"kind\":\"Any\",\"default\":\"normalized\"}]},{\"type\":\"model\",\"name\":\"GridStack1\",\"properties\":[{\"name\":\"mode\",\"kind\":\"Any\",\"default\":\"warn\"},{\"name\":\"ncols\",\"kind\":\"Any\",\"default\":null},{\"name\":\"nrows\",\"kind\":\"Any\",\"default\":null},{\"name\":\"allow_resize\",\"kind\":\"Any\",\"default\":true},{\"name\":\"allow_drag\",\"kind\":\"Any\",\"default\":true},{\"name\":\"state\",\"kind\":\"Any\",\"default\":[]}]},{\"type\":\"model\",\"name\":\"drag1\",\"properties\":[{\"name\":\"slider_width\",\"kind\":\"Any\",\"default\":5},{\"name\":\"slider_color\",\"kind\":\"Any\",\"default\":\"black\"},{\"name\":\"value\",\"kind\":\"Any\",\"default\":50}]},{\"type\":\"model\",\"name\":\"click1\",\"properties\":[{\"name\":\"terminal_output\",\"kind\":\"Any\",\"default\":\"\"},{\"name\":\"debug_name\",\"kind\":\"Any\",\"default\":\"\"},{\"name\":\"clears\",\"kind\":\"Any\",\"default\":0}]},{\"type\":\"model\",\"name\":\"FastWrapper1\",\"properties\":[{\"name\":\"object\",\"kind\":\"Any\",\"default\":null},{\"name\":\"style\",\"kind\":\"Any\",\"default\":null}]},{\"type\":\"model\",\"name\":\"NotificationAreaBase1\",\"properties\":[{\"name\":\"js_events\",\"kind\":\"Any\",\"default\":{\"type\":\"map\"}},{\"name\":\"position\",\"kind\":\"Any\",\"default\":\"bottom-right\"},{\"name\":\"_clear\",\"kind\":\"Any\",\"default\":0}]},{\"type\":\"model\",\"name\":\"NotificationArea1\",\"properties\":[{\"name\":\"js_events\",\"kind\":\"Any\",\"default\":{\"type\":\"map\"}},{\"name\":\"notifications\",\"kind\":\"Any\",\"default\":[]},{\"name\":\"position\",\"kind\":\"Any\",\"default\":\"bottom-right\"},{\"name\":\"_clear\",\"kind\":\"Any\",\"default\":0},{\"name\":\"types\",\"kind\":\"Any\",\"default\":[{\"type\":\"map\",\"entries\":[[\"type\",\"warning\"],[\"background\",\"#ffc107\"],[\"icon\",{\"type\":\"map\",\"entries\":[[\"className\",\"fas fa-exclamation-triangle\"],[\"tagName\",\"i\"],[\"color\",\"white\"]]}]]},{\"type\":\"map\",\"entries\":[[\"type\",\"info\"],[\"background\",\"#007bff\"],[\"icon\",{\"type\":\"map\",\"entries\":[[\"className\",\"fas fa-info-circle\"],[\"tagName\",\"i\"],[\"color\",\"white\"]]}]]}]}]},{\"type\":\"model\",\"name\":\"Notification\",\"properties\":[{\"name\":\"background\",\"kind\":\"Any\",\"default\":null},{\"name\":\"duration\",\"kind\":\"Any\",\"default\":3000},{\"name\":\"icon\",\"kind\":\"Any\",\"default\":null},{\"name\":\"message\",\"kind\":\"Any\",\"default\":\"\"},{\"name\":\"notification_type\",\"kind\":\"Any\",\"default\":null},{\"name\":\"_destroyed\",\"kind\":\"Any\",\"default\":false}]},{\"type\":\"model\",\"name\":\"TemplateActions1\",\"properties\":[{\"name\":\"open_modal\",\"kind\":\"Any\",\"default\":0},{\"name\":\"close_modal\",\"kind\":\"Any\",\"default\":0}]},{\"type\":\"model\",\"name\":\"BootstrapTemplateActions1\",\"properties\":[{\"name\":\"open_modal\",\"kind\":\"Any\",\"default\":0},{\"name\":\"close_modal\",\"kind\":\"Any\",\"default\":0}]},{\"type\":\"model\",\"name\":\"TemplateEditor1\",\"properties\":[{\"name\":\"layout\",\"kind\":\"Any\",\"default\":[]}]},{\"type\":\"model\",\"name\":\"MaterialTemplateActions1\",\"properties\":[{\"name\":\"open_modal\",\"kind\":\"Any\",\"default\":0},{\"name\":\"close_modal\",\"kind\":\"Any\",\"default\":0}]},{\"type\":\"model\",\"name\":\"copy_to_clipboard1\",\"properties\":[{\"name\":\"fill\",\"kind\":\"Any\",\"default\":\"none\"},{\"name\":\"value\",\"kind\":\"Any\",\"default\":null}]}]}};\n",
       "  var render_items = [{\"docid\":\"ea6a6c07-81a9-4175-8488-532240188025\",\"roots\":{\"b3416dfe-a76b-4727-9609-4a9169203d0f\":\"c2431e91-d4da-408c-bb50-1bc1f5ee1d33\"},\"root_ids\":[\"b3416dfe-a76b-4727-9609-4a9169203d0f\"]}];\n",
       "  var docs = Object.values(docs_json)\n",
       "  if (!docs) {\n",
       "    return\n",
       "  }\n",
       "  const py_version = docs[0].version.replace('rc', '-rc.').replace('.dev', '-dev.')\n",
       "  async function embed_document(root) {\n",
       "    var Bokeh = get_bokeh(root)\n",
       "    await Bokeh.embed.embed_items_notebook(docs_json, render_items);\n",
       "    for (const render_item of render_items) {\n",
       "      for (const root_id of render_item.root_ids) {\n",
       "\tconst id_el = document.getElementById(root_id)\n",
       "\tif (id_el.children.length && id_el.children[0].hasAttribute('data-root-id')) {\n",
       "\t  const root_el = id_el.children[0]\n",
       "\t  root_el.id = root_el.id + '-rendered'\n",
       "\t  for (const child of root_el.children) {\n",
       "            // Ensure JupyterLab does not capture keyboard shortcuts\n",
       "            // see: https://jupyterlab.readthedocs.io/en/4.1.x/extension/notebook.html#keyboard-interaction-model\n",
       "\t    child.setAttribute('data-lm-suppress-shortcuts', 'true')\n",
       "\t  }\n",
       "\t}\n",
       "      }\n",
       "    }\n",
       "  }\n",
       "  function get_bokeh(root) {\n",
       "    if (root.Bokeh === undefined) {\n",
       "      return null\n",
       "    } else if (root.Bokeh.version !== py_version) {\n",
       "      if (root.Bokeh.versions === undefined || !root.Bokeh.versions.has(py_version)) {\n",
       "\treturn null\n",
       "      }\n",
       "      return root.Bokeh.versions.get(py_version);\n",
       "    } else if (root.Bokeh.version === py_version) {\n",
       "      return root.Bokeh\n",
       "    }\n",
       "    return null\n",
       "  }\n",
       "  function is_loaded(root) {\n",
       "    var Bokeh = get_bokeh(root)\n",
       "    return (Bokeh != null && Bokeh.Panel !== undefined)\n",
       "  }\n",
       "  if (is_loaded(root)) {\n",
       "    embed_document(root);\n",
       "  } else {\n",
       "    var attempts = 0;\n",
       "    var timer = setInterval(function(root) {\n",
       "      if (is_loaded(root)) {\n",
       "        clearInterval(timer);\n",
       "        embed_document(root);\n",
       "      } else if (document.readyState == \"complete\") {\n",
       "        attempts++;\n",
       "        if (attempts > 200) {\n",
       "          clearInterval(timer);\n",
       "\t  var Bokeh = get_bokeh(root)\n",
       "\t  if (Bokeh == null || Bokeh.Panel == null) {\n",
       "            console.warn(\"Panel: ERROR: Unable to run Panel code because Bokeh or Panel library is missing\");\n",
       "\t  } else {\n",
       "\t    console.warn(\"Panel: WARNING: Attempting to render but not all required libraries could be resolved.\")\n",
       "\t    embed_document(root)\n",
       "\t  }\n",
       "        }\n",
       "      }\n",
       "    }, 25, root)\n",
       "  }\n",
       "})(window);</script>"
      ]
     },
     "metadata": {
      "application/vnd.holoviews_exec.v0+json": {
       "id": "b3416dfe-a76b-4727-9609-4a9169203d0f"
      }
     },
     "output_type": "display_data"
    }
   ],
   "source": [
    "from UDCUtils import UDCUtils\n",
    "utils = UDCUtils()\n",
    "\n",
    "pinecone_api_key = utils.get_pinecone_api_key()"
   ]
  },
  {
   "cell_type": "code",
   "execution_count": 6,
   "id": "fd99a44a-b930-458a-9097-448e6df261a2",
   "metadata": {},
   "outputs": [
    {
     "data": {
      "text/plain": [
       "'fcd3e082-248a-4a31-b1c0-80c255c9d687'"
      ]
     },
     "execution_count": 6,
     "metadata": {},
     "output_type": "execute_result"
    }
   ],
   "source": [
    "pinecone_api_key"
   ]
  },
  {
   "cell_type": "code",
   "execution_count": 7,
   "id": "2cdc26b0-3104-4aa5-90df-a469cda909d2",
   "metadata": {},
   "outputs": [
    {
     "name": "stdout",
     "output_type": "stream",
     "text": [
      "Help on method delete_index in module pinecone.control.pinecone:\n",
      "\n",
      "delete_index(name: str, timeout: Optional[int] = None) method of pinecone.control.pinecone.Pinecone instance\n",
      "    Deletes a Pinecone index.\n",
      "\n",
      "    Deleting an index is an irreversible operation. All data in the index will be lost.\n",
      "    When you use this command, a request is sent to the Pinecone control plane to delete\n",
      "    the index, but the termination is not synchronous because resources take a few moments to\n",
      "    be released.\n",
      "\n",
      "    You can check the status of the index by calling the `describe_index()` command.\n",
      "    With repeated polling of the describe_index command, you will see the index transition to a\n",
      "    `Terminating` state before eventually resulting in a 404 after it has been removed.\n",
      "\n",
      "    :param name: the name of the index.\n",
      "    :type name: str\n",
      "    :param timeout: Number of seconds to poll status checking whether the index has been deleted. If None,\n",
      "        wait indefinitely; if >=0, time out after this many seconds;\n",
      "        if -1, return immediately and do not wait. Default: None\n",
      "    :type timeout: int, optional\n",
      "\n"
     ]
    }
   ],
   "source": [
    "pinecone = Pinecone(api_key=pinecone_api_key)\n",
    "help(pinecone.delete_index)"
   ]
  },
  {
   "cell_type": "code",
   "execution_count": 8,
   "id": "d438b481-9975-4677-aa0d-69b7fbc76a02",
   "metadata": {},
   "outputs": [
    {
     "name": "stdout",
     "output_type": "stream",
     "text": [
      "dev-002-118d1-7f10-4f3c-a4a6-41d7caaf84cc is an existing index. Kindly delete it.\n"
     ]
    }
   ],
   "source": [
    "index_name = utils.create_dlai_index_name(\"dev-002\")\n",
    "#print(index_name)\n",
    "index_name = index_name[:-3]\n",
    "#print(index_name)\n",
    "if index_name in [index['name'] for index in pinecone.list_indexes()]:\n",
    "    print(f\"{index_name} is an existing index. Kindly delete it.\")\n",
    "    pinecone.delete_index(index_name)"
   ]
  },
  {
   "cell_type": "code",
   "execution_count": 9,
   "id": "9461a8f3-bb31-4891-9444-5d26e840d827",
   "metadata": {},
   "outputs": [
    {
     "name": "stdout",
     "output_type": "stream",
     "text": [
      "Sorry, cuda is not available. Proceeding ahead with CPU.\n"
     ]
    }
   ],
   "source": [
    "device = 'cuda' if torch.cuda.is_available() else 'cpu'\n",
    "\n",
    "if device!='cuda':\n",
    "    print(\"Sorry, cuda is not available. Proceeding ahead with CPU.\")"
   ]
  },
  {
   "cell_type": "code",
   "execution_count": 10,
   "id": "04143f1f-7f08-43ba-901c-182de6fb63f6",
   "metadata": {},
   "outputs": [
    {
     "ename": "PineconeApiException",
     "evalue": "(409)\nReason: Conflict\nHTTP response headers: HTTPHeaderDict({'content-type': 'text/plain; charset=utf-8', 'access-control-allow-origin': '*', 'vary': 'origin,access-control-request-method,access-control-request-headers', 'access-control-expose-headers': '*', 'x-pinecone-api-version': '2024-07', 'X-Cloud-Trace-Context': '01f23b91d12ae26148435e9aa51aafa9', 'Date': 'Fri, 16 Aug 2024 06:12:18 GMT', 'Server': 'Google Frontend', 'Content-Length': '85', 'Via': '1.1 google', 'Alt-Svc': 'h3=\":443\"; ma=2592000,h3-29=\":443\"; ma=2592000'})\nHTTP response body: {\"error\":{\"code\":\"ALREADY_EXISTS\",\"message\":\"Resource  already exists\"},\"status\":409}\n",
     "output_type": "error",
     "traceback": [
      "\u001b[0;31m---------------------------------------------------------------------------\u001b[0m",
      "\u001b[0;31mPineconeApiException\u001b[0m                      Traceback (most recent call last)",
      "Cell \u001b[0;32mIn[10], line 1\u001b[0m\n\u001b[0;32m----> 1\u001b[0m pinecone\u001b[38;5;241m.\u001b[39mcreate_index(\n\u001b[1;32m      2\u001b[0m     name\u001b[38;5;241m=\u001b[39mindex_name,\n\u001b[1;32m      3\u001b[0m     metric\u001b[38;5;241m=\u001b[39m\u001b[38;5;124m'\u001b[39m\u001b[38;5;124mdotproduct\u001b[39m\u001b[38;5;124m'\u001b[39m,\n\u001b[1;32m      4\u001b[0m     dimension\u001b[38;5;241m=\u001b[39m\u001b[38;5;241m512\u001b[39m,\n\u001b[1;32m      5\u001b[0m     spec\u001b[38;5;241m=\u001b[39mServerlessSpec(cloud\u001b[38;5;241m=\u001b[39m\u001b[38;5;124m'\u001b[39m\u001b[38;5;124maws\u001b[39m\u001b[38;5;124m'\u001b[39m, region\u001b[38;5;241m=\u001b[39m\u001b[38;5;124m'\u001b[39m\u001b[38;5;124mus-east-1\u001b[39m\u001b[38;5;124m'\u001b[39m)\n\u001b[1;32m      6\u001b[0m )\n",
      "File \u001b[0;32m/opt/anaconda3/lib/python3.12/site-packages/pinecone/control/pinecone.py:384\u001b[0m, in \u001b[0;36mPinecone.create_index\u001b[0;34m(self, name, dimension, spec, metric, timeout, deletion_protection)\u001b[0m\n\u001b[1;32m    381\u001b[0m \u001b[38;5;28;01melse\u001b[39;00m:\n\u001b[1;32m    382\u001b[0m     \u001b[38;5;28;01mraise\u001b[39;00m \u001b[38;5;167;01mTypeError\u001b[39;00m(\u001b[38;5;124m\"\u001b[39m\u001b[38;5;124mspec must be of type dict, ServerlessSpec, or PodSpec\u001b[39m\u001b[38;5;124m\"\u001b[39m)\n\u001b[0;32m--> 384\u001b[0m api_instance\u001b[38;5;241m.\u001b[39mcreate_index(\n\u001b[1;32m    385\u001b[0m     create_index_request\u001b[38;5;241m=\u001b[39mCreateIndexRequest(\n\u001b[1;32m    386\u001b[0m         name\u001b[38;5;241m=\u001b[39mname,\n\u001b[1;32m    387\u001b[0m         dimension\u001b[38;5;241m=\u001b[39mdimension,\n\u001b[1;32m    388\u001b[0m         metric\u001b[38;5;241m=\u001b[39mmetric,\n\u001b[1;32m    389\u001b[0m         spec\u001b[38;5;241m=\u001b[39mindex_spec,\n\u001b[1;32m    390\u001b[0m         deletion_protection\u001b[38;5;241m=\u001b[39mdp,\n\u001b[1;32m    391\u001b[0m     ),\n\u001b[1;32m    392\u001b[0m )\n\u001b[1;32m    394\u001b[0m \u001b[38;5;28;01mdef\u001b[39;00m \u001b[38;5;21mis_ready\u001b[39m():\n\u001b[1;32m    395\u001b[0m     status \u001b[38;5;241m=\u001b[39m \u001b[38;5;28mself\u001b[39m\u001b[38;5;241m.\u001b[39m_get_status(name)\n",
      "File \u001b[0;32m/opt/anaconda3/lib/python3.12/site-packages/pinecone/core/openapi/shared/api_client.py:761\u001b[0m, in \u001b[0;36mEndpoint.__call__\u001b[0;34m(self, *args, **kwargs)\u001b[0m\n\u001b[1;32m    750\u001b[0m \u001b[38;5;28;01mdef\u001b[39;00m \u001b[38;5;21m__call__\u001b[39m(\u001b[38;5;28mself\u001b[39m, \u001b[38;5;241m*\u001b[39margs, \u001b[38;5;241m*\u001b[39m\u001b[38;5;241m*\u001b[39mkwargs):\n\u001b[1;32m    751\u001b[0m \u001b[38;5;250m    \u001b[39m\u001b[38;5;124;03m\"\"\"This method is invoked when endpoints are called\u001b[39;00m\n\u001b[1;32m    752\u001b[0m \u001b[38;5;124;03m    Example:\u001b[39;00m\n\u001b[1;32m    753\u001b[0m \n\u001b[0;32m   (...)\u001b[0m\n\u001b[1;32m    759\u001b[0m \n\u001b[1;32m    760\u001b[0m \u001b[38;5;124;03m    \"\"\"\u001b[39;00m\n\u001b[0;32m--> 761\u001b[0m     \u001b[38;5;28;01mreturn\u001b[39;00m \u001b[38;5;28mself\u001b[39m\u001b[38;5;241m.\u001b[39mcallable(\u001b[38;5;28mself\u001b[39m, \u001b[38;5;241m*\u001b[39margs, \u001b[38;5;241m*\u001b[39m\u001b[38;5;241m*\u001b[39mkwargs)\n",
      "File \u001b[0;32m/opt/anaconda3/lib/python3.12/site-packages/pinecone/core/openapi/control/api/manage_indexes_api.py:273\u001b[0m, in \u001b[0;36mManageIndexesApi.__init__.<locals>.__create_index\u001b[0;34m(self, create_index_request, **kwargs)\u001b[0m\n\u001b[1;32m    271\u001b[0m kwargs[\u001b[38;5;124m\"\u001b[39m\u001b[38;5;124m_host_index\u001b[39m\u001b[38;5;124m\"\u001b[39m] \u001b[38;5;241m=\u001b[39m kwargs\u001b[38;5;241m.\u001b[39mget(\u001b[38;5;124m\"\u001b[39m\u001b[38;5;124m_host_index\u001b[39m\u001b[38;5;124m\"\u001b[39m)\n\u001b[1;32m    272\u001b[0m kwargs[\u001b[38;5;124m\"\u001b[39m\u001b[38;5;124mcreate_index_request\u001b[39m\u001b[38;5;124m\"\u001b[39m] \u001b[38;5;241m=\u001b[39m create_index_request\n\u001b[0;32m--> 273\u001b[0m \u001b[38;5;28;01mreturn\u001b[39;00m \u001b[38;5;28mself\u001b[39m\u001b[38;5;241m.\u001b[39mcall_with_http_info(\u001b[38;5;241m*\u001b[39m\u001b[38;5;241m*\u001b[39mkwargs)\n",
      "File \u001b[0;32m/opt/anaconda3/lib/python3.12/site-packages/pinecone/core/openapi/shared/api_client.py:819\u001b[0m, in \u001b[0;36mEndpoint.call_with_http_info\u001b[0;34m(self, **kwargs)\u001b[0m\n\u001b[1;32m    816\u001b[0m     header_list \u001b[38;5;241m=\u001b[39m \u001b[38;5;28mself\u001b[39m\u001b[38;5;241m.\u001b[39mapi_client\u001b[38;5;241m.\u001b[39mselect_header_content_type(content_type_headers_list)\n\u001b[1;32m    817\u001b[0m     params[\u001b[38;5;124m\"\u001b[39m\u001b[38;5;124mheader\u001b[39m\u001b[38;5;124m\"\u001b[39m][\u001b[38;5;124m\"\u001b[39m\u001b[38;5;124mContent-Type\u001b[39m\u001b[38;5;124m\"\u001b[39m] \u001b[38;5;241m=\u001b[39m header_list\n\u001b[0;32m--> 819\u001b[0m \u001b[38;5;28;01mreturn\u001b[39;00m \u001b[38;5;28mself\u001b[39m\u001b[38;5;241m.\u001b[39mapi_client\u001b[38;5;241m.\u001b[39mcall_api(\n\u001b[1;32m    820\u001b[0m     \u001b[38;5;28mself\u001b[39m\u001b[38;5;241m.\u001b[39msettings[\u001b[38;5;124m\"\u001b[39m\u001b[38;5;124mendpoint_path\u001b[39m\u001b[38;5;124m\"\u001b[39m],\n\u001b[1;32m    821\u001b[0m     \u001b[38;5;28mself\u001b[39m\u001b[38;5;241m.\u001b[39msettings[\u001b[38;5;124m\"\u001b[39m\u001b[38;5;124mhttp_method\u001b[39m\u001b[38;5;124m\"\u001b[39m],\n\u001b[1;32m    822\u001b[0m     params[\u001b[38;5;124m\"\u001b[39m\u001b[38;5;124mpath\u001b[39m\u001b[38;5;124m\"\u001b[39m],\n\u001b[1;32m    823\u001b[0m     params[\u001b[38;5;124m\"\u001b[39m\u001b[38;5;124mquery\u001b[39m\u001b[38;5;124m\"\u001b[39m],\n\u001b[1;32m    824\u001b[0m     params[\u001b[38;5;124m\"\u001b[39m\u001b[38;5;124mheader\u001b[39m\u001b[38;5;124m\"\u001b[39m],\n\u001b[1;32m    825\u001b[0m     body\u001b[38;5;241m=\u001b[39mparams[\u001b[38;5;124m\"\u001b[39m\u001b[38;5;124mbody\u001b[39m\u001b[38;5;124m\"\u001b[39m],\n\u001b[1;32m    826\u001b[0m     post_params\u001b[38;5;241m=\u001b[39mparams[\u001b[38;5;124m\"\u001b[39m\u001b[38;5;124mform\u001b[39m\u001b[38;5;124m\"\u001b[39m],\n\u001b[1;32m    827\u001b[0m     files\u001b[38;5;241m=\u001b[39mparams[\u001b[38;5;124m\"\u001b[39m\u001b[38;5;124mfile\u001b[39m\u001b[38;5;124m\"\u001b[39m],\n\u001b[1;32m    828\u001b[0m     response_type\u001b[38;5;241m=\u001b[39m\u001b[38;5;28mself\u001b[39m\u001b[38;5;241m.\u001b[39msettings[\u001b[38;5;124m\"\u001b[39m\u001b[38;5;124mresponse_type\u001b[39m\u001b[38;5;124m\"\u001b[39m],\n\u001b[1;32m    829\u001b[0m     auth_settings\u001b[38;5;241m=\u001b[39m\u001b[38;5;28mself\u001b[39m\u001b[38;5;241m.\u001b[39msettings[\u001b[38;5;124m\"\u001b[39m\u001b[38;5;124mauth\u001b[39m\u001b[38;5;124m\"\u001b[39m],\n\u001b[1;32m    830\u001b[0m     async_req\u001b[38;5;241m=\u001b[39mkwargs[\u001b[38;5;124m\"\u001b[39m\u001b[38;5;124masync_req\u001b[39m\u001b[38;5;124m\"\u001b[39m],\n\u001b[1;32m    831\u001b[0m     _check_type\u001b[38;5;241m=\u001b[39mkwargs[\u001b[38;5;124m\"\u001b[39m\u001b[38;5;124m_check_return_type\u001b[39m\u001b[38;5;124m\"\u001b[39m],\n\u001b[1;32m    832\u001b[0m     _return_http_data_only\u001b[38;5;241m=\u001b[39mkwargs[\u001b[38;5;124m\"\u001b[39m\u001b[38;5;124m_return_http_data_only\u001b[39m\u001b[38;5;124m\"\u001b[39m],\n\u001b[1;32m    833\u001b[0m     _preload_content\u001b[38;5;241m=\u001b[39mkwargs[\u001b[38;5;124m\"\u001b[39m\u001b[38;5;124m_preload_content\u001b[39m\u001b[38;5;124m\"\u001b[39m],\n\u001b[1;32m    834\u001b[0m     _request_timeout\u001b[38;5;241m=\u001b[39mkwargs[\u001b[38;5;124m\"\u001b[39m\u001b[38;5;124m_request_timeout\u001b[39m\u001b[38;5;124m\"\u001b[39m],\n\u001b[1;32m    835\u001b[0m     _host\u001b[38;5;241m=\u001b[39m_host,\n\u001b[1;32m    836\u001b[0m     collection_formats\u001b[38;5;241m=\u001b[39mparams[\u001b[38;5;124m\"\u001b[39m\u001b[38;5;124mcollection_format\u001b[39m\u001b[38;5;124m\"\u001b[39m],\n\u001b[1;32m    837\u001b[0m )\n",
      "File \u001b[0;32m/opt/anaconda3/lib/python3.12/site-packages/pinecone/core/openapi/shared/api_client.py:380\u001b[0m, in \u001b[0;36mApiClient.call_api\u001b[0;34m(self, resource_path, method, path_params, query_params, header_params, body, post_params, files, response_type, auth_settings, async_req, _return_http_data_only, collection_formats, _preload_content, _request_timeout, _host, _check_type)\u001b[0m\n\u001b[1;32m    326\u001b[0m \u001b[38;5;250m\u001b[39m\u001b[38;5;124;03m\"\"\"Makes the HTTP request (synchronous) and returns deserialized data.\u001b[39;00m\n\u001b[1;32m    327\u001b[0m \n\u001b[1;32m    328\u001b[0m \u001b[38;5;124;03mTo make an async_req request, set the async_req parameter.\u001b[39;00m\n\u001b[0;32m   (...)\u001b[0m\n\u001b[1;32m    377\u001b[0m \u001b[38;5;124;03m    then the method will return the response directly.\u001b[39;00m\n\u001b[1;32m    378\u001b[0m \u001b[38;5;124;03m\"\"\"\u001b[39;00m\n\u001b[1;32m    379\u001b[0m \u001b[38;5;28;01mif\u001b[39;00m \u001b[38;5;129;01mnot\u001b[39;00m async_req:\n\u001b[0;32m--> 380\u001b[0m     \u001b[38;5;28;01mreturn\u001b[39;00m \u001b[38;5;28mself\u001b[39m\u001b[38;5;241m.\u001b[39m__call_api(\n\u001b[1;32m    381\u001b[0m         resource_path,\n\u001b[1;32m    382\u001b[0m         method,\n\u001b[1;32m    383\u001b[0m         path_params,\n\u001b[1;32m    384\u001b[0m         query_params,\n\u001b[1;32m    385\u001b[0m         header_params,\n\u001b[1;32m    386\u001b[0m         body,\n\u001b[1;32m    387\u001b[0m         post_params,\n\u001b[1;32m    388\u001b[0m         files,\n\u001b[1;32m    389\u001b[0m         response_type,\n\u001b[1;32m    390\u001b[0m         auth_settings,\n\u001b[1;32m    391\u001b[0m         _return_http_data_only,\n\u001b[1;32m    392\u001b[0m         collection_formats,\n\u001b[1;32m    393\u001b[0m         _preload_content,\n\u001b[1;32m    394\u001b[0m         _request_timeout,\n\u001b[1;32m    395\u001b[0m         _host,\n\u001b[1;32m    396\u001b[0m         _check_type,\n\u001b[1;32m    397\u001b[0m     )\n\u001b[1;32m    399\u001b[0m \u001b[38;5;28;01mreturn\u001b[39;00m \u001b[38;5;28mself\u001b[39m\u001b[38;5;241m.\u001b[39mpool\u001b[38;5;241m.\u001b[39mapply_async(\n\u001b[1;32m    400\u001b[0m     \u001b[38;5;28mself\u001b[39m\u001b[38;5;241m.\u001b[39m__call_api,\n\u001b[1;32m    401\u001b[0m     (\n\u001b[0;32m   (...)\u001b[0m\n\u001b[1;32m    418\u001b[0m     ),\n\u001b[1;32m    419\u001b[0m )\n",
      "File \u001b[0;32m/opt/anaconda3/lib/python3.12/site-packages/pinecone/core/openapi/shared/api_client.py:187\u001b[0m, in \u001b[0;36mApiClient.__call_api\u001b[0;34m(self, resource_path, method, path_params, query_params, header_params, body, post_params, files, response_type, auth_settings, _return_http_data_only, collection_formats, _preload_content, _request_timeout, _host, _check_type)\u001b[0m\n\u001b[1;32m    185\u001b[0m \u001b[38;5;28;01mexcept\u001b[39;00m PineconeApiException \u001b[38;5;28;01mas\u001b[39;00m e:\n\u001b[1;32m    186\u001b[0m     e\u001b[38;5;241m.\u001b[39mbody \u001b[38;5;241m=\u001b[39m e\u001b[38;5;241m.\u001b[39mbody\u001b[38;5;241m.\u001b[39mdecode(\u001b[38;5;124m\"\u001b[39m\u001b[38;5;124mutf-8\u001b[39m\u001b[38;5;124m\"\u001b[39m)\n\u001b[0;32m--> 187\u001b[0m     \u001b[38;5;28;01mraise\u001b[39;00m e\n\u001b[1;32m    189\u001b[0m \u001b[38;5;28mself\u001b[39m\u001b[38;5;241m.\u001b[39mlast_response \u001b[38;5;241m=\u001b[39m response_data\n\u001b[1;32m    191\u001b[0m return_data \u001b[38;5;241m=\u001b[39m response_data\n",
      "File \u001b[0;32m/opt/anaconda3/lib/python3.12/site-packages/pinecone/core/openapi/shared/api_client.py:175\u001b[0m, in \u001b[0;36mApiClient.__call_api\u001b[0;34m(self, resource_path, method, path_params, query_params, header_params, body, post_params, files, response_type, auth_settings, _return_http_data_only, collection_formats, _preload_content, _request_timeout, _host, _check_type)\u001b[0m\n\u001b[1;32m    171\u001b[0m     url \u001b[38;5;241m=\u001b[39m _host \u001b[38;5;241m+\u001b[39m resource_path\n\u001b[1;32m    173\u001b[0m \u001b[38;5;28;01mtry\u001b[39;00m:\n\u001b[1;32m    174\u001b[0m     \u001b[38;5;66;03m# perform request and return response\u001b[39;00m\n\u001b[0;32m--> 175\u001b[0m     response_data \u001b[38;5;241m=\u001b[39m \u001b[38;5;28mself\u001b[39m\u001b[38;5;241m.\u001b[39mrequest(\n\u001b[1;32m    176\u001b[0m         method,\n\u001b[1;32m    177\u001b[0m         url,\n\u001b[1;32m    178\u001b[0m         query_params\u001b[38;5;241m=\u001b[39mquery_params,\n\u001b[1;32m    179\u001b[0m         headers\u001b[38;5;241m=\u001b[39mheader_params,\n\u001b[1;32m    180\u001b[0m         post_params\u001b[38;5;241m=\u001b[39mpost_params,\n\u001b[1;32m    181\u001b[0m         body\u001b[38;5;241m=\u001b[39mbody,\n\u001b[1;32m    182\u001b[0m         _preload_content\u001b[38;5;241m=\u001b[39m_preload_content,\n\u001b[1;32m    183\u001b[0m         _request_timeout\u001b[38;5;241m=\u001b[39m_request_timeout,\n\u001b[1;32m    184\u001b[0m     )\n\u001b[1;32m    185\u001b[0m \u001b[38;5;28;01mexcept\u001b[39;00m PineconeApiException \u001b[38;5;28;01mas\u001b[39;00m e:\n\u001b[1;32m    186\u001b[0m     e\u001b[38;5;241m.\u001b[39mbody \u001b[38;5;241m=\u001b[39m e\u001b[38;5;241m.\u001b[39mbody\u001b[38;5;241m.\u001b[39mdecode(\u001b[38;5;124m\"\u001b[39m\u001b[38;5;124mutf-8\u001b[39m\u001b[38;5;124m\"\u001b[39m)\n",
      "File \u001b[0;32m/opt/anaconda3/lib/python3.12/site-packages/pinecone/core/openapi/shared/api_client.py:460\u001b[0m, in \u001b[0;36mApiClient.request\u001b[0;34m(self, method, url, query_params, headers, post_params, body, _preload_content, _request_timeout)\u001b[0m\n\u001b[1;32m    450\u001b[0m     \u001b[38;5;28;01mreturn\u001b[39;00m \u001b[38;5;28mself\u001b[39m\u001b[38;5;241m.\u001b[39mrest_client\u001b[38;5;241m.\u001b[39mOPTIONS(\n\u001b[1;32m    451\u001b[0m         url,\n\u001b[1;32m    452\u001b[0m         query_params\u001b[38;5;241m=\u001b[39mquery_params,\n\u001b[0;32m   (...)\u001b[0m\n\u001b[1;32m    457\u001b[0m         body\u001b[38;5;241m=\u001b[39mbody,\n\u001b[1;32m    458\u001b[0m     )\n\u001b[1;32m    459\u001b[0m \u001b[38;5;28;01melif\u001b[39;00m method \u001b[38;5;241m==\u001b[39m \u001b[38;5;124m\"\u001b[39m\u001b[38;5;124mPOST\u001b[39m\u001b[38;5;124m\"\u001b[39m:\n\u001b[0;32m--> 460\u001b[0m     \u001b[38;5;28;01mreturn\u001b[39;00m \u001b[38;5;28mself\u001b[39m\u001b[38;5;241m.\u001b[39mrest_client\u001b[38;5;241m.\u001b[39mPOST(\n\u001b[1;32m    461\u001b[0m         url,\n\u001b[1;32m    462\u001b[0m         query_params\u001b[38;5;241m=\u001b[39mquery_params,\n\u001b[1;32m    463\u001b[0m         headers\u001b[38;5;241m=\u001b[39mheaders,\n\u001b[1;32m    464\u001b[0m         post_params\u001b[38;5;241m=\u001b[39mpost_params,\n\u001b[1;32m    465\u001b[0m         _preload_content\u001b[38;5;241m=\u001b[39m_preload_content,\n\u001b[1;32m    466\u001b[0m         _request_timeout\u001b[38;5;241m=\u001b[39m_request_timeout,\n\u001b[1;32m    467\u001b[0m         body\u001b[38;5;241m=\u001b[39mbody,\n\u001b[1;32m    468\u001b[0m     )\n\u001b[1;32m    469\u001b[0m \u001b[38;5;28;01melif\u001b[39;00m method \u001b[38;5;241m==\u001b[39m \u001b[38;5;124m\"\u001b[39m\u001b[38;5;124mPUT\u001b[39m\u001b[38;5;124m\"\u001b[39m:\n\u001b[1;32m    470\u001b[0m     \u001b[38;5;28;01mreturn\u001b[39;00m \u001b[38;5;28mself\u001b[39m\u001b[38;5;241m.\u001b[39mrest_client\u001b[38;5;241m.\u001b[39mPUT(\n\u001b[1;32m    471\u001b[0m         url,\n\u001b[1;32m    472\u001b[0m         query_params\u001b[38;5;241m=\u001b[39mquery_params,\n\u001b[0;32m   (...)\u001b[0m\n\u001b[1;32m    477\u001b[0m         body\u001b[38;5;241m=\u001b[39mbody,\n\u001b[1;32m    478\u001b[0m     )\n",
      "File \u001b[0;32m/opt/anaconda3/lib/python3.12/site-packages/pinecone/core/openapi/shared/rest.py:345\u001b[0m, in \u001b[0;36mRESTClientObject.POST\u001b[0;34m(self, url, headers, query_params, post_params, body, _preload_content, _request_timeout)\u001b[0m\n\u001b[1;32m    335\u001b[0m \u001b[38;5;28;01mdef\u001b[39;00m \u001b[38;5;21mPOST\u001b[39m(\n\u001b[1;32m    336\u001b[0m     \u001b[38;5;28mself\u001b[39m,\n\u001b[1;32m    337\u001b[0m     url,\n\u001b[0;32m   (...)\u001b[0m\n\u001b[1;32m    343\u001b[0m     _request_timeout\u001b[38;5;241m=\u001b[39m\u001b[38;5;28;01mNone\u001b[39;00m,\n\u001b[1;32m    344\u001b[0m ):\n\u001b[0;32m--> 345\u001b[0m     \u001b[38;5;28;01mreturn\u001b[39;00m \u001b[38;5;28mself\u001b[39m\u001b[38;5;241m.\u001b[39mrequest(\n\u001b[1;32m    346\u001b[0m         \u001b[38;5;124m\"\u001b[39m\u001b[38;5;124mPOST\u001b[39m\u001b[38;5;124m\"\u001b[39m,\n\u001b[1;32m    347\u001b[0m         url,\n\u001b[1;32m    348\u001b[0m         headers\u001b[38;5;241m=\u001b[39mheaders,\n\u001b[1;32m    349\u001b[0m         query_params\u001b[38;5;241m=\u001b[39mquery_params,\n\u001b[1;32m    350\u001b[0m         post_params\u001b[38;5;241m=\u001b[39mpost_params,\n\u001b[1;32m    351\u001b[0m         _preload_content\u001b[38;5;241m=\u001b[39m_preload_content,\n\u001b[1;32m    352\u001b[0m         _request_timeout\u001b[38;5;241m=\u001b[39m_request_timeout,\n\u001b[1;32m    353\u001b[0m         body\u001b[38;5;241m=\u001b[39mbody,\n\u001b[1;32m    354\u001b[0m     )\n",
      "File \u001b[0;32m/opt/anaconda3/lib/python3.12/site-packages/pinecone/core/openapi/shared/rest.py:279\u001b[0m, in \u001b[0;36mRESTClientObject.request\u001b[0;34m(self, method, url, query_params, headers, body, post_params, _preload_content, _request_timeout)\u001b[0m\n\u001b[1;32m    276\u001b[0m     \u001b[38;5;28;01mif\u001b[39;00m \u001b[38;5;241m500\u001b[39m \u001b[38;5;241m<\u001b[39m\u001b[38;5;241m=\u001b[39m r\u001b[38;5;241m.\u001b[39mstatus \u001b[38;5;241m<\u001b[39m\u001b[38;5;241m=\u001b[39m \u001b[38;5;241m599\u001b[39m:\n\u001b[1;32m    277\u001b[0m         \u001b[38;5;28;01mraise\u001b[39;00m ServiceException(http_resp\u001b[38;5;241m=\u001b[39mr)\n\u001b[0;32m--> 279\u001b[0m     \u001b[38;5;28;01mraise\u001b[39;00m PineconeApiException(http_resp\u001b[38;5;241m=\u001b[39mr)\n\u001b[1;32m    281\u001b[0m \u001b[38;5;28;01mreturn\u001b[39;00m r\n",
      "\u001b[0;31mPineconeApiException\u001b[0m: (409)\nReason: Conflict\nHTTP response headers: HTTPHeaderDict({'content-type': 'text/plain; charset=utf-8', 'access-control-allow-origin': '*', 'vary': 'origin,access-control-request-method,access-control-request-headers', 'access-control-expose-headers': '*', 'x-pinecone-api-version': '2024-07', 'X-Cloud-Trace-Context': '01f23b91d12ae26148435e9aa51aafa9', 'Date': 'Fri, 16 Aug 2024 06:12:18 GMT', 'Server': 'Google Frontend', 'Content-Length': '85', 'Via': '1.1 google', 'Alt-Svc': 'h3=\":443\"; ma=2592000,h3-29=\":443\"; ma=2592000'})\nHTTP response body: {\"error\":{\"code\":\"ALREADY_EXISTS\",\"message\":\"Resource  already exists\"},\"status\":409}\n"
     ]
    }
   ],
   "source": [
    "pinecone.create_index(\n",
    "    name=index_name,\n",
    "    metric='dotproduct',\n",
    "    dimension=512,\n",
    "    spec=ServerlessSpec(cloud='aws', region='us-east-1')\n",
    ")"
   ]
  },
  {
   "cell_type": "code",
   "execution_count": 12,
   "id": "c582ebf4-5db1-481e-8341-16a490a17746",
   "metadata": {},
   "outputs": [],
   "source": [
    "index = pinecone.Index(index_name)"
   ]
  },
  {
   "cell_type": "code",
   "execution_count": null,
   "id": "6040c709-3512-43c7-a588-50b0fd50f7e5",
   "metadata": {},
   "outputs": [],
   "source": [
    "help(load_dataset)"
   ]
  },
  {
   "cell_type": "code",
   "execution_count": null,
   "id": "e8811a12-004a-4495-8d78-8ee2945266fc",
   "metadata": {},
   "outputs": [],
   "source": [
    "#pip install ipywidgets==7.7.2"
   ]
  },
  {
   "cell_type": "code",
   "execution_count": 11,
   "id": "228be3f1-52bb-451a-97a7-7d005096d415",
   "metadata": {},
   "outputs": [
    {
     "data": {
      "text/plain": [
       "Dataset({\n",
       "    features: ['id', 'gender', 'masterCategory', 'subCategory', 'articleType', 'baseColour', 'season', 'year', 'usage', 'productDisplayName', 'image'],\n",
       "    num_rows: 44072\n",
       "})"
      ]
     },
     "execution_count": 11,
     "metadata": {},
     "output_type": "execute_result"
    }
   ],
   "source": [
    "fashion = load_dataset(\n",
    "    \"ashraq/fashion-product-images-small\",\n",
    "    split=\"train\"\n",
    ")\n",
    "fashion"
   ]
  },
  {
   "cell_type": "code",
   "execution_count": 15,
   "id": "57c5f2e6-2a9a-4050-b38b-6cc289397604",
   "metadata": {},
   "outputs": [
    {
     "data": {
      "image/jpeg": "[encoded data removed]",
      "image/png": "[encoded data removed]",
      "text/plain": [
       "<PIL.JpegImagePlugin.JpegImageFile image mode=RGB size=60x80>"
      ]
     },
     "execution_count": 15,
     "metadata": {},
     "output_type": "execute_result"
    }
   ],
   "source": [
    "images = fashion['image']\n",
    "images[0]"
   ]
  },
  {
   "cell_type": "code",
   "execution_count": 16,
   "id": "e9548a20-e880-4476-bb69-7d86ad5963b7",
   "metadata": {},
   "outputs": [
    {
     "data": {
      "text/plain": [
       "{'id': 15970,\n",
       " 'gender': 'Men',\n",
       " 'masterCategory': 'Apparel',\n",
       " 'subCategory': 'Topwear',\n",
       " 'articleType': 'Shirts',\n",
       " 'baseColour': 'Navy Blue',\n",
       " 'season': 'Fall',\n",
       " 'year': 2011.0,\n",
       " 'usage': 'Casual',\n",
       " 'productDisplayName': 'Turtle Check Men Navy Blue Shirt'}"
      ]
     },
     "execution_count": 16,
     "metadata": {},
     "output_type": "execute_result"
    }
   ],
   "source": [
    "metadata = fashion.remove_columns('image')\n",
    "metadata[0]"
   ]
  },
  {
   "cell_type": "code",
   "execution_count": 17,
   "id": "5083fc6e-9dff-46ad-8075-274e4eb6c567",
   "metadata": {},
   "outputs": [
    {
     "data": {
      "text/html": [
       "<div>\n",
       "<style scoped>\n",
       "    .dataframe tbody tr th:only-of-type {\n",
       "        vertical-align: middle;\n",
       "    }\n",
       "\n",
       "    .dataframe tbody tr th {\n",
       "        vertical-align: top;\n",
       "    }\n",
       "\n",
       "    .dataframe thead th {\n",
       "        text-align: right;\n",
       "    }\n",
       "</style>\n",
       "<table border=\"1\" class=\"dataframe\">\n",
       "  <thead>\n",
       "    <tr style=\"text-align: right;\">\n",
       "      <th></th>\n",
       "      <th>id</th>\n",
       "      <th>gender</th>\n",
       "      <th>masterCategory</th>\n",
       "      <th>subCategory</th>\n",
       "      <th>articleType</th>\n",
       "      <th>baseColour</th>\n",
       "      <th>season</th>\n",
       "      <th>year</th>\n",
       "      <th>usage</th>\n",
       "      <th>productDisplayName</th>\n",
       "    </tr>\n",
       "  </thead>\n",
       "  <tbody>\n",
       "    <tr>\n",
       "      <th>0</th>\n",
       "      <td>15970</td>\n",
       "      <td>Men</td>\n",
       "      <td>Apparel</td>\n",
       "      <td>Topwear</td>\n",
       "      <td>Shirts</td>\n",
       "      <td>Navy Blue</td>\n",
       "      <td>Fall</td>\n",
       "      <td>2011.0</td>\n",
       "      <td>Casual</td>\n",
       "      <td>Turtle Check Men Navy Blue Shirt</td>\n",
       "    </tr>\n",
       "    <tr>\n",
       "      <th>1</th>\n",
       "      <td>39386</td>\n",
       "      <td>Men</td>\n",
       "      <td>Apparel</td>\n",
       "      <td>Bottomwear</td>\n",
       "      <td>Jeans</td>\n",
       "      <td>Blue</td>\n",
       "      <td>Summer</td>\n",
       "      <td>2012.0</td>\n",
       "      <td>Casual</td>\n",
       "      <td>Peter England Men Party Blue Jeans</td>\n",
       "    </tr>\n",
       "    <tr>\n",
       "      <th>2</th>\n",
       "      <td>59263</td>\n",
       "      <td>Women</td>\n",
       "      <td>Accessories</td>\n",
       "      <td>Watches</td>\n",
       "      <td>Watches</td>\n",
       "      <td>Silver</td>\n",
       "      <td>Winter</td>\n",
       "      <td>2016.0</td>\n",
       "      <td>Casual</td>\n",
       "      <td>Titan Women Silver Watch</td>\n",
       "    </tr>\n",
       "    <tr>\n",
       "      <th>3</th>\n",
       "      <td>21379</td>\n",
       "      <td>Men</td>\n",
       "      <td>Apparel</td>\n",
       "      <td>Bottomwear</td>\n",
       "      <td>Track Pants</td>\n",
       "      <td>Black</td>\n",
       "      <td>Fall</td>\n",
       "      <td>2011.0</td>\n",
       "      <td>Casual</td>\n",
       "      <td>Manchester United Men Solid Black Track Pants</td>\n",
       "    </tr>\n",
       "    <tr>\n",
       "      <th>4</th>\n",
       "      <td>53759</td>\n",
       "      <td>Men</td>\n",
       "      <td>Apparel</td>\n",
       "      <td>Topwear</td>\n",
       "      <td>Tshirts</td>\n",
       "      <td>Grey</td>\n",
       "      <td>Summer</td>\n",
       "      <td>2012.0</td>\n",
       "      <td>Casual</td>\n",
       "      <td>Puma Men Grey T-shirt</td>\n",
       "    </tr>\n",
       "  </tbody>\n",
       "</table>\n",
       "</div>"
      ],
      "text/plain": [
       "      id gender masterCategory subCategory  articleType baseColour  season  \\\n",
       "0  15970    Men        Apparel     Topwear       Shirts  Navy Blue    Fall   \n",
       "1  39386    Men        Apparel  Bottomwear        Jeans       Blue  Summer   \n",
       "2  59263  Women    Accessories     Watches      Watches     Silver  Winter   \n",
       "3  21379    Men        Apparel  Bottomwear  Track Pants      Black    Fall   \n",
       "4  53759    Men        Apparel     Topwear      Tshirts       Grey  Summer   \n",
       "\n",
       "     year   usage                             productDisplayName  \n",
       "0  2011.0  Casual               Turtle Check Men Navy Blue Shirt  \n",
       "1  2012.0  Casual             Peter England Men Party Blue Jeans  \n",
       "2  2016.0  Casual                       Titan Women Silver Watch  \n",
       "3  2011.0  Casual  Manchester United Men Solid Black Track Pants  \n",
       "4  2012.0  Casual                          Puma Men Grey T-shirt  "
      ]
     },
     "execution_count": 17,
     "metadata": {},
     "output_type": "execute_result"
    }
   ],
   "source": [
    "metadata = metadata.to_pandas()\n",
    "metadata.head()"
   ]
  },
  {
   "cell_type": "markdown",
   "id": "e5cec437-8358-4c18-86c3-5311aadd1879",
   "metadata": {},
   "source": [
    "### Create sparse vector using BM25Encoder"
   ]
  },
  {
   "cell_type": "code",
   "execution_count": 18,
   "id": "5d6d2676-6edf-4e87-a7f1-68d7c67dac0f",
   "metadata": {},
   "outputs": [
    {
     "name": "stderr",
     "output_type": "stream",
     "text": [
      "[nltk_data] Downloading package stopwords to /Users/sana/nltk_data...\n",
      "[nltk_data]   Unzipping corpora/stopwords.zip.\n"
     ]
    },
    {
     "data": {
      "application/vnd.jupyter.widget-view+json": {
       "model_id": "ab678119e06f498e893b587a6e04435f",
       "version_major": 2,
       "version_minor": 0
      },
      "text/plain": [
       "  0%|          | 0/44072 [00:00<?, ?it/s]"
      ]
     },
     "metadata": {},
     "output_type": "display_data"
    },
    {
     "data": {
      "text/plain": [
       "'Turtle Check Men Navy Blue Shirt'"
      ]
     },
     "execution_count": 18,
     "metadata": {},
     "output_type": "execute_result"
    }
   ],
   "source": [
    "bm25encoder = BM25Encoder()\n",
    "bm25encoder.fit(metadata['productDisplayName'])\n",
    "metadata['productDisplayName'][0]"
   ]
  },
  {
   "cell_type": "code",
   "execution_count": 19,
   "id": "6d9ce4c0-07ce-4eae-a3cf-86d05aa859e8",
   "metadata": {},
   "outputs": [
    {
     "data": {
      "text/plain": [
       "{'indices': [23789636,\n",
       "  1830646559,\n",
       "  632192512,\n",
       "  931643408,\n",
       "  3905155331,\n",
       "  3828986392],\n",
       " 'values': [0.4449638258432887,\n",
       "  0.4449638258432887,\n",
       "  0.4449638258432887,\n",
       "  0.4449638258432887,\n",
       "  0.4449638258432887,\n",
       "  0.4449638258432887]}"
      ]
     },
     "execution_count": 19,
     "metadata": {},
     "output_type": "execute_result"
    }
   ],
   "source": [
    "bm25encoder.encode_queries(metadata['productDisplayName'][0])\n",
    "bm25encoder.encode_documents(metadata['productDisplayName'][0])"
   ]
  },
  {
   "cell_type": "markdown",
   "id": "f75cff7a-7e6c-47d7-a7d4-c8b9b2956196",
   "metadata": {},
   "source": [
    "### Create dense vector using CLIP"
   ]
  },
  {
   "cell_type": "code",
   "execution_count": 22,
   "id": "565a1ea8-8cdb-4f75-878c-60c927ce9e4c",
   "metadata": {},
   "outputs": [
    {
     "name": "stderr",
     "output_type": "stream",
     "text": [
      "huggingface/tokenizers: The current process just got forked, after parallelism has already been used. Disabling parallelism to avoid deadlocks...\n",
      "To disable this warning, you can either:\n",
      "\t- Avoid using `tokenizers` before the fork if possible\n",
      "\t- Explicitly set the environment variable TOKENIZERS_PARALLELISM=(true | false)\n"
     ]
    },
    {
     "name": "stdout",
     "output_type": "stream",
     "text": [
      "Requirement already satisfied: ipywidgets==7.7.2 in /opt/anaconda3/lib/python3.12/site-packages (7.7.2)\n",
      "Requirement already satisfied: ipykernel>=4.5.1 in /opt/anaconda3/lib/python3.12/site-packages (from ipywidgets==7.7.2) (6.28.0)\n",
      "Requirement already satisfied: ipython-genutils~=0.2.0 in /opt/anaconda3/lib/python3.12/site-packages (from ipywidgets==7.7.2) (0.2.0)\n",
      "Requirement already satisfied: traitlets>=4.3.1 in /opt/anaconda3/lib/python3.12/site-packages (from ipywidgets==7.7.2) (5.14.3)\n",
      "Requirement already satisfied: widgetsnbextension~=3.6.0 in /opt/anaconda3/lib/python3.12/site-packages (from ipywidgets==7.7.2) (3.6.8)\n",
      "Requirement already satisfied: ipython>=4.0.0 in /opt/anaconda3/lib/python3.12/site-packages (from ipywidgets==7.7.2) (8.25.0)\n",
      "Requirement already satisfied: jupyterlab-widgets<3,>=1.0.0 in /opt/anaconda3/lib/python3.12/site-packages (from ipywidgets==7.7.2) (1.1.9)\n",
      "Requirement already satisfied: appnope in /opt/anaconda3/lib/python3.12/site-packages (from ipykernel>=4.5.1->ipywidgets==7.7.2) (0.1.3)\n",
      "Requirement already satisfied: comm>=0.1.1 in /opt/anaconda3/lib/python3.12/site-packages (from ipykernel>=4.5.1->ipywidgets==7.7.2) (0.2.1)\n",
      "Requirement already satisfied: debugpy>=1.6.5 in /opt/anaconda3/lib/python3.12/site-packages (from ipykernel>=4.5.1->ipywidgets==7.7.2) (1.6.7)\n",
      "Requirement already satisfied: jupyter-client>=6.1.12 in /opt/anaconda3/lib/python3.12/site-packages (from ipykernel>=4.5.1->ipywidgets==7.7.2) (8.6.0)\n",
      "Requirement already satisfied: jupyter-core!=5.0.*,>=4.12 in /opt/anaconda3/lib/python3.12/site-packages (from ipykernel>=4.5.1->ipywidgets==7.7.2) (5.7.2)\n",
      "Requirement already satisfied: matplotlib-inline>=0.1 in /opt/anaconda3/lib/python3.12/site-packages (from ipykernel>=4.5.1->ipywidgets==7.7.2) (0.1.6)\n",
      "Requirement already satisfied: nest-asyncio in /opt/anaconda3/lib/python3.12/site-packages (from ipykernel>=4.5.1->ipywidgets==7.7.2) (1.6.0)\n",
      "Requirement already satisfied: packaging in /opt/anaconda3/lib/python3.12/site-packages (from ipykernel>=4.5.1->ipywidgets==7.7.2) (23.2)\n",
      "Requirement already satisfied: psutil in /opt/anaconda3/lib/python3.12/site-packages (from ipykernel>=4.5.1->ipywidgets==7.7.2) (5.9.0)\n",
      "Requirement already satisfied: pyzmq>=24 in /opt/anaconda3/lib/python3.12/site-packages (from ipykernel>=4.5.1->ipywidgets==7.7.2) (25.1.2)\n",
      "Requirement already satisfied: tornado>=6.1 in /opt/anaconda3/lib/python3.12/site-packages (from ipykernel>=4.5.1->ipywidgets==7.7.2) (6.4.1)\n",
      "Requirement already satisfied: decorator in /opt/anaconda3/lib/python3.12/site-packages (from ipython>=4.0.0->ipywidgets==7.7.2) (5.1.1)\n",
      "Requirement already satisfied: jedi>=0.16 in /opt/anaconda3/lib/python3.12/site-packages (from ipython>=4.0.0->ipywidgets==7.7.2) (0.18.1)\n",
      "Requirement already satisfied: prompt-toolkit<3.1.0,>=3.0.41 in /opt/anaconda3/lib/python3.12/site-packages (from ipython>=4.0.0->ipywidgets==7.7.2) (3.0.43)\n",
      "Requirement already satisfied: pygments>=2.4.0 in /opt/anaconda3/lib/python3.12/site-packages (from ipython>=4.0.0->ipywidgets==7.7.2) (2.15.1)\n",
      "Requirement already satisfied: stack-data in /opt/anaconda3/lib/python3.12/site-packages (from ipython>=4.0.0->ipywidgets==7.7.2) (0.2.0)\n",
      "Requirement already satisfied: pexpect>4.3 in /opt/anaconda3/lib/python3.12/site-packages (from ipython>=4.0.0->ipywidgets==7.7.2) (4.8.0)\n",
      "Requirement already satisfied: notebook>=4.4.1 in /opt/anaconda3/lib/python3.12/site-packages (from widgetsnbextension~=3.6.0->ipywidgets==7.7.2) (7.0.8)\n",
      "Requirement already satisfied: parso<0.9.0,>=0.8.0 in /opt/anaconda3/lib/python3.12/site-packages (from jedi>=0.16->ipython>=4.0.0->ipywidgets==7.7.2) (0.8.3)\n",
      "Requirement already satisfied: python-dateutil>=2.8.2 in /opt/anaconda3/lib/python3.12/site-packages (from jupyter-client>=6.1.12->ipykernel>=4.5.1->ipywidgets==7.7.2) (2.9.0.post0)\n",
      "Requirement already satisfied: platformdirs>=2.5 in /opt/anaconda3/lib/python3.12/site-packages (from jupyter-core!=5.0.*,>=4.12->ipykernel>=4.5.1->ipywidgets==7.7.2) (3.10.0)\n",
      "Requirement already satisfied: jupyter-server<3,>=2.4.0 in /opt/anaconda3/lib/python3.12/site-packages (from notebook>=4.4.1->widgetsnbextension~=3.6.0->ipywidgets==7.7.2) (2.14.1)\n",
      "Requirement already satisfied: jupyterlab-server<3,>=2.22.1 in /opt/anaconda3/lib/python3.12/site-packages (from notebook>=4.4.1->widgetsnbextension~=3.6.0->ipywidgets==7.7.2) (2.25.1)\n",
      "Requirement already satisfied: jupyterlab<4.1,>=4.0.2 in /opt/anaconda3/lib/python3.12/site-packages (from notebook>=4.4.1->widgetsnbextension~=3.6.0->ipywidgets==7.7.2) (4.0.11)\n",
      "Requirement already satisfied: notebook-shim<0.3,>=0.2 in /opt/anaconda3/lib/python3.12/site-packages (from notebook>=4.4.1->widgetsnbextension~=3.6.0->ipywidgets==7.7.2) (0.2.3)\n",
      "Requirement already satisfied: ptyprocess>=0.5 in /opt/anaconda3/lib/python3.12/site-packages (from pexpect>4.3->ipython>=4.0.0->ipywidgets==7.7.2) (0.7.0)\n",
      "Requirement already satisfied: wcwidth in /opt/anaconda3/lib/python3.12/site-packages (from prompt-toolkit<3.1.0,>=3.0.41->ipython>=4.0.0->ipywidgets==7.7.2) (0.2.5)\n",
      "Requirement already satisfied: executing in /opt/anaconda3/lib/python3.12/site-packages (from stack-data->ipython>=4.0.0->ipywidgets==7.7.2) (0.8.3)\n",
      "Requirement already satisfied: asttokens in /opt/anaconda3/lib/python3.12/site-packages (from stack-data->ipython>=4.0.0->ipywidgets==7.7.2) (2.0.5)\n",
      "Requirement already satisfied: pure-eval in /opt/anaconda3/lib/python3.12/site-packages (from stack-data->ipython>=4.0.0->ipywidgets==7.7.2) (0.2.2)\n",
      "Requirement already satisfied: anyio>=3.1.0 in /opt/anaconda3/lib/python3.12/site-packages (from jupyter-server<3,>=2.4.0->notebook>=4.4.1->widgetsnbextension~=3.6.0->ipywidgets==7.7.2) (4.2.0)\n",
      "Requirement already satisfied: argon2-cffi>=21.1 in /opt/anaconda3/lib/python3.12/site-packages (from jupyter-server<3,>=2.4.0->notebook>=4.4.1->widgetsnbextension~=3.6.0->ipywidgets==7.7.2) (21.3.0)\n",
      "Requirement already satisfied: jinja2>=3.0.3 in /opt/anaconda3/lib/python3.12/site-packages (from jupyter-server<3,>=2.4.0->notebook>=4.4.1->widgetsnbextension~=3.6.0->ipywidgets==7.7.2) (3.1.4)\n",
      "Requirement already satisfied: jupyter-events>=0.9.0 in /opt/anaconda3/lib/python3.12/site-packages (from jupyter-server<3,>=2.4.0->notebook>=4.4.1->widgetsnbextension~=3.6.0->ipywidgets==7.7.2) (0.10.0)\n",
      "Requirement already satisfied: jupyter-server-terminals>=0.4.4 in /opt/anaconda3/lib/python3.12/site-packages (from jupyter-server<3,>=2.4.0->notebook>=4.4.1->widgetsnbextension~=3.6.0->ipywidgets==7.7.2) (0.4.4)\n",
      "Requirement already satisfied: nbconvert>=6.4.4 in /opt/anaconda3/lib/python3.12/site-packages (from jupyter-server<3,>=2.4.0->notebook>=4.4.1->widgetsnbextension~=3.6.0->ipywidgets==7.7.2) (7.10.0)\n",
      "Requirement already satisfied: nbformat>=5.3.0 in /opt/anaconda3/lib/python3.12/site-packages (from jupyter-server<3,>=2.4.0->notebook>=4.4.1->widgetsnbextension~=3.6.0->ipywidgets==7.7.2) (5.9.2)\n",
      "Requirement already satisfied: overrides>=5.0 in /opt/anaconda3/lib/python3.12/site-packages (from jupyter-server<3,>=2.4.0->notebook>=4.4.1->widgetsnbextension~=3.6.0->ipywidgets==7.7.2) (7.4.0)\n",
      "Requirement already satisfied: prometheus-client>=0.9 in /opt/anaconda3/lib/python3.12/site-packages (from jupyter-server<3,>=2.4.0->notebook>=4.4.1->widgetsnbextension~=3.6.0->ipywidgets==7.7.2) (0.14.1)\n",
      "Requirement already satisfied: send2trash>=1.8.2 in /opt/anaconda3/lib/python3.12/site-packages (from jupyter-server<3,>=2.4.0->notebook>=4.4.1->widgetsnbextension~=3.6.0->ipywidgets==7.7.2) (1.8.2)\n",
      "Requirement already satisfied: terminado>=0.8.3 in /opt/anaconda3/lib/python3.12/site-packages (from jupyter-server<3,>=2.4.0->notebook>=4.4.1->widgetsnbextension~=3.6.0->ipywidgets==7.7.2) (0.17.1)\n",
      "Requirement already satisfied: websocket-client>=1.7 in /opt/anaconda3/lib/python3.12/site-packages (from jupyter-server<3,>=2.4.0->notebook>=4.4.1->widgetsnbextension~=3.6.0->ipywidgets==7.7.2) (1.8.0)\n",
      "Requirement already satisfied: async-lru>=1.0.0 in /opt/anaconda3/lib/python3.12/site-packages (from jupyterlab<4.1,>=4.0.2->notebook>=4.4.1->widgetsnbextension~=3.6.0->ipywidgets==7.7.2) (2.0.4)\n",
      "Requirement already satisfied: jupyter-lsp>=2.0.0 in /opt/anaconda3/lib/python3.12/site-packages (from jupyterlab<4.1,>=4.0.2->notebook>=4.4.1->widgetsnbextension~=3.6.0->ipywidgets==7.7.2) (2.2.0)\n",
      "Requirement already satisfied: babel>=2.10 in /opt/anaconda3/lib/python3.12/site-packages (from jupyterlab-server<3,>=2.22.1->notebook>=4.4.1->widgetsnbextension~=3.6.0->ipywidgets==7.7.2) (2.11.0)\n",
      "Requirement already satisfied: json5>=0.9.0 in /opt/anaconda3/lib/python3.12/site-packages (from jupyterlab-server<3,>=2.22.1->notebook>=4.4.1->widgetsnbextension~=3.6.0->ipywidgets==7.7.2) (0.9.6)\n",
      "Requirement already satisfied: jsonschema>=4.18.0 in /opt/anaconda3/lib/python3.12/site-packages (from jupyterlab-server<3,>=2.22.1->notebook>=4.4.1->widgetsnbextension~=3.6.0->ipywidgets==7.7.2) (4.19.2)\n",
      "Requirement already satisfied: requests>=2.31 in /opt/anaconda3/lib/python3.12/site-packages (from jupyterlab-server<3,>=2.22.1->notebook>=4.4.1->widgetsnbextension~=3.6.0->ipywidgets==7.7.2) (2.32.2)\n",
      "Requirement already satisfied: six>=1.5 in /opt/anaconda3/lib/python3.12/site-packages (from python-dateutil>=2.8.2->jupyter-client>=6.1.12->ipykernel>=4.5.1->ipywidgets==7.7.2) (1.16.0)\n",
      "Requirement already satisfied: idna>=2.8 in /opt/anaconda3/lib/python3.12/site-packages (from anyio>=3.1.0->jupyter-server<3,>=2.4.0->notebook>=4.4.1->widgetsnbextension~=3.6.0->ipywidgets==7.7.2) (3.7)\n",
      "Requirement already satisfied: sniffio>=1.1 in /opt/anaconda3/lib/python3.12/site-packages (from anyio>=3.1.0->jupyter-server<3,>=2.4.0->notebook>=4.4.1->widgetsnbextension~=3.6.0->ipywidgets==7.7.2) (1.3.0)\n",
      "Requirement already satisfied: argon2-cffi-bindings in /opt/anaconda3/lib/python3.12/site-packages (from argon2-cffi>=21.1->jupyter-server<3,>=2.4.0->notebook>=4.4.1->widgetsnbextension~=3.6.0->ipywidgets==7.7.2) (21.2.0)\n",
      "Requirement already satisfied: pytz>=2015.7 in /opt/anaconda3/lib/python3.12/site-packages (from babel>=2.10->jupyterlab-server<3,>=2.22.1->notebook>=4.4.1->widgetsnbextension~=3.6.0->ipywidgets==7.7.2) (2024.1)\n",
      "Requirement already satisfied: MarkupSafe>=2.0 in /opt/anaconda3/lib/python3.12/site-packages (from jinja2>=3.0.3->jupyter-server<3,>=2.4.0->notebook>=4.4.1->widgetsnbextension~=3.6.0->ipywidgets==7.7.2) (2.1.3)\n",
      "Requirement already satisfied: attrs>=22.2.0 in /opt/anaconda3/lib/python3.12/site-packages (from jsonschema>=4.18.0->jupyterlab-server<3,>=2.22.1->notebook>=4.4.1->widgetsnbextension~=3.6.0->ipywidgets==7.7.2) (23.1.0)\n",
      "Requirement already satisfied: jsonschema-specifications>=2023.03.6 in /opt/anaconda3/lib/python3.12/site-packages (from jsonschema>=4.18.0->jupyterlab-server<3,>=2.22.1->notebook>=4.4.1->widgetsnbextension~=3.6.0->ipywidgets==7.7.2) (2023.7.1)\n",
      "Requirement already satisfied: referencing>=0.28.4 in /opt/anaconda3/lib/python3.12/site-packages (from jsonschema>=4.18.0->jupyterlab-server<3,>=2.22.1->notebook>=4.4.1->widgetsnbextension~=3.6.0->ipywidgets==7.7.2) (0.30.2)\n",
      "Requirement already satisfied: rpds-py>=0.7.1 in /opt/anaconda3/lib/python3.12/site-packages (from jsonschema>=4.18.0->jupyterlab-server<3,>=2.22.1->notebook>=4.4.1->widgetsnbextension~=3.6.0->ipywidgets==7.7.2) (0.10.6)\n",
      "Requirement already satisfied: python-json-logger>=2.0.4 in /opt/anaconda3/lib/python3.12/site-packages (from jupyter-events>=0.9.0->jupyter-server<3,>=2.4.0->notebook>=4.4.1->widgetsnbextension~=3.6.0->ipywidgets==7.7.2) (2.0.7)\n",
      "Requirement already satisfied: pyyaml>=5.3 in /opt/anaconda3/lib/python3.12/site-packages (from jupyter-events>=0.9.0->jupyter-server<3,>=2.4.0->notebook>=4.4.1->widgetsnbextension~=3.6.0->ipywidgets==7.7.2) (6.0.1)\n",
      "Requirement already satisfied: rfc3339-validator in /opt/anaconda3/lib/python3.12/site-packages (from jupyter-events>=0.9.0->jupyter-server<3,>=2.4.0->notebook>=4.4.1->widgetsnbextension~=3.6.0->ipywidgets==7.7.2) (0.1.4)\n",
      "Requirement already satisfied: rfc3986-validator>=0.1.1 in /opt/anaconda3/lib/python3.12/site-packages (from jupyter-events>=0.9.0->jupyter-server<3,>=2.4.0->notebook>=4.4.1->widgetsnbextension~=3.6.0->ipywidgets==7.7.2) (0.1.1)\n",
      "Requirement already satisfied: beautifulsoup4 in /opt/anaconda3/lib/python3.12/site-packages (from nbconvert>=6.4.4->jupyter-server<3,>=2.4.0->notebook>=4.4.1->widgetsnbextension~=3.6.0->ipywidgets==7.7.2) (4.12.3)\n",
      "Requirement already satisfied: bleach!=5.0.0 in /opt/anaconda3/lib/python3.12/site-packages (from nbconvert>=6.4.4->jupyter-server<3,>=2.4.0->notebook>=4.4.1->widgetsnbextension~=3.6.0->ipywidgets==7.7.2) (4.1.0)\n",
      "Requirement already satisfied: defusedxml in /opt/anaconda3/lib/python3.12/site-packages (from nbconvert>=6.4.4->jupyter-server<3,>=2.4.0->notebook>=4.4.1->widgetsnbextension~=3.6.0->ipywidgets==7.7.2) (0.7.1)\n",
      "Requirement already satisfied: jupyterlab-pygments in /opt/anaconda3/lib/python3.12/site-packages (from nbconvert>=6.4.4->jupyter-server<3,>=2.4.0->notebook>=4.4.1->widgetsnbextension~=3.6.0->ipywidgets==7.7.2) (0.1.2)\n",
      "Requirement already satisfied: mistune<4,>=2.0.3 in /opt/anaconda3/lib/python3.12/site-packages (from nbconvert>=6.4.4->jupyter-server<3,>=2.4.0->notebook>=4.4.1->widgetsnbextension~=3.6.0->ipywidgets==7.7.2) (2.0.4)\n",
      "Requirement already satisfied: nbclient>=0.5.0 in /opt/anaconda3/lib/python3.12/site-packages (from nbconvert>=6.4.4->jupyter-server<3,>=2.4.0->notebook>=4.4.1->widgetsnbextension~=3.6.0->ipywidgets==7.7.2) (0.8.0)\n",
      "Requirement already satisfied: pandocfilters>=1.4.1 in /opt/anaconda3/lib/python3.12/site-packages (from nbconvert>=6.4.4->jupyter-server<3,>=2.4.0->notebook>=4.4.1->widgetsnbextension~=3.6.0->ipywidgets==7.7.2) (1.5.0)\n",
      "Requirement already satisfied: tinycss2 in /opt/anaconda3/lib/python3.12/site-packages (from nbconvert>=6.4.4->jupyter-server<3,>=2.4.0->notebook>=4.4.1->widgetsnbextension~=3.6.0->ipywidgets==7.7.2) (1.2.1)\n",
      "Requirement already satisfied: fastjsonschema in /opt/anaconda3/lib/python3.12/site-packages (from nbformat>=5.3.0->jupyter-server<3,>=2.4.0->notebook>=4.4.1->widgetsnbextension~=3.6.0->ipywidgets==7.7.2) (2.16.2)\n",
      "Requirement already satisfied: charset-normalizer<4,>=2 in /opt/anaconda3/lib/python3.12/site-packages (from requests>=2.31->jupyterlab-server<3,>=2.22.1->notebook>=4.4.1->widgetsnbextension~=3.6.0->ipywidgets==7.7.2) (3.3.2)\n",
      "Requirement already satisfied: urllib3<3,>=1.21.1 in /opt/anaconda3/lib/python3.12/site-packages (from requests>=2.31->jupyterlab-server<3,>=2.22.1->notebook>=4.4.1->widgetsnbextension~=3.6.0->ipywidgets==7.7.2) (2.2.2)\n",
      "Requirement already satisfied: certifi>=2017.4.17 in /opt/anaconda3/lib/python3.12/site-packages (from requests>=2.31->jupyterlab-server<3,>=2.22.1->notebook>=4.4.1->widgetsnbextension~=3.6.0->ipywidgets==7.7.2) (2024.7.4)\n",
      "Requirement already satisfied: webencodings in /opt/anaconda3/lib/python3.12/site-packages (from bleach!=5.0.0->nbconvert>=6.4.4->jupyter-server<3,>=2.4.0->notebook>=4.4.1->widgetsnbextension~=3.6.0->ipywidgets==7.7.2) (0.5.1)\n",
      "Requirement already satisfied: fqdn in /opt/anaconda3/lib/python3.12/site-packages (from jsonschema[format-nongpl]>=4.18.0->jupyter-events>=0.9.0->jupyter-server<3,>=2.4.0->notebook>=4.4.1->widgetsnbextension~=3.6.0->ipywidgets==7.7.2) (1.5.1)\n",
      "Requirement already satisfied: isoduration in /opt/anaconda3/lib/python3.12/site-packages (from jsonschema[format-nongpl]>=4.18.0->jupyter-events>=0.9.0->jupyter-server<3,>=2.4.0->notebook>=4.4.1->widgetsnbextension~=3.6.0->ipywidgets==7.7.2) (20.11.0)\n",
      "Requirement already satisfied: jsonpointer>1.13 in /opt/anaconda3/lib/python3.12/site-packages (from jsonschema[format-nongpl]>=4.18.0->jupyter-events>=0.9.0->jupyter-server<3,>=2.4.0->notebook>=4.4.1->widgetsnbextension~=3.6.0->ipywidgets==7.7.2) (2.1)\n",
      "Requirement already satisfied: uri-template in /opt/anaconda3/lib/python3.12/site-packages (from jsonschema[format-nongpl]>=4.18.0->jupyter-events>=0.9.0->jupyter-server<3,>=2.4.0->notebook>=4.4.1->widgetsnbextension~=3.6.0->ipywidgets==7.7.2) (1.3.0)\n",
      "Requirement already satisfied: webcolors>=1.11 in /opt/anaconda3/lib/python3.12/site-packages (from jsonschema[format-nongpl]>=4.18.0->jupyter-events>=0.9.0->jupyter-server<3,>=2.4.0->notebook>=4.4.1->widgetsnbextension~=3.6.0->ipywidgets==7.7.2) (24.8.0)\n",
      "Requirement already satisfied: cffi>=1.0.1 in /opt/anaconda3/lib/python3.12/site-packages (from argon2-cffi-bindings->argon2-cffi>=21.1->jupyter-server<3,>=2.4.0->notebook>=4.4.1->widgetsnbextension~=3.6.0->ipywidgets==7.7.2) (1.16.0)\n",
      "Requirement already satisfied: soupsieve>1.2 in /opt/anaconda3/lib/python3.12/site-packages (from beautifulsoup4->nbconvert>=6.4.4->jupyter-server<3,>=2.4.0->notebook>=4.4.1->widgetsnbextension~=3.6.0->ipywidgets==7.7.2) (2.5)\n",
      "Requirement already satisfied: pycparser in /opt/anaconda3/lib/python3.12/site-packages (from cffi>=1.0.1->argon2-cffi-bindings->argon2-cffi>=21.1->jupyter-server<3,>=2.4.0->notebook>=4.4.1->widgetsnbextension~=3.6.0->ipywidgets==7.7.2) (2.21)\n",
      "Requirement already satisfied: arrow>=0.15.0 in /opt/anaconda3/lib/python3.12/site-packages (from isoduration->jsonschema[format-nongpl]>=4.18.0->jupyter-events>=0.9.0->jupyter-server<3,>=2.4.0->notebook>=4.4.1->widgetsnbextension~=3.6.0->ipywidgets==7.7.2) (1.2.3)\n",
      "Note: you may need to restart the kernel to use updated packages.\n"
     ]
    }
   ],
   "source": [
    "pip install ipywidgets==7.7.2"
   ]
  },
  {
   "cell_type": "code",
   "execution_count": 23,
   "id": "eb27c87d-de62-48f5-ab8c-484ea25dd1e2",
   "metadata": {},
   "outputs": [
    {
     "data": {
      "text/plain": [
       "(512,)"
      ]
     },
     "execution_count": 23,
     "metadata": {},
     "output_type": "execute_result"
    }
   ],
   "source": [
    "model = SentenceTransformer(\n",
    "    'sentence-transformers/clip-ViT-B-32',\n",
    "    device=device\n",
    ")\n",
    "\n",
    "#check the dim\n",
    "clip_vector = model.encode(metadata['productDisplayName'][0])\n",
    "clip_vector.shape"
   ]
  },
  {
   "cell_type": "code",
   "execution_count": 24,
   "id": "319d9a44-2c29-48f8-856f-56f9fc5bc99b",
   "metadata": {},
   "outputs": [
    {
     "data": {
      "text/plain": [
       "44072"
      ]
     },
     "execution_count": 24,
     "metadata": {},
     "output_type": "execute_result"
    }
   ],
   "source": [
    "len(fashion)"
   ]
  },
  {
   "cell_type": "code",
   "execution_count": 25,
   "id": "13db6861-e3d5-47f2-934d-ad8bd1aa3db9",
   "metadata": {},
   "outputs": [
    {
     "name": "stderr",
     "output_type": "stream",
     "text": [
      "100%|███████████████████████████████████████████| 10/10 [00:26<00:00,  2.61s/it]\n"
     ]
    },
    {
     "data": {
      "text/plain": [
       "{'dimension': 512,\n",
       " 'index_fullness': 0.0,\n",
       " 'namespaces': {'': {'vector_count': 1000}},\n",
       " 'total_vector_count': 1000}"
      ]
     },
     "execution_count": 25,
     "metadata": {},
     "output_type": "execute_result"
    }
   ],
   "source": [
    "batch_size = 100\n",
    "fashion_data_num = 1000\n",
    "\n",
    "for i in tqdm(range(0, min(fashion_data_num,len(fashion)), batch_size)):\n",
    "    # find end of batch\n",
    "    i_end = min(i+batch_size, len(fashion))\n",
    "    \n",
    "    # extract metadata batch\n",
    "    meta_batch = metadata.iloc[i:i_end]\n",
    "    meta_dict = meta_batch.to_dict(orient=\"records\")\n",
    "    \n",
    "    # concatinate all metadata field except for id and year to form a single string\n",
    "    meta_batch = [\" \".join(x) for x in meta_batch.loc[:, ~meta_batch.columns.isin(['id', 'year'])].values.tolist()]\n",
    "    \n",
    "    # extract image batch\n",
    "    img_batch = images[i:i_end]\n",
    "    \n",
    "    # create sparse using bm25encoder for metadata\n",
    "    sparse_embeds = bm25encoder.encode_documents([text for text in meta_batch])\n",
    "    \n",
    "    # create dense vectors using clip model for images\n",
    "    dense_embeds = model.encode(img_batch).tolist()\n",
    "    \n",
    "    # create unique IDs\n",
    "    ids = [str(x) for x in range(i, i_end)]\n",
    "\n",
    "    upserts = []\n",
    "    # loop through the data and create dictionaries for uploading documents to pinecone index\n",
    "    for _id, sparse, dense, meta in zip(ids, sparse_embeds, dense_embeds, meta_dict):\n",
    "        upserts.append({\n",
    "            'id': _id,\n",
    "            'sparse_values': sparse,\n",
    "            'values': dense,\n",
    "            'metadata': meta\n",
    "        })\n",
    "    # upload the documents to the new hybrid index\n",
    "    index.upsert(upserts)\n",
    "\n",
    "# show index description after uploading the documents\n",
    "index.describe_index_stats()"
   ]
  },
  {
   "cell_type": "code",
   "execution_count": 26,
   "id": "804ef168-2a92-483d-9d60-8ff168af2ac7",
   "metadata": {},
   "outputs": [],
   "source": [
    "query = \"navy blue shirt for women\"\n",
    "\n",
    "sparse_vec = bm25encoder.encode_queries(query)\n",
    "dense_vec = model.encode(query).tolist()\n",
    "\n",
    "result = index.query(\n",
    "    top_k=10,\n",
    "    vector=dense_vec,\n",
    "    sparse_vector=sparse_vec,\n",
    "    include_metadata=True\n",
    ")"
   ]
  },
  {
   "cell_type": "code",
   "execution_count": 31,
   "id": "95771fe7-342e-4ef3-8c12-c041d5972752",
   "metadata": {},
   "outputs": [],
   "source": [
    "imgs = []\n",
    "for r in result[\"matches\"]:\n",
    "    #print(r)\n",
    "    imgs.append(images[int(r[\"id\"])])"
   ]
  },
  {
   "cell_type": "code",
   "execution_count": 32,
   "id": "3385df1b-e41b-40ed-ae85-021f1e91236f",
   "metadata": {},
   "outputs": [],
   "source": [
    "from IPython.core.display import HTML\n",
    "from io import BytesIO\n",
    "from base64 import b64encode\n",
    "\n",
    "# function to display product images\n",
    "def display_result(image_batch):\n",
    "    figures = []\n",
    "    for img in image_batch:\n",
    "        b = BytesIO()\n",
    "        img.save(b, format='png')\n",
    "        figures.append(f'''\n",
    "            <figure style=\"margin: 5px !important;\">\n",
    "              <img src=\"data:image/png;base64,{b64encode(b.getvalue()).decode('utf-8')}\" style=\"width: 90px; height: 120px\" >\n",
    "            </figure>\n",
    "        ''')\n",
    "    return HTML(data=f'''\n",
    "        <div style=\"display: flex; flex-flow: row wrap; text-align: center;\">\n",
    "        {''.join(figures)}\n",
    "        </div>\n",
    "    ''')"
   ]
  },
  {
   "cell_type": "code",
   "execution_count": 33,
   "id": "0ff1363c-45fe-47bb-a23b-96be1f868abc",
   "metadata": {},
   "outputs": [
    {
     "data": {
      "text/html": [
       "\n",
       "        <div style=\"display: flex; flex-flow: row wrap; text-align: center;\">\n",
       "        \n",
       "            <figure style=\"margin: 5px !important;\">\n",
       "              <img src=\"data:image/png;base64,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\" style=\"width: 90px; height: 120px\" >\n",
       "            </figure>\n",
       "        \n",
       "            <figure style=\"margin: 5px !important;\">\n",
       "              <img src=\"data:image/png;base64,iVBORw0KGgoAAAANSUhEUgAAADwAAABQCAIAAADKqIEEAAAWSklEQVR4nL17a4xd13XeWvtxHvc5D3JmyOFbpB4VaSmxrEaWLDt2kahA0xpOgboo5CIFjP4qkB/pn8b9kxYt2h8B2hhIoKJqghZFnTq1Aacp4thO7LaWHNMSLYm0JI74Hs4MOTP3dZ77sVZ/7JmrkZsZXg4NbZAXZ4b73PPttb+11rfWPkRmhvsf4S5EHP/oERFAbn9ZbeoojmtnY6UZGAF33jy+cX9D3O8NRPRTiMO1BGDnmMg7V+V5HMUIlCjpvCMiBgYAZy0C1HX9IIgBAO/X0t57RBTi/19tTR6EiJ0nJcX1K1eqIj8wMzW7eNR7DwBSSgAoiqLRaHzYoPmDm7vD6jWw8Kyd49/73Ze+82ff9KacPzA9NT//xS9+8dFHH7XWIqKKNADUdR3H8YcHercFMBAx/OTS5X/xW//q5o0bh+YXuu1mf3PT+LKu6xdffPELv/ZrYeYoG7Xb7X0/dJ+gmTnA3WlyB/Cd7/z5P/uN35COms0mopxbWCRGdnlp6l6v9/f+/uf/ya//ephMTH8VwSYd+79zPIjIWvvWxXd+60tfWmglDy10UjuMfda7cyuJFSL21jfmZg/8j6/+0e9++cvA7J0T+EDP3Sc9xsRgZmNMXdef/dXP2/7aC8997PmfP9tOk+WN4Z/+7/O9yjfTxuqdtV6vN3PwwPLK7ZdffvnsE09456RWHyZocs4pFVlrtdIA4Kx/6aWX/s2/++3f/Ozz/+Bzn5LtduITwHpE/G//9b9/67aKuo21YU9hpLw8MDv9B1/9z1b7mKN9R+v9bFMIXlrr8KO19o033mi3umfPfgSFViqpyhoOLLQXj3zhH/6jbjvubd6JtZRSGmOuX7/+ta9+TYHcH9x9gg7EICIAYCJgzrLswoULjUbTO3z33aXactKZofX+Oxfe7E7NPPvUOc2WvC3zIuzSN7/5LYT9c2M/oMNwzm1dId66dWt1dTWW6t233/n+91998823QOobt5YvXvzJ1avXTxxqd1PJxjJzmqbT09O3bty8deP2hwo6EFEp5b1HIQDg0qVLVVWlkTo8N3vy+DEhBCAKIaqqeP31H50+MvvIqWOp1I04sc4IwXPzB5R4IHrsc5uEEFvGZl5aWnLOPf7QsU9/4hlwd/sowVbHzpz6uycXwMZR5B4+duTCO6skVFHnSvrTJ08sLs4HNbLPp9/vDeNoM84OZVlqrW3Zj5WPO2kjklQOoegr4aNWAsXIFbm3HgFirYhcVWdV+UCaaT+WJiIhBCJ656RSjUYjTdP11eWN1eVmam71sxPzJyIUGEU8XOf+RpUXWshBaTyXKEw+GqkHy2n3DRqBXVWKNAUGFMzOHTp4IFH6yqp89W7vTJQnK5x2On2zCb3NKdfoMflI9eqhiGdSjH3tvSdDPn0A0Pe/ZFQqbQEqFApQghBPPfXUTLezORx8/0evy1Z3UBdLly8O8yFqATG2Ws23Ll3sD0YWOKvsqDQso/jB1Ol9g85rR4geoDZOCIFAZ06dPHhgxkt85cLF2/36xLnH54/PHTt5pDs369n++MJrztnuzLSOU8diWNSA2u/fCfcFOokVAxBTFAkAMlUx6K2DM81m893rd1/+yjc4ittzXUC6c3vllfOvcD167pmnFcLdu3e990BeSdYPVG3dP6clUF3XcaydtVVetDrdLMuMMYcXFgDdn79y6T90/8vRLkadaP7oYnuq+/ipo+J2Pfrv3x5kIpk5kMZ6884KmxJ18uGBBu/iWAMIBtXqzpraf+0b3xpU2G1Hpx/7WHTyNCXVgQNxa6p5+PDioUOHFNmsHszMHx5KsznMI2+uXbm6sX73wKGjHyJoqZyjynkdaYPw+//tG3/4J9+L04Oy0dgsoSUajdnuzz390IH5gxxFuSltDUMLjdnDWPTr3AEqoROp9l9r7Qe08+hA9oaj//PK9968dHnpyq2PffJvlmW9vvZ2rzRG+MNnHkk6LUZGHWkNIFq16K+NyqR78MTxh0erV6dnUhL6QUDvqqc9ELIQAIBgTaEizSAQZMnwH//T13/wl68VhlSSRo1m0mx1Z6aXry+1fHRlZf3JM/E/feH4fNKmVle5G726+ztf+fEPb3OZciKgI9u2rnTT/OoLv/TMM8/MzmgF4KosTmLvgScrDXadw8BMLAQCgI4iAACQm5vDf/nbL9+4uZw0Op1ObEnkeZ42WrNT0zOts+tr/SNJfPXaj28NThxanK8GGx6i99byfk1pu7uwOB2hr3vVRpmzg699/Y//559+6+Mf/4XP/covd5PUlqVOG243NB8cu4Y8Oe4JMQCA8w4A3rz49iuvnt/ojUAIBO29t0WVD/rZoK8ARLfZnGoSJt98bcWqtNFpxFOnL9wsBlbFrUa31W6ljTjWOo4AI4uxx+SP/9d3fu+lPxBS6qRljJswEu4Vp0WoAokAwBoPAJcvvyd10mpPjYZllmW2su1m0zuTD/reWt1tJw29cPj0+SvZn52/CM32e7erC9fyEURK67o0ZV6i4DiOmTTKJG3N6rjz/R9cOP/6ZQCIoshb/0CgcVvQhU8dRwSwsTmojYuiyBiDiHVVSCldbUxZECAARLGWcSOZPvztv3zn1lr5Fz98e3nDOBBSgQAkAuMMkSNHRHB3vaeSZl661y68NRyWAKD1RDp7D0sLAAIABg8AUmjvYW11A4GkACaHiN5755xzriiKO/2+qIzwAgQ2Ur3a99/4v0vvLt/RcVtHQqBVSiPGeV15Ms2oMdVpN9Jk0B/mRVVWpt1JsywLT7zn2MtZJQrYIaBX1wbXrt6MJRbZKB8OhRBSKWafNBuEol8Us3UNkBaNcnTrhsfOd9+828CsoQ8KzYKNc1R74YilgETI3vqaQ83kFxYWbt68BQDNZpPB4QTKYvcZDD8VDYfD4d3NDaWhrjJPLs9HRDQajZxzeVHUnrK76xKVtXWiah11RPuYA66GfQ1WIzlLnlBqJaW0RSXQI7h8ONJKra6uFjUDfrAjvB/QCB7QI0itgREALr5z2ck4ipueqCj7dVl4S+xkXXkEEkWRC7i7uSIsOJy2pi+K65Zb2JaDWlcmEVyh7WsnnZU9OxpkuqpyIYt+L0PZ3RyOAOhnED3GzRQiYoaNjQ3vfRzHoXXrnLHWOudMVYQ5tqrzPC+KIpSPobqx1nrrrLXGGGNMVVVlWVZVBQB1XRtjlFLGmDwvnXcTqs69OI2CeXu/EGF15Q4iah2Hvocl60zlPYOHxEYoVClK9sDMQFv+xMxADIjee2stuS30zrlEg61ssEJVVVmWAUxPghj2XNn7jhxq2M3NzTiOrackSZiZvDWmqqoCiItR5qx11jrncEdDFXFLJhAROUdhOA/EzExEiCilLMt6NMyklMATWXrXSaGfu/UDIgCMRnkUJWVZNhotRGb23llva61ENhohMRIjb6Nh0Fqnaeq8IXbe1nVdOme8Nc4ZADLGhAKZiMqy7Pf7CNK7iULeHo5IwdjEBADegzFGCFHXVggRKY3IRA6AmNkZi1vr8N57b533XggRxzESC4ZAD/YUbLHVNkFSShExsBgOs3vgmQj0liNuHQs5R0opJTUTVlWVpikAELtYR6YslFLsiZxnTwGZ9z60gIUQQghmDr8PX6uVCnPCUqMoGg6HACAnU8p70WMHdACAKIq01lLKoijiOAZkZtaRqqoqibT3PnQlA0rvfVmWw+Ew8DtwZotyzAAQVhU2RgiRZcXkPeddQQuMAIQAQY6BhVJCapXVRVkNhRBKJegFO+ucISKpE+vJevLsaltZW4fVdjpda204KiDYwopCOO+BBuR4ampORGjBVYYZAXCiztNe+0FEUkilFACEHliapnVZOeescdba0HJmhjAHAIJFQ3AQEoIhnXNh36y1ABD2IY7j4HVKKSmltZ4ZPLOcgNV7gRZCEIEUCAxEUFVV8Hdra2uqAMVai0Izs9ZaKYXI3ntiz9thJHA3rMdZy8xKKedcq9VRkQlsAoCqqhBB4kSk3tMRYat5DgBCQEgKAEBEAfE41jrn4jgOjJdShotwHBMIPXZHRAzbUlcGUQTbM3Oe5/fEc2/QwTzvL2BbFmy1Hr0fm1BrHWCF9cC2LzrnqqoKux9GuDcklLqug4tqLeNEhyw04QHQPVYmtyk2HJahKRNMGFw+5HOlVMA9zkdjcMG0YT1hB8LCwjUiGFuPRoOqygEI8QPn7XuMXTkkpeRtA5P3q6urm5ubIp1GAXVde++bzSYzeyIAUEoFKOOnBhporavajs9otNZ1XTvnlFIOuaqLYZ4BAHgCPOwcSEWTMGSvGZ7eZ8hwODTGJElirS3LkoharVar1YLt85dxnA77EFw2iqKxLwYKMbNzLvAHEbWWcay73fbs7LSauAez+0QGAkHgNDAyZ/3sIx852zq8KMi99doP1q5d+xvP//Lrb1ze6C9L3QRWyCSAiRgBpJTWWucojkAJ6a3TUglAIorjOAhUkA1rRycX5z/60Z9bWR9OH5xhAMtqkt7kniEPHAN4EErJ23d7qtFpT89JhLkjp8np3OLqnc04jtvNmH0J8IGm0VjojX3UORc4Q0RVVbUSVZR+WFEt0uZUVNf13Tu9Q3PtSZpeu9ODrEIQIAGkRbhy4yaQSyWSpU53DqP2T967VXkfxTrLB3Ekx1l6pzwc+yVs80cpFUJeNhwJgNJjZSEVnG+uLS0teWfviRj2WpZAQBFWpQAOdnTZq2fsRu5ofbgq2a2t9aXWAFBb6wDFllimEDF2JpfA9WB42nZch1FH241hP1u5emwWu0k9Oz0FaqJTjd1Bo2IGJgZmlPTppx+9UK8cahYrZvSTW5cOJnNDskVZaq0XD5+0KMZt0J0vVowrACFEiJXW2iDrNjLWkEGdH2vhZz8yV5A8fObM0NB0dO/osStoAkZEJdA6AvDH57sbbXx8oXH2eBeBVmn2zvC8JW+Nd87VJJOGDsEBdhB65xrCvwbbK6U6M1Ny0DfW99fXZihtxU2tIH7QjOgqZAAGBOkcDYuSvW2n0frKdSVoeW3txu01JkwiVed5O034gwN2xL6wgHHUC2kfqhF4p6cOL63bfm7rsjJVHU/WrNkVtFYCyJEHj4A6rVjWLIuadNoqLN3pZaBTAoy1kuxcXWxTmvz2CNc7QQdHFEJYa5vCxlpBY/biSnG3QpV2yBkJ5QOBBoJKKqEh5hIZZO2mpCUJ1TCr0qPXl3stnwNAyYqZCbfyCOwoGrz3IW9ba8fCKMhrrbV1WJNocRn54mJPx3UvTtvEEzXb96gRcXyBuBW2mBlQ5llZW+P9lldpraMoCrkdQuG9XWYHvRpGIMb7DxZCoKpNxcw3llc8CqBJXxOaAPT2MwIglnpzNCTaEv68/V4QImqtg2l3hmf6YCgMYUQphcAkJTkfa/Xu9RULipz9GTRrdqIfI8gqu3pn03rWcWRZhR6AtV6JrWp8TIBQBe74mvcHABhTE4soQsF6dVgUVrSAGCZq5k0qUsY5eZRXa+sb1pNGFLz1S9p+RygQIxAmCCOlxfbtDMDhLzMLwJplEgFZGFTyzqCch0nfppgU9PuZWUaVJZSS3FbetuRjlGPQIRiHCoCZa1PhXzUiJUYOE7De+5z07Y3+OZy0HJ8A9HZWC6S0jJZYKEU1gwAJSH5L1gXZWdd1YEhZlo1Gg3hLiIbiRSm1DZtBKXKVEuhkuj4sgH4WDcgPIt9KGYPRMMtLBwk7h/FWVYJSCBIhkoyrRqVUkiRVXfxUgtz6JAChyPlGkkhIjfXgJzzc2qNZE7SmJxLkASJnU+s81T4+2BCQxokDKan2Upt4ir2zQEJJz2AdAChjXKfTAQAlhBJCIopwaOm9M8ZUVRF359XtBsgRdog4JcVYINQ7ReJ9g/bsw73BSG675zksrUxbRe3iZktKGUkRAzckx1JUZY5MCJQNB61mSt7GkSIAz+yIwh8CQClVFJWDQWnYQARKdlKksjfc6MFk7+vtSo+diYAAsizL8zzNshu3lhmxMjaKBQAgeSQvvedoq/vhnWNSzEzWOVkrGW19CZF35KwVwiNiO27JuJWXMVExm/hjB5pkDTmJE8De40hux4voAMYYa21d1/mdGwnXC7PtPOsDIgsZpw0ho6o2DMI47zw3mu0sL1lIRpHneYjWWus4jpMkiaIoiqIEbOW8ajRSNB3qp1iZIg8HxPccezliCKrBiRAxPO8zT546lDVM98Qfff1qknYMAgtdOPbAUiKzJ2ACjiJlXN2d7pgq1xqjCKXEMV8RoalxfTiaax/WdvgLjy4uzkodJ97BJEf9u9NjKyEwMwNCsJYQ4sxcc7mshpyXg7VGIl0syTcApYCKiLSOvbCjzV6zmW6ur/pqCK4a65axLEHE94abn/lbv/Tck09f+d7l09Npng2mp2aknii/3CvkCUFEICHPc/AeAA4dmBHvXVt6+y1Xju6uXCloeRl1SwJpDCrIGzcajZIkXpib/8F3/6LbbQshgmYK4iSIp342euEX/3pzMMjdRpcXQUROaFGPVNy6J+hdOU3behwRCSDk5DiOrYf+MFtaWpqZbk81o4OduKPMTGJbykwnLM0I7XBxptEU9guf/5WHjsxIdFpSEmGrobvtpNtO2s2o1dBHTxz5+NPnNq5enI99gow6zSujk4nyxq6TvBNaQUku0Y2IrHE2bc81S1qREQp/eLqzVHLcbnuq5+bmUGFa2WazqTY2nHNVmR976ORDjzxqCJmRCKanZ0PJ2G53AaDf7z9/7lTaPFCoaBmmO6N88dghNAWBEhN0xvaoXDQAhbYgIJ5+7Ozlm7ev3Vl3Vf2pZz+hlBIapVZTM9NpmipUU1NTeZ7PzMw0Gg1jzLPPPmuMWVtbU0o1Gg3vfcjh43brJz/1KbAmqc0/fvHFRx57eGhrD8j+wfQ0AiCAUgIBgeXRhx+LZxbeXt5QXgBxno88kGOX53k2HCVRUpalUqqqKiklEZ05c+aRRx4JVE6SJByvBL3qvU/T9Imnfn791o1Dcfwnf/iVi+9cglZLNtsTRek9z1w8EYV3hj0gNKaefeFvl0n3R+ff+Pa3v9todfIqJ/DtqU6aNkaDITO32+0gm+bm5h5++OGjR4/OzMyENQQtBQBCCGPM4uLi0ZOnXvryl9evXbu29N7A2KnjJ6YWjvh8IvmxB2gUiAAEzIjAKA8+du6vPfP89JETkLYWjh2VUeyczQZDYOp2p1utVlmWURQVRTE3N3fu3LlXX301yzKllLU2fIYGsTHmscceU1r/5j//0hMffao7f3jqyKn2oeMepGw8mCOiEAExs2ehUAKA/Ngvflp85jPHfvj67/z+f82zYn5+Hr2rjdGR996Gdz+89wcPHowidf78+UDlEHnG6gURn3zySWNc3O7abufjf+dzi488Lg4er0AITzjBocu9ZoSTBwACKGsj0iajOvfcJ8+cPadUVI1yb12apqiVtTb8p6woip588kkiSNO00+mE1kxAH5oHnU7niSeeiCLVq8tTn3ju9KdfSBdPg9cYTtQmGHvEaWAiQAAmYmKAKE6ssyZqlACWRVkZJaUWEgDyMtNal2Uppayq6vHHHw/nV1mWhUZCOAoLVu90OseOHTOVjxtT3OoYoXm7CHcwEaf/H/0W8eydIwrYAAAAAElFTkSuQmCC\" style=\"width: 90px; height: 120px\" >\n",
       "            </figure>\n",
       "        \n",
       "            <figure style=\"margin: 5px !important;\">\n",
       "              <img src=\"data:image/png;base64,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\" style=\"width: 90px; height: 120px\" >\n",
       "            </figure>\n",
       "        \n",
       "            <figure style=\"margin: 5px !important;\">\n",
       "              <img src=\"data:image/png;base64,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\" style=\"width: 90px; height: 120px\" >\n",
       "            </figure>\n",
       "        \n",
       "            <figure style=\"margin: 5px !important;\">\n",
       "              <img src=\"data:image/png;base64,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\" style=\"width: 90px; height: 120px\" >\n",
       "            </figure>\n",
       "        \n",
       "            <figure style=\"margin: 5px !important;\">\n",
       "              <img src=\"data:image/png;base64,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\" style=\"width: 90px; height: 120px\" >\n",
       "            </figure>\n",
       "        \n",
       "            <figure style=\"margin: 5px !important;\">\n",
       "              <img src=\"data:image/png;base64,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\" style=\"width: 90px; height: 120px\" >\n",
       "            </figure>\n",
       "        \n",
       "            <figure style=\"margin: 5px !important;\">\n",
       "              <img src=\"data:image/png;base64,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\" style=\"width: 90px; height: 120px\" >\n",
       "            </figure>\n",
       "        \n",
       "            <figure style=\"margin: 5px !important;\">\n",
       "              <img src=\"data:image/png;base64,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\" style=\"width: 90px; height: 120px\" >\n",
       "            </figure>\n",
       "        \n",
       "            <figure style=\"margin: 5px !important;\">\n",
       "              <img src=\"data:image/png;base64,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\" style=\"width: 90px; height: 120px\" >\n",
       "            </figure>\n",
       "        \n",
       "        </div>\n",
       "    "
      ],
      "text/plain": [
       "<IPython.core.display.HTML object>"
      ]
     },
     "execution_count": 33,
     "metadata": {},
     "output_type": "execute_result"
    }
   ],
   "source": [
    "display_result(imgs)"
   ]
  },
  {
   "cell_type": "code",
   "execution_count": 35,
   "id": "648c157d-73e6-4c75-b329-57adb7651b35",
   "metadata": {},
   "outputs": [
    {
     "name": "stdout",
     "output_type": "stream",
     "text": [
      "Scullers For Her Women Printed Navy Blue Shirt\n",
      "Scullers For Her Women Blue Top\n",
      "Scullers For Her Navy Blue T-shirt\n",
      "Jealous 21 Women Teal Shirt\n",
      "United Colors of Benetton Women Purple Shirt\n",
      "Arrow Woman Blue Shirt\n",
      "John Players Men Check Blue Shirt\n",
      "Arrow Woman Blue Shirt\n",
      "John Players Men Navy Blue Shirt\n",
      "Aneri Women Ashna Blue Kurta\n"
     ]
    }
   ],
   "source": [
    "for r in result[\"matches\"]:\n",
    "    print(r[\"metadata\"][\"productDisplayName\"])"
   ]
  },
  {
   "cell_type": "markdown",
   "id": "22dedb73-c82b-4112-971f-14032478011e",
   "metadata": {},
   "source": [
    "### Scaling the hybrid search"
   ]
  },
  {
   "cell_type": "code",
   "execution_count": 36,
   "id": "07d9de8f-54f7-4b4d-a6e4-c5e811c8c06e",
   "metadata": {},
   "outputs": [],
   "source": [
    "def hybrid_scale(dense, sparse, alpha: float):\n",
    "    \"\"\"Hybrid vector scaling using a convex combination\n",
    "\n",
    "    alpha * dense + (1 - alpha) * sparse\n",
    "\n",
    "    Args:\n",
    "        dense: Array of floats representing\n",
    "        sparse: a dict of `indices` and `values`\n",
    "        alpha: float between 0 and 1 where 0 == sparse only\n",
    "               and 1 == dense only\n",
    "    \"\"\"\n",
    "    if alpha < 0 or alpha > 1:\n",
    "        raise ValueError(\"Alpha must be between 0 and 1\")\n",
    "    # scale sparse and dense vectors to create hybrid search vecs\n",
    "    hsparse = {\n",
    "        'indices': sparse['indices'],\n",
    "        'values':  [v * (1 - alpha) for v in sparse['values']]\n",
    "    }\n",
    "    hdense = [v * alpha for v in dense]\n",
    "    return hdense, hsparse"
   ]
  },
  {
   "cell_type": "code",
   "execution_count": 38,
   "id": "30830662-8cc0-4d7e-ac17-08c47119043e",
   "metadata": {},
   "outputs": [],
   "source": [
    "search_query = \"navy blue shirt for women\"\n",
    "\n",
    "dense = model.encode(search_query).tolist()\n",
    "sparse = bm25encoder.encode_queries(search_query)\n",
    "\n",
    "#alpha is at extreme level, for a very dense vector\n",
    "hdense, hsparse = hybrid_scale(dense, sparse, 1)\n",
    "\n",
    "response = index.query(\n",
    "    top_k=3,\n",
    "    vector=hdense,\n",
    "    sparse_vector=hsparse,\n",
    "    include_metadata=True\n",
    ")"
   ]
  },
  {
   "cell_type": "code",
   "execution_count": 39,
   "id": "c0a7f7a5-1a69-4c02-8a11-5b87e9715a99",
   "metadata": {},
   "outputs": [],
   "source": [
    "imgs = []\n",
    "for res in response[\"matches\"]:\n",
    "    imgs.append(images[int(res[\"id\"])])"
   ]
  },
  {
   "cell_type": "code",
   "execution_count": 40,
   "id": "0eed0457-d17f-47df-8965-685cc6f57191",
   "metadata": {},
   "outputs": [
    {
     "data": {
      "text/plain": [
       "3"
      ]
     },
     "execution_count": 40,
     "metadata": {},
     "output_type": "execute_result"
    }
   ],
   "source": [
    "len(imgs)"
   ]
  },
  {
   "cell_type": "code",
   "execution_count": 41,
   "id": "ab790f79-b441-4c15-a5dd-b6d5d28bcf8d",
   "metadata": {},
   "outputs": [
    {
     "data": {
      "text/html": [
       "\n",
       "        <div style=\"display: flex; flex-flow: row wrap; text-align: center;\">\n",
       "        \n",
       "            <figure style=\"margin: 5px !important;\">\n",
       "              <img src=\"data:image/png;base64,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\" style=\"width: 90px; height: 120px\" >\n",
       "            </figure>\n",
       "        \n",
       "            <figure style=\"margin: 5px !important;\">\n",
       "              <img src=\"data:image/png;base64,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\" style=\"width: 90px; height: 120px\" >\n",
       "            </figure>\n",
       "        \n",
       "            <figure style=\"margin: 5px !important;\">\n",
       "              <img src=\"data:image/png;base64,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\" style=\"width: 90px; height: 120px\" >\n",
       "            </figure>\n",
       "        \n",
       "        </div>\n",
       "    "
      ],
      "text/plain": [
       "<IPython.core.display.HTML object>"
      ]
     },
     "execution_count": 41,
     "metadata": {},
     "output_type": "execute_result"
    }
   ],
   "source": [
    "display_result(imgs)"
   ]
  },
  {
   "cell_type": "code",
   "execution_count": 44,
   "id": "822c5c4b-aa6f-4bfa-b598-3b919b19c2ef",
   "metadata": {},
   "outputs": [
    {
     "name": "stdout",
     "output_type": "stream",
     "text": [
      "Scullers For Her Women Printed Navy Blue Shirt\n",
      "Scullers For Her Women Blue Top\n",
      "Jealous 21 Women Teal Shirt\n"
     ]
    }
   ],
   "source": [
    "for r in response['matches']:\n",
    "    print(r[\"metadata\"][\"productDisplayName\"])"
   ]
  },
  {
   "cell_type": "markdown",
   "id": "648e4c9b-34df-4afb-8d56-9ec8ecd2f537",
   "metadata": {},
   "source": [
    "### More sparse hybrid search"
   ]
  },
  {
   "cell_type": "code",
   "execution_count": 45,
   "id": "0a8ae71d-b47d-4fa9-9f57-026ea7799b08",
   "metadata": {},
   "outputs": [],
   "source": [
    "hdense, hsparse = hybrid_scale(dense, sparse, alpha=0)\n",
    "\n",
    "response = index.query(\n",
    "    top_k=3,\n",
    "    vector=dense,\n",
    "    sparse_vector=sparse,\n",
    "    include_metadata=True\n",
    ")"
   ]
  },
  {
   "cell_type": "code",
   "execution_count": 47,
   "id": "f01e7a06-30a0-43a7-9e3d-a623989ee02d",
   "metadata": {},
   "outputs": [],
   "source": [
    "imgs = [images[int(r[\"id\"])] for r in response[\"matches\"]]"
   ]
  },
  {
   "cell_type": "code",
   "execution_count": 48,
   "id": "e14728b2-e1d8-45c4-80b2-69e49b65586b",
   "metadata": {},
   "outputs": [
    {
     "data": {
      "text/html": [
       "\n",
       "        <div style=\"display: flex; flex-flow: row wrap; text-align: center;\">\n",
       "        \n",
       "            <figure style=\"margin: 5px !important;\">\n",
       "              <img src=\"data:image/png;base64,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\" style=\"width: 90px; height: 120px\" >\n",
       "            </figure>\n",
       "        \n",
       "            <figure style=\"margin: 5px !important;\">\n",
       "              <img src=\"data:image/png;base64,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\" style=\"width: 90px; height: 120px\" >\n",
       "            </figure>\n",
       "        \n",
       "            <figure style=\"margin: 5px !important;\">\n",
       "              <img src=\"data:image/png;base64,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\" style=\"width: 90px; height: 120px\" >\n",
       "            </figure>\n",
       "        \n",
       "        </div>\n",
       "    "
      ],
      "text/plain": [
       "<IPython.core.display.HTML object>"
      ]
     },
     "execution_count": 48,
     "metadata": {},
     "output_type": "execute_result"
    }
   ],
   "source": [
    "display_result(imgs)"
   ]
  },
  {
   "cell_type": "code",
   "execution_count": 49,
   "id": "626974e1-4f49-4cf7-b623-e1d9dbc4c2c0",
   "metadata": {},
   "outputs": [
    {
     "name": "stdout",
     "output_type": "stream",
     "text": [
      "Scullers For Her Women Printed Navy Blue Shirt\n",
      "Scullers For Her Women Blue Top\n",
      "Scullers For Her Navy Blue T-shirt\n"
     ]
    }
   ],
   "source": [
    "for r in response[\"matches\"]:\n",
    "    print(r[\"metadata\"][\"productDisplayName\"])"
   ]
  },
  {
   "cell_type": "markdown",
   "id": "fe742e02-61b0-465f-95bf-5ab801bf98ed",
   "metadata": {},
   "source": [
    "### experiment with value of alpha"
   ]
  },
  {
   "cell_type": "code",
   "execution_count": 51,
   "id": "c6ecab88-aeef-4735-a6b6-7b51f919a1da",
   "metadata": {},
   "outputs": [],
   "source": [
    "hdense, hsparse = hybrid_scale(dense, sparse, alpha=0.5)\n",
    "\n",
    "response = index.query(\n",
    "    top_k=10,\n",
    "    vector=dense,\n",
    "    sparse_vector=sparse,\n",
    "    include_metadata=True\n",
    ")"
   ]
  },
  {
   "cell_type": "code",
   "execution_count": 52,
   "id": "a74d8fbc-a26a-490e-8d51-aaa3ac605a08",
   "metadata": {},
   "outputs": [
    {
     "data": {
      "text/html": [
       "\n",
       "        <div style=\"display: flex; flex-flow: row wrap; text-align: center;\">\n",
       "        \n",
       "            <figure style=\"margin: 5px !important;\">\n",
       "              <img src=\"data:image/png;base64,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\" style=\"width: 90px; height: 120px\" >\n",
       "            </figure>\n",
       "        \n",
       "            <figure style=\"margin: 5px !important;\">\n",
       "              <img src=\"data:image/png;base64,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\" style=\"width: 90px; height: 120px\" >\n",
       "            </figure>\n",
       "        \n",
       "            <figure style=\"margin: 5px !important;\">\n",
       "              <img src=\"data:image/png;base64,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\" style=\"width: 90px; height: 120px\" >\n",
       "            </figure>\n",
       "        \n",
       "            <figure style=\"margin: 5px !important;\">\n",
       "              <img src=\"data:image/png;base64,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\" style=\"width: 90px; height: 120px\" >\n",
       "            </figure>\n",
       "        \n",
       "            <figure style=\"margin: 5px !important;\">\n",
       "              <img src=\"data:image/png;base64,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\" style=\"width: 90px; height: 120px\" >\n",
       "            </figure>\n",
       "        \n",
       "            <figure style=\"margin: 5px !important;\">\n",
       "              <img src=\"data:image/png;base64,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\" style=\"width: 90px; height: 120px\" >\n",
       "            </figure>\n",
       "        \n",
       "            <figure style=\"margin: 5px !important;\">\n",
       "              <img src=\"data:image/png;base64,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\" style=\"width: 90px; height: 120px\" >\n",
       "            </figure>\n",
       "        \n",
       "            <figure style=\"margin: 5px !important;\">\n",
       "              <img src=\"data:image/png;base64,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\" style=\"width: 90px; height: 120px\" >\n",
       "            </figure>\n",
       "        \n",
       "            <figure style=\"margin: 5px !important;\">\n",
       "              <img src=\"data:image/png;base64,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\" style=\"width: 90px; height: 120px\" >\n",
       "            </figure>\n",
       "        \n",
       "            <figure style=\"margin: 5px !important;\">\n",
       "              <img src=\"data:image/png;base64,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\" style=\"width: 90px; height: 120px\" >\n",
       "            </figure>\n",
       "        \n",
       "        </div>\n",
       "    "
      ],
      "text/plain": [
       "<IPython.core.display.HTML object>"
      ]
     },
     "execution_count": 52,
     "metadata": {},
     "output_type": "execute_result"
    }
   ],
   "source": [
    "imgs = [images[int(r[\"id\"])] for r in response[\"matches\"]]\n",
    "display_result(imgs)"
   ]
  },
  {
   "cell_type": "code",
   "execution_count": 54,
   "id": "6db5d49c-f0ba-464a-8a33-01d8987d99e1",
   "metadata": {},
   "outputs": [
    {
     "name": "stdout",
     "output_type": "stream",
     "text": [
      "30.4289761: Scullers For Her Women Printed Navy Blue Shirt\n",
      "29.1198521: Scullers For Her Women Blue Top\n",
      "28.6167984: Scullers For Her Navy Blue T-shirt\n",
      "28.5936699: Jealous 21 Women Teal Shirt\n",
      "28.2291508: United Colors of Benetton Women Purple Shirt\n",
      "28.2055969: John Players Men Check Blue Shirt\n",
      "28.1473541: Arrow Woman Blue Shirt\n",
      "27.9396362: Arrow Woman Blue Shirt\n",
      "27.8888988: John Players Men Navy Blue Shirt\n",
      "27.7596169: Lee Women Paula Blue Top\n"
     ]
    }
   ],
   "source": [
    "for r in response[\"matches\"]:\n",
    "    print(f\"{r[\"score\"]}: {r[\"metadata\"][\"productDisplayName\"]}\")"
   ]
  }
 ],
 "metadata": {
  "kernelspec": {
   "display_name": "Python 3 (ipykernel)",
   "language": "python",
   "name": "python3"
  },
  "language_info": {
   "codemirror_mode": {
    "name": "ipython",
    "version": 3
   },
   "file_extension": ".py",
   "mimetype": "text/x-python",
   "name": "python",
   "nbconvert_exporter": "python",
   "pygments_lexer": "ipython3",
   "version": "3.12.2"
  }
 },
 "nbformat": 4,
 "nbformat_minor": 5
}
