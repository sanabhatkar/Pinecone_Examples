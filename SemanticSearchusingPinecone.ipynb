{
 "cells": [
  {
   "cell_type": "code",
   "execution_count": null,
   "id": "2d620171-470d-4813-af64-761c9509c5c3",
   "metadata": {},
   "outputs": [],
   "source": [
    "#pip install --quiet --upgrade rich"
   ]
  },
  {
   "cell_type": "code",
   "execution_count": null,
   "id": "d4a5662a-2523-4882-a29b-8b06d9fc04aa",
   "metadata": {},
   "outputs": [],
   "source": [
    "#pip install --quiet --upgrade streamlit"
   ]
  },
  {
   "cell_type": "code",
   "execution_count": null,
   "id": "9f5212f0-84a2-4247-b1be-e828f5fe7a62",
   "metadata": {},
   "outputs": [],
   "source": [
    "#pip install --quiet --upgrade datasets"
   ]
  },
  {
   "cell_type": "code",
   "execution_count": null,
   "id": "1081dd08-fe20-40fa-8e61-c89b097ef457",
   "metadata": {},
   "outputs": [],
   "source": [
    "#pip install --quiet --upgrade sentence_transformers"
   ]
  },
  {
   "cell_type": "code",
   "execution_count": null,
   "id": "05b76bad-05ec-4e1f-a24a-a3d7f67ad888",
   "metadata": {},
   "outputs": [],
   "source": [
    "#pip install --quiet --upgrade torchvision"
   ]
  },
  {
   "cell_type": "code",
   "execution_count": null,
   "id": "5769a6b4-4dd1-44fc-ab96-569afd7b696c",
   "metadata": {},
   "outputs": [],
   "source": [
    "#pip install --quiet --upgrade torch"
   ]
  },
  {
   "cell_type": "code",
   "execution_count": null,
   "id": "7d1079e3-34aa-45a6-975d-7400cdeef075",
   "metadata": {},
   "outputs": [],
   "source": [
    "#pip install --quiet --upgrade pinecone-client"
   ]
  },
  {
   "cell_type": "code",
   "execution_count": null,
   "id": "cf1c62a6-c28d-4b41-96e6-a532acfff770",
   "metadata": {},
   "outputs": [],
   "source": [
    "#pip install --quiet --upgrade pinecone-datasets"
   ]
  },
  {
   "cell_type": "code",
   "execution_count": null,
   "id": "6bc69df0-193b-46b6-abe0-3e7c7af100bc",
   "metadata": {},
   "outputs": [],
   "source": [
    "#pip install --quiet --upgrade pinecone-text"
   ]
  },
  {
   "cell_type": "code",
   "execution_count": null,
   "id": "e0642353-6af6-4b54-a252-6162bcf36de5",
   "metadata": {},
   "outputs": [],
   "source": [
    "#pip install --quiet --upgrade tqdm"
   ]
  },
  {
   "cell_type": "code",
   "execution_count": null,
   "id": "79842ad9-ac4d-4a8d-8f6b-050a47cbd4eb",
   "metadata": {},
   "outputs": [],
   "source": [
    "#pip install --quiet --upgrade tiktoken"
   ]
  },
  {
   "cell_type": "code",
   "execution_count": null,
   "id": "09eb9ad9-51df-44ab-b058-8b9fff0f40fb",
   "metadata": {},
   "outputs": [],
   "source": [
    "#pip install --quiet --upgrade deepface"
   ]
  },
  {
   "cell_type": "code",
   "execution_count": null,
   "id": "c0972b9f-b55f-4856-b7ff-df80fe321108",
   "metadata": {},
   "outputs": [],
   "source": [
    "import warnings\n",
    "warnings.filterwarnings('ignore')"
   ]
  },
  {
   "cell_type": "code",
   "execution_count": null,
   "id": "7ca35816-caba-4f25-99a1-8cd3b024a061",
   "metadata": {},
   "outputs": [],
   "source": [
    "#pip install tf-keras==2.17.0"
   ]
  },
  {
   "cell_type": "code",
   "execution_count": null,
   "id": "2aec3b85-b428-464c-90e6-40be1239310d",
   "metadata": {},
   "outputs": [],
   "source": [
    "from datasets import load_dataset\n",
    "from sentence_transformers import SentenceTransformer"
   ]
  },
  {
   "cell_type": "code",
   "execution_count": null,
   "id": "ad95abe0-ea2c-416f-a1d9-004251ec777e",
   "metadata": {},
   "outputs": [],
   "source": [
    "from pinecone import Pinecone, ServerlessSpec\n",
    "import os\n",
    "import time\n",
    "import torch"
   ]
  },
  {
   "cell_type": "code",
   "execution_count": null,
   "id": "b7006db7-595f-400b-bf0a-6de02c630025",
   "metadata": {},
   "outputs": [],
   "source": [
    "from UDCUtils import UDCUtils\n",
    "\n",
    "utils = UDCUtils()"
   ]
  },
  {
   "cell_type": "code",
   "execution_count": null,
   "id": "f81aa1f0-6d8e-436d-8c29-286d9d9c533e",
   "metadata": {},
   "outputs": [],
   "source": [
    "pinecone_api_key = utils.get_pinecone_api_key()\n",
    "#print(type(pinecone_api_key))\n",
    "\n",
    "if pinecone_api_key==None:\n",
    "    pinecone_api_key = \"a85f0b7c-6ce3-458d-aa18-168f39e4420b\" ##default key"
   ]
  },
  {
   "cell_type": "code",
   "execution_count": null,
   "id": "db6fe2d7-2250-4acf-9d71-0a391fb8fa6f",
   "metadata": {},
   "outputs": [],
   "source": [
    "print(pinecone_api_key)"
   ]
  },
  {
   "cell_type": "code",
   "execution_count": null,
   "id": "b51e2407-18da-4c83-bad3-7467e79743e7",
   "metadata": {},
   "outputs": [],
   "source": [
    "from tqdm.auto import tqdm"
   ]
  },
  {
   "cell_type": "code",
   "execution_count": null,
   "id": "7dc04ae7-50e3-47ec-96fa-b9cdd5664323",
   "metadata": {},
   "outputs": [],
   "source": [
    "import datasets\n",
    "\n",
    "#datasets.get_dataset_infos(path=\"quora\")\n",
    "\n",
    "datasets.list_datasets()"
   ]
  },
  {
   "cell_type": "code",
   "execution_count": null,
   "id": "50ad54cb-d9cb-4fcd-9c27-fa2a6cc540d9",
   "metadata": {},
   "outputs": [],
   "source": [
    "dataset = load_dataset('quora', split='train[:10000]', trust_remote_code=True)"
   ]
  },
  {
   "cell_type": "code",
   "execution_count": null,
   "id": "66b7d169-4f12-41c8-8065-f695c9b11375",
   "metadata": {},
   "outputs": [],
   "source": [
    "dataset[:5]"
   ]
  },
  {
   "cell_type": "code",
   "execution_count": null,
   "id": "0f306f1c-09e5-42da-a536-faed3f391d39",
   "metadata": {},
   "outputs": [],
   "source": [
    "#read all questions in a list\n",
    "questions = []\n",
    "\n",
    "for record in dataset[\"questions\"]:\n",
    "    questions.extend(record['text'])\n",
    "\n",
    "#convert list into set of unique questions\n",
    "question_lst = list(set(questions))"
   ]
  },
  {
   "cell_type": "code",
   "execution_count": null,
   "id": "a78e8e69-7a6b-41ee-bf4d-d1d483445840",
   "metadata": {},
   "outputs": [],
   "source": [
    "print('-'*50)\n",
    "print(\"\\n\".join(question_lst[:10]))\n",
    "print('-'*50)\n",
    "print(f\"Sample questions above out of total No of questions:{len(question_lst)}\")"
   ]
  },
  {
   "cell_type": "code",
   "execution_count": null,
   "id": "9b778c45-8070-46d2-bd28-b8cafcffa1b5",
   "metadata": {},
   "outputs": [],
   "source": [
    "### checking if we have access to GPU by checking value of cuda\n",
    "\n",
    "device = 'cuda' if torch.cuda.is_available() else \"cpu\"\n",
    "\n",
    "if device != 'cuda':\n",
    "    print(\"No cuda available\")"
   ]
  },
  {
   "cell_type": "code",
   "execution_count": null,
   "id": "e68c8181-6cec-415e-a038-fa4740f57839",
   "metadata": {},
   "outputs": [],
   "source": [
    "### using transformer model all-MiniLM-L6-v2 that maps vector space to 384 dimensional space\n",
    "model = SentenceTransformer('all-MiniLM-L6-v2', device=device)"
   ]
  },
  {
   "cell_type": "code",
   "execution_count": null,
   "id": "969d48fc-c370-4b75-af56-0f684464380d",
   "metadata": {},
   "outputs": [],
   "source": [
    "query = \"where does the queen of england live?\"\n",
    "xq = model.encode(query)\n",
    "print(xq.shape)"
   ]
  },
  {
   "cell_type": "code",
   "execution_count": null,
   "id": "d92cdd2d-af04-4e38-a6a3-02e68c88ee27",
   "metadata": {},
   "outputs": [],
   "source": [
    "pinecone_obj = Pinecone(api_key=pinecone_api_key)\n",
    "dl_ai_index_name = utils.create_dlai_index_name('dl-ai')\n",
    "print(dl_ai_index_name)"
   ]
  },
  {
   "cell_type": "code",
   "execution_count": null,
   "id": "c1a629d8-0855-4a94-9ec1-346543aac534",
   "metadata": {},
   "outputs": [],
   "source": [
    "print(utils.get_dlapi_key())\n",
    "print(len(utils.get_dlapi_key()))"
   ]
  },
  {
   "cell_type": "code",
   "execution_count": null,
   "id": "394b637c-0786-4a7f-b425-5eb31dedd755",
   "metadata": {},
   "outputs": [],
   "source": [
    "print(utils.get_dlapi_key()[-36:-3])"
   ]
  },
  {
   "cell_type": "code",
   "execution_count": null,
   "id": "6fdd01a9-73d5-4f6b-8c5d-91fa87d21051",
   "metadata": {},
   "outputs": [],
   "source": [
    "dl_ai_index_name = dl_ai_index_name[:-3]\n",
    "\n",
    "if dl_ai_index_name in pinecone_obj.list_indexes():\n",
    "    pinecone_obj.delete_index(dl_ai_index_name)\n",
    "\n",
    "print(dl_ai_index_name)"
   ]
  },
  {
   "cell_type": "code",
   "execution_count": null,
   "id": "5362151d-5f96-4ad5-9b40-d8b5ecacd8a4",
   "metadata": {},
   "outputs": [],
   "source": [
    "pinecone_obj.create_index(\n",
    "    name=dl_ai_index_name,\n",
    "    dimension=model.get_sentence_embedding_dimension(),\n",
    "    metric='cosine',\n",
    "    spec=ServerlessSpec(cloud='aws', region='us-east-1')\n",
    ")\n",
    "\n",
    "index = pinecone_obj.Index(dl_ai_index_name)\n",
    "print(index)"
   ]
  },
  {
   "cell_type": "code",
   "execution_count": null,
   "id": "ea072343-0903-42fb-95eb-efdd738d54d6",
   "metadata": {},
   "outputs": [],
   "source": [
    "## create embeddings and upsert to pinecone\n",
    "batch_size = 200\n",
    "vector_limit = 1000\n",
    "\n",
    "questions = question_lst[:vector_limit]\n",
    "\n",
    "import json\n",
    "\n",
    "for i in tqdm(range(0, len(questions), batch_size)):\n",
    "    i_end = min(i+batch_size, vector_limit)\n",
    "    ids = [str(x) for x in range(i, i_end)]\n",
    "    metadata = [{'text':text} for text in questions[i:i_end]]\n",
    "    xq = model.encode(questions[i:i_end])\n",
    "    records = zip(ids, xq, metadata)\n",
    "    index.upsert(vectors=records)\n",
    "    "
   ]
  },
  {
   "cell_type": "code",
   "execution_count": null,
   "id": "997e695c-d09d-48a7-b798-ae23fddccd24",
   "metadata": {},
   "outputs": [],
   "source": [
    "index.describe_index_stats()"
   ]
  },
  {
   "cell_type": "code",
   "execution_count": null,
   "id": "f3e491b6-e1dc-4b6a-a13c-861c3845ad0a",
   "metadata": {},
   "outputs": [],
   "source": [
    "## run your query\n",
    "def run_query(query):\n",
    "    embedding = model.encode(query).tolist()\n",
    "    results = index.query(top_k=10, vector=embedding, include_metadata=True, include_values=False)\n",
    "    for result in results[\"matches\"]:\n",
    "        print(result)"
   ]
  },
  {
   "cell_type": "code",
   "execution_count": null,
   "id": "513fbcff-6107-4413-bdea-1de7944bcd83",
   "metadata": {},
   "outputs": [],
   "source": [
    "run_query(\"Why is baking soda added to cake batter?\")"
   ]
  },
  {
   "cell_type": "code",
   "execution_count": null,
   "id": "f8e2eb56-c4bd-4b31-b02b-0e8dc681a1d7",
   "metadata": {},
   "outputs": [],
   "source": []
  },
  {
   "cell_type": "code",
   "execution_count": null,
   "id": "40ef6520-4971-4af0-931e-516f86341afd",
   "metadata": {},
   "outputs": [],
   "source": []
  },
  {
   "cell_type": "code",
   "execution_count": null,
   "id": "252de490-0297-475f-a5d4-94a1e955b2fc",
   "metadata": {},
   "outputs": [],
   "source": []
  },
  {
   "cell_type": "code",
   "execution_count": null,
   "id": "54f835ca-c9fa-43c3-91b1-b2e88cdc9579",
   "metadata": {},
   "outputs": [],
   "source": []
  },
  {
   "cell_type": "code",
   "execution_count": null,
   "id": "a59ed443-2bd4-457b-a2ac-a544dae8236c",
   "metadata": {},
   "outputs": [],
   "source": []
  },
  {
   "cell_type": "code",
   "execution_count": null,
   "id": "3d6ffa09-34d7-41d8-a2e0-b6f04453f8a4",
   "metadata": {},
   "outputs": [],
   "source": []
  },
  {
   "cell_type": "code",
   "execution_count": null,
   "id": "e3bbf56a-1232-44c1-81c2-e2fb5c533773",
   "metadata": {},
   "outputs": [],
   "source": []
  }
 ],
 "metadata": {
  "kernelspec": {
   "display_name": "Python 3 (ipykernel)",
   "language": "python",
   "name": "python3"
  },
  "language_info": {
   "codemirror_mode": {
    "name": "ipython",
    "version": 3
   },
   "file_extension": ".py",
   "mimetype": "text/x-python",
   "name": "python",
   "nbconvert_exporter": "python",
   "pygments_lexer": "ipython3",
   "version": "3.12.2"
  }
 },
 "nbformat": 4,
 "nbformat_minor": 5
}
