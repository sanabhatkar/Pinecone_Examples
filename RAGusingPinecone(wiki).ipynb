{
 "cells": [
  {
   "cell_type": "code",
   "execution_count": null,
   "id": "d19bbace-9a05-4777-b210-bcc8ae039a95",
   "metadata": {},
   "outputs": [],
   "source": [
    "import warnings\n",
    "warnings.filterwarnings('ignore')"
   ]
  },
  {
   "cell_type": "code",
   "execution_count": null,
   "id": "39e51352-5060-46ba-980d-0510916e6344",
   "metadata": {},
   "outputs": [],
   "source": [
    "from datasets import load_dataset\n",
    "from pinecone import Pinecone, ServerlessSpec\n",
    "from openai import OpenAI\n",
    "from tqdm.auto import tqdm\n",
    "import ast\n",
    "import os\n",
    "import time"
   ]
  },
  {
   "cell_type": "code",
   "execution_count": null,
   "id": "e0a8132b-05d5-46e5-8000-a72390d60414",
   "metadata": {},
   "outputs": [],
   "source": [
    "from UDCUtils import UDCUtils\n",
    "utils = UDCUtils()"
   ]
  },
  {
   "cell_type": "code",
   "execution_count": null,
   "id": "c5b8f929-ae8d-49ee-8c6b-d143e88143ed",
   "metadata": {},
   "outputs": [],
   "source": [
    "pinecone_api_key = utils.get_pinecone_api_key()"
   ]
  },
  {
   "cell_type": "code",
   "execution_count": null,
   "id": "bdc70b3c-820a-4913-871f-79b1deaa1cdf",
   "metadata": {},
   "outputs": [],
   "source": [
    "if pinecone_api_key==None:\n",
    "    pinecone_api_key = \"a85f0b7c-6ce3-458d-aa18-168f39e4420b\" ##default key"
   ]
  },
  {
   "cell_type": "code",
   "execution_count": null,
   "id": "19afcc91-daba-4e86-a004-69e4d57858b6",
   "metadata": {},
   "outputs": [],
   "source": [
    "pinecone_obj = Pinecone(api_key=pinecone_api_key)\n",
    "\n",
    "index_name = utils.create_dlai_index_name('dl-ai-001')\n",
    "print(index_name)"
   ]
  },
  {
   "cell_type": "code",
   "execution_count": null,
   "id": "b547b31c-b0a6-44fd-a83d-af3f82e504f0",
   "metadata": {},
   "outputs": [],
   "source": [
    "index_name = index_name[:-3]\n",
    "\n",
    "if index_name in pinecone_obj.list_indexes():\n",
    "    print(1)\n",
    "    pinecone_obj.delete_index(index_name)\n",
    "\n",
    "pinecone_obj.create_index(\n",
    "    name=index_name,\n",
    "    dimension=1536,\n",
    "    metric='cosine',\n",
    "    spec=ServerlessSpec(cloud='aws', region='us-east-1')\n",
    ")"
   ]
  },
  {
   "cell_type": "code",
   "execution_count": null,
   "id": "e45e6998-b6aa-4176-b8cd-2cead124f91c",
   "metadata": {},
   "outputs": [],
   "source": [
    "index = pinecone_obj.Index(index_name)"
   ]
  },
  {
   "cell_type": "code",
   "execution_count": null,
   "id": "cf7fc6a4-d6c2-4e30-acba-7a6d3fdf9f93",
   "metadata": {},
   "outputs": [],
   "source": [
    "#!wget -q -O lesson2-wiki.csv.zip \"https://www.dropbox.com/scl/fi/yxzmsrv2sgl249zcspeqb/lesson2-wiki.csv.zip?rlkey=paehnoxjl3s5x53d1bedt4pmc&dl=0\""
   ]
  },
  {
   "cell_type": "code",
   "execution_count": null,
   "id": "992e7c10-304d-4bd2-87c3-c6a62549827a",
   "metadata": {},
   "outputs": [],
   "source": [
    "#!unzip lesson2-wiki.csv.zip"
   ]
  },
  {
   "cell_type": "code",
   "execution_count": null,
   "id": "f8a89bb5-e971-4892-9d44-342568af6f47",
   "metadata": {},
   "outputs": [],
   "source": [
    "import pandas as pd"
   ]
  },
  {
   "cell_type": "code",
   "execution_count": null,
   "id": "4acece57-f084-490c-aa7c-18ec6170591f",
   "metadata": {},
   "outputs": [],
   "source": [
    "data = pd.read_csv(\"wiki.csv\")"
   ]
  },
  {
   "cell_type": "code",
   "execution_count": null,
   "id": "77150647-2924-46f5-bbb1-5ddb79af2f3c",
   "metadata": {},
   "outputs": [],
   "source": [
    "data.head()"
   ]
  },
  {
   "cell_type": "code",
   "execution_count": null,
   "id": "e9a9f598-06b7-44e6-81dd-946fa65e0063",
   "metadata": {},
   "outputs": [],
   "source": [
    "max_articles_num = 500"
   ]
  },
  {
   "cell_type": "code",
   "execution_count": null,
   "id": "b642c3e0-69b4-4a1c-829e-04a620e4be5f",
   "metadata": {},
   "outputs": [],
   "source": [
    "batch_size=300\n",
    "max_len=4194303\n",
    "prepped = []\n",
    "for id, row in tqdm(data.iterrows(), total=max_articles_num):\n",
    "    id = row['id']\n",
    "    values = ast.literal_eval(row['values'])\n",
    "    metadata = ast.literal_eval(row['metadata'])\n",
    "    #print(f\"{len(id)};{len(values)};{len(metadata)}\")\n",
    "    prepped.append({\n",
    "        'id':row['id'],\n",
    "        'values':values,\n",
    "        'metadata':metadata\n",
    "    })\n",
    "    if(len(prepped)==batch_size):\n",
    "        index.upsert(prepped)\n",
    "        prepped=[]\n",
    "\n",
    "index.upsert(prepped)"
   ]
  },
  {
   "cell_type": "code",
   "execution_count": null,
   "id": "996c23ee-4c61-4fa8-b5fe-c88b5a795b21",
   "metadata": {},
   "outputs": [],
   "source": [
    "index.describe_index_stats()"
   ]
  },
  {
   "cell_type": "code",
   "execution_count": null,
   "id": "6b825589-feb4-42a6-8307-b0df5e283b7d",
   "metadata": {},
   "outputs": [],
   "source": [
    "open_api_key = utils.get_openai_api_key()\n",
    "\n",
    "openai_client = OpenAI(api_key=open_api_key)"
   ]
  },
  {
   "cell_type": "code",
   "execution_count": null,
   "id": "4e2ad932-9eec-4198-9125-4a4e6be32901",
   "metadata": {},
   "outputs": [],
   "source": [
    "def get_embeddings(articles, model=\"text-embedding-ada-002\"):\n",
    "    return openai_client.embeddings.create(input=articles, model=model)"
   ]
  },
  {
   "cell_type": "code",
   "execution_count": null,
   "id": "f6f7153f-5eec-47d1-9fac-fb6dad1738b8",
   "metadata": {},
   "outputs": [],
   "source": [
    "query = \"When did India won its first cricket world cup match?\"\n",
    "\n",
    "embedding = get_embeddings([query])\n",
    "\n",
    "results = index.query(vector=embedding.data[0].embedding, top_k=3, include_metadata=True)\n",
    "\n",
    "text = [rec['metadata']['text'] for rec in results['matches']]\n",
    "\n",
    "print('\\n'.join(text))"
   ]
  },
  {
   "cell_type": "code",
   "execution_count": null,
   "id": "0484df4f-68db-4e4f-816b-c64beb7d38d1",
   "metadata": {},
   "outputs": [],
   "source": [
    "##prompt template\n",
    "from langchain.prompts import ChatPromptTemplate\n",
    "template_style = \"\"\"\n",
    "Answer the following question based on the context provided in the text enclosed in three backticks.\n",
    "Question: {query}\n",
    "Context:```{context}```\n",
    "Answer:\n",
    "\"\"\"\n",
    "print(template_style)"
   ]
  },
  {
   "cell_type": "code",
   "execution_count": null,
   "id": "2ee2eafd-af39-49c5-8084-f61f72c56ad9",
   "metadata": {},
   "outputs": [],
   "source": [
    "prompt_template = ChatPromptTemplate.from_template(template_style)"
   ]
  },
  {
   "cell_type": "code",
   "execution_count": null,
   "id": "76cfd712-47d4-4563-ac62-f6a05e203786",
   "metadata": {},
   "outputs": [],
   "source": [
    "prompt_template.messages[0].prompt.input_variables"
   ]
  },
  {
   "cell_type": "code",
   "execution_count": null,
   "id": "fe8d0f97-635d-4b3d-8d64-003fbd050438",
   "metadata": {},
   "outputs": [],
   "source": [
    "query = \"When did India won its first cricket world cup match?\"\n",
    "context_lst = [rec['metadata']['text'] for rec in results['matches']]\n",
    "context = \"\\n\".join(context_lst)\n",
    "prompt = prompt_template.format_messages(\n",
    "    context=context,\n",
    "    query=query\n",
    ")"
   ]
  },
  {
   "cell_type": "code",
   "execution_count": null,
   "id": "5d3e50ea-5079-4f12-9c43-e077842cdb6e",
   "metadata": {},
   "outputs": [],
   "source": [
    "print(type(prompt))"
   ]
  },
  {
   "cell_type": "code",
   "execution_count": null,
   "id": "7e5d32b3-10fb-44bf-bd8a-c76bc9ef1431",
   "metadata": {},
   "outputs": [],
   "source": [
    "print(len(prompt\n",
    "         ))"
   ]
  },
  {
   "cell_type": "code",
   "execution_count": null,
   "id": "a5d58828-002c-4b4c-9cb8-f776fcd7c5e7",
   "metadata": {},
   "outputs": [],
   "source": [
    "print(type(prompt[0]))"
   ]
  },
  {
   "cell_type": "code",
   "execution_count": null,
   "id": "fe0c8d9a-6a3b-4fa8-983a-e0f3cad1de67",
   "metadata": {},
   "outputs": [],
   "source": [
    "from langchain_core.messages.human import HumanMessage\n",
    "\n",
    "message = prompt[0]\n",
    "\n",
    "#print(message)\n",
    "\n",
    "print(type(message))"
   ]
  },
  {
   "cell_type": "code",
   "execution_count": null,
   "id": "88bb5718-d7c3-4af9-ad53-847cfe2f6ac1",
   "metadata": {},
   "outputs": [],
   "source": [
    "print(type(message.content))"
   ]
  },
  {
   "cell_type": "code",
   "execution_count": null,
   "id": "2adb2930-a8db-44d4-8406-c273749f485a",
   "metadata": {},
   "outputs": [],
   "source": [
    "response = openai_client.completions.create(\n",
    "    model=\"gpt-3.5-turbo-instruct\",\n",
    "    prompt=message.content,\n",
    "    temperature=0,\n",
    "    max_tokens=636,\n",
    "    top_p=1,\n",
    "    frequency_penalty=0,\n",
    "    presence_penalty=0,\n",
    "    stop=None\n",
    ")"
   ]
  },
  {
   "cell_type": "code",
   "execution_count": null,
   "id": "b94b2b37-7c8b-45b4-baae-6a3d2a04cd0d",
   "metadata": {},
   "outputs": [],
   "source": [
    "print(response.choices[0].text)"
   ]
  },
  {
   "cell_type": "code",
   "execution_count": null,
   "id": "21ac7341-3570-4267-8174-d6a68ec24ca6",
   "metadata": {},
   "outputs": [],
   "source": []
  },
  {
   "cell_type": "code",
   "execution_count": null,
   "id": "5b60eebb-13d2-4b49-b93e-15a23465a19d",
   "metadata": {},
   "outputs": [],
   "source": []
  },
  {
   "cell_type": "code",
   "execution_count": null,
   "id": "8b98ff30-349f-49a8-ac89-593fd14cefc9",
   "metadata": {},
   "outputs": [],
   "source": []
  }
 ],
 "metadata": {
  "kernelspec": {
   "display_name": "Python 3 (ipykernel)",
   "language": "python",
   "name": "python3"
  },
  "language_info": {
   "codemirror_mode": {
    "name": "ipython",
    "version": 3
   },
   "file_extension": ".py",
   "mimetype": "text/x-python",
   "name": "python",
   "nbconvert_exporter": "python",
   "pygments_lexer": "ipython3",
   "version": "3.12.2"
  }
 },
 "nbformat": 4,
 "nbformat_minor": 5
}
