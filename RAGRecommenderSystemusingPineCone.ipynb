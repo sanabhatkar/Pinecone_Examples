{
 "cells": [
  {
   "cell_type": "code",
   "execution_count": null,
   "id": "c4ef7901-6445-4f80-bb2b-f8ce3191b814",
   "metadata": {},
   "outputs": [],
   "source": [
    "import warnings\n",
    "warnings.filterwarnings('ignore')"
   ]
  },
  {
   "cell_type": "code",
   "execution_count": null,
   "id": "0a47be39-4533-4f0c-8733-d65825a0800f",
   "metadata": {},
   "outputs": [],
   "source": [
    "import pandas as pd\n",
    "from pinecone import Pinecone, ServerlessSpec\n",
    "import os\n",
    "import time\n",
    "import sys\n",
    "import ast\n",
    "#from tqdm.auto import tqdm, trange\n",
    "from tqdm import tqdm\n",
    "from openai import OpenAI\n",
    "from langchain.text_splitter import RecursiveCharacterTextSplitter"
   ]
  },
  {
   "cell_type": "code",
   "execution_count": null,
   "id": "653c4c41-6489-46e8-8067-3c628c013e7a",
   "metadata": {},
   "outputs": [],
   "source": [
    "from UDCUtils import UDCUtils\n",
    "utils = UDCUtils()"
   ]
  },
  {
   "cell_type": "code",
   "execution_count": null,
   "id": "53a18519-342b-41b1-982b-37b6f8bc1c35",
   "metadata": {},
   "outputs": [],
   "source": [
    "pincone_api_key = utils.get_pinecone_api_key()\n",
    "pincone_api_key"
   ]
  },
  {
   "cell_type": "code",
   "execution_count": null,
   "id": "bdd37b4b-622e-45b7-925a-418608022ba7",
   "metadata": {},
   "outputs": [],
   "source": [
    "openai_api_key = utils.get_openai_api_key()\n",
    "openai_api_key"
   ]
  },
  {
   "cell_type": "code",
   "execution_count": null,
   "id": "6f257352-af90-4bdf-be5d-2a9c1695e7d5",
   "metadata": {},
   "outputs": [],
   "source": [
    "if pincone_api_key==None:\n",
    "    pincone_api_key = \"a85f0b7c-6ce3-458d-aa18-168f39e4420b\" ##default key\n",
    "pincone_api_key"
   ]
  },
  {
   "cell_type": "code",
   "execution_count": null,
   "id": "729b20f6-c786-4eb9-84d9-19d3e45e2ee5",
   "metadata": {},
   "outputs": [],
   "source": [
    "#!wget -q --show-progress -O all-the-news-3.zip \"https://www.dropbox.com/scl/fi/wruzj2bwyg743d0jzd7ku/all-the-news-3.zip?rlkey=rgwtwpeznbdadpv3f01sznwxa&dl=1\""
   ]
  },
  {
   "cell_type": "code",
   "execution_count": null,
   "id": "b7f271e9-4e3b-45d6-ab20-797b85802c68",
   "metadata": {},
   "outputs": [],
   "source": [
    "#!unzip all-the-news-3.zip"
   ]
  },
  {
   "cell_type": "code",
   "execution_count": null,
   "id": "4cbb385f-0af6-4a10-9af7-ca4ec42a36fc",
   "metadata": {
    "scrolled": true
   },
   "outputs": [],
   "source": [
    "file_name = \"all-the-news-3.csv\"\n",
    "df = pd.read_csv(file_name, nrows=100)\n",
    "df.head()"
   ]
  },
  {
   "cell_type": "code",
   "execution_count": null,
   "id": "4213407e-b85b-426c-8d9f-931ddb7970a6",
   "metadata": {
    "scrolled": true
   },
   "outputs": [],
   "source": [
    "#%pip install --upgrade --quiet tqdm"
   ]
  },
  {
   "cell_type": "code",
   "execution_count": null,
   "id": "a23e721a-03b5-48b8-8c4b-5f3b2e5c1aed",
   "metadata": {},
   "outputs": [],
   "source": [
    "openai_client = OpenAI(api_key=openai_api_key)\n",
    "\n",
    "index_name = utils.create_dlai_index_name(\"dev-001\")\n",
    "print(index_name)"
   ]
  },
  {
   "cell_type": "code",
   "execution_count": null,
   "id": "0ff1aca8-a41f-449f-b594-cc958b945965",
   "metadata": {},
   "outputs": [],
   "source": [
    "pinecone_obj = Pinecone(api_key=pincone_api_key)\n",
    "\n",
    "index_name = index_name[:-3]\n",
    "\n",
    "if index_name in pinecone_obj.list_indexes():\n",
    "    pinecone_obj.delete_index(index_name)"
   ]
  },
  {
   "cell_type": "code",
   "execution_count": null,
   "id": "f4fcd366-d0ed-4118-8c82-4e7d8581f60f",
   "metadata": {},
   "outputs": [],
   "source": [
    "print(index_name)"
   ]
  },
  {
   "cell_type": "code",
   "execution_count": null,
   "id": "8d95952c-a32a-44b6-a3fd-76229063d7f3",
   "metadata": {},
   "outputs": [],
   "source": [
    "pinecone_obj.create_index(name=index_name, dimension=1536, metric=\"cosine\",\n",
    "                         spec=ServerlessSpec(cloud=\"aws\", region=\"us-east-1\"))\n",
    "\n",
    "index = pinecone_obj.Index(index_name)"
   ]
  },
  {
   "cell_type": "code",
   "execution_count": null,
   "id": "eb9e0242-3ba3-43f8-bde0-65dd8294aee3",
   "metadata": {},
   "outputs": [],
   "source": [
    "def get_embeddings(articles, model_name = \"text-embedding-ada-002\"):\n",
    "    return (openai_client.embeddings.create(input=articles, model=model_name))"
   ]
  },
  {
   "cell_type": "code",
   "execution_count": null,
   "id": "f7e201c5-a81a-482d-b2d5-5096802f230a",
   "metadata": {},
   "outputs": [],
   "source": [
    "total_rows = 20000\n",
    "chunksize=400\n",
    "progress_bar = tqdm(total=total_rows)\n",
    "\n",
    "chunks = pd.read_csv(file_name, chunksize=chunksize, nrows=total_rows)\n",
    "\n",
    "prepped=[]\n",
    "chunk_num = 0\n",
    "\n",
    "for chunk in chunks:\n",
    "    print(chunk_num)\n",
    "    titles = chunk[\"title\"].tolist()\n",
    "    embeddings = get_embeddings(titles)\n",
    "    prepped = [\n",
    "        {\"id\": str(chunksize*chunk_num+i),\n",
    "        \"metadata\": {\"title\":titles[i]},\n",
    "        \"values\":embeddings.data[i].embedding} for i in range(len(titles))\n",
    "    ]\n",
    "    chunk_num = chunk_num + 1\n",
    "    #print(len(prepped))\n",
    "    if len(prepped)>=200:\n",
    "        index.upsert(prepped)\n",
    "        prepped=[]\n",
    "    progress_bar.update(len(chunk))\n",
    "#df.info()\n",
    "\n",
    "if len(prepped)>0:\n",
    "    index.upsert(prepped)"
   ]
  },
  {
   "cell_type": "code",
   "execution_count": null,
   "id": "85c76409-c6b3-4ed6-a35f-ce1fb8f258ce",
   "metadata": {},
   "outputs": [],
   "source": [
    "print(chunk_num)"
   ]
  },
  {
   "cell_type": "code",
   "execution_count": null,
   "id": "aa22f517-2084-4bbe-897b-42e4bca31a17",
   "metadata": {},
   "outputs": [],
   "source": [
    "index.describe_index_stats()"
   ]
  },
  {
   "cell_type": "code",
   "execution_count": null,
   "id": "7c91128b-9cd1-4779-8711-0630355a4125",
   "metadata": {},
   "outputs": [],
   "source": [
    "def get_recommendations(pinecone_index, search_term, top_k=10):\n",
    "    embedding = get_embeddings([search_term]).data[0].embedding\n",
    "    response = pinecone_index.query(vector=embedding, top_k = top_k, include_metadata = True)\n",
    "    return response"
   ]
  },
  {
   "cell_type": "code",
   "execution_count": null,
   "id": "10326e82-42d1-44e7-b025-6eca5ca79c7d",
   "metadata": {},
   "outputs": [],
   "source": [
    "response = get_recommendations(index, \"president obama\")\n",
    "#print(response.matches.score)\n",
    "\n",
    "for records in response.matches:\n",
    "    print(f\"{records.score}:{records.metadata[\"title\"]}\")"
   ]
  },
  {
   "cell_type": "markdown",
   "id": "ae225883-92bc-4330-9640-8ac1655444d0",
   "metadata": {},
   "source": [
    "### we will search articles that contain these term"
   ]
  },
  {
   "cell_type": "code",
   "execution_count": null,
   "id": "f21de57d-87af-4a9d-b02a-df37dca04601",
   "metadata": {},
   "outputs": [],
   "source": [
    "index_name = utils.create_dlai_index_name(\"dl-ai-002\")\n",
    "index_name = index_name[:-3]\n",
    "print(index_name)\n",
    "\n",
    "if index_name in pinecone_obj.list_indexes():\n",
    "    pinecone_obj.delete_index(index_name)\n",
    "\n",
    "pinecone_obj.create_index(name=index_name,\n",
    "                         dimension=1536,\n",
    "                         metric=\"cosine\",\n",
    "                         spec=ServerlessSpec(cloud=\"aws\", region=\"us-east-1\"))\n",
    "\n",
    "index_article = pinecone_obj.Index(index_name)"
   ]
  },
  {
   "cell_type": "code",
   "execution_count": null,
   "id": "f715b9b7-1d8a-450d-b355-5d3190942f0f",
   "metadata": {},
   "outputs": [],
   "source": [
    "#%pip install ipywidgets==7.7"
   ]
  },
  {
   "cell_type": "code",
   "execution_count": null,
   "id": "9defed98-c09e-4a02-9289-b432f45aef7e",
   "metadata": {},
   "outputs": [],
   "source": [
    "from tqdm import tqdm"
   ]
  },
  {
   "cell_type": "code",
   "execution_count": null,
   "id": "e8f3546a-7d08-40b4-a2e0-c43897beb7c4",
   "metadata": {},
   "outputs": [],
   "source": [
    "from time import sleep\n",
    "for i in tqdm(range(0,100)):\n",
    "    sleep(0.01)"
   ]
  },
  {
   "cell_type": "code",
   "execution_count": null,
   "id": "d2ac0afb-cd98-417a-bf84-12c65a16f427",
   "metadata": {},
   "outputs": [],
   "source": [
    "#help(index_article.delete)\n",
    "index_article.delete(delete_all=True)"
   ]
  },
  {
   "cell_type": "code",
   "execution_count": null,
   "id": "3be81384-dc2e-4277-8cc5-5f8e1b4061a4",
   "metadata": {},
   "outputs": [],
   "source": [
    "prepped = []\n",
    "\n",
    "chunksize=200\n",
    "total_rows=10000\n",
    "\n",
    "print(file_name)\n",
    "chunks = pd.read_csv(file_name, chunksize=chunksize, nrows=total_rows)\n",
    "\n",
    "#define a text splitter for splitting articles into tokens\n",
    "text_splitter = RecursiveCharacterTextSplitter(\n",
    "    chunk_size = chunksize,\n",
    "    chunk_overlap=20\n",
    ")\n",
    "\n",
    "embed_cnt=1\n",
    "chunk_num=0\n",
    "for chunk in chunks:\n",
    "    print(chunk_num)\n",
    "    titles = chunk[\"title\"].to_list()\n",
    "    #title_embedding = get_embeddings(titles)\n",
    "    articles = chunk[\"article\"].to_list()\n",
    "    #print(len(titles))\n",
    "    #print(len(articles))\n",
    "    for i, article in tqdm(enumerate(articles)):\n",
    "        #print(f\"article>>>{i}\")\n",
    "        if article == None:\n",
    "            articles[i] = \"\"\n",
    "        #embeddings = get_embeddings(articles)\n",
    "        else:\n",
    "            embed_cnt = chunksize * chunk_num * i\n",
    "            tokens = text_splitter.split_text(str(article))\n",
    "            embeddings = get_embeddings(tokens)\n",
    "            #print(f\"embed_cnt:{embed_cnt}\")\n",
    "            #print(f\"len(embeddings):{len(embeddings.data)}\")\n",
    "            prepped.extend([{\n",
    "            \"id\": str(embed_cnt+j),\n",
    "            \"metadata\": {\"title\":titles[i]},\n",
    "            \"values\":embeddings.data[j].embedding} for j in range(len(tokens))\n",
    "                      ])\n",
    "            #print(len(prepped))\n",
    "        if(len(prepped)>=200):\n",
    "            print(f\"Upserting in index for chunk {chunk_num}\")\n",
    "            index_article.upsert(prepped)\n",
    "            prepped.clear()\n",
    "        \n",
    "    chunk_num = chunk_num + 1"
   ]
  },
  {
   "cell_type": "code",
   "execution_count": null,
   "id": "52e8f39f-4787-451d-ad45-005a1d653fde",
   "metadata": {},
   "outputs": [],
   "source": [
    "index_article.describe_index_stats()"
   ]
  },
  {
   "cell_type": "code",
   "execution_count": null,
   "id": "bb02f346-ef93-445c-b00f-d4679c00b0d4",
   "metadata": {},
   "outputs": [],
   "source": [
    "reco = get_recommendations(index_article, 'President Obama', top_k=10)\n",
    "seen = {}\n",
    "for r in reco.matches:\n",
    "    title = r.metadata['title']\n",
    "    if title not in seen:\n",
    "        print(f'{r.score} : {title}')\n",
    "        seen[title] = '.'"
   ]
  }
 ],
 "metadata": {
  "kernelspec": {
   "display_name": "Python 3 (ipykernel)",
   "language": "python",
   "name": "python3"
  },
  "language_info": {
   "codemirror_mode": {
    "name": "ipython",
    "version": 3
   },
   "file_extension": ".py",
   "mimetype": "text/x-python",
   "name": "python",
   "nbconvert_exporter": "python",
   "pygments_lexer": "ipython3",
   "version": "3.12.2"
  }
 },
 "nbformat": 4,
 "nbformat_minor": 5
}
