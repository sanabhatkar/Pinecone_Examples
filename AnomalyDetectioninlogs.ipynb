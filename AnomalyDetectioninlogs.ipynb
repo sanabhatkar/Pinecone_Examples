{
 "cells": [
  {
   "cell_type": "code",
   "execution_count": null,
   "id": "a40e2110-ba8a-4d4e-9912-c66996cb9910",
   "metadata": {},
   "outputs": [],
   "source": [
    "import warnings\n",
    "warnings.filterwarnings(\"ignore\")"
   ]
  },
  {
   "cell_type": "code",
   "execution_count": null,
   "id": "c2ccb900-6c7d-45d6-b676-73526346b4a6",
   "metadata": {},
   "outputs": [],
   "source": [
    "from UDCUtils import UDCUtils\n",
    "\n",
    "utils = UDCUtils()"
   ]
  },
  {
   "cell_type": "code",
   "execution_count": null,
   "id": "6701b414-884e-4bf5-b9f2-49e3755725e5",
   "metadata": {},
   "outputs": [],
   "source": [
    "from pinecone import Pinecone, ServerlessSpec"
   ]
  },
  {
   "cell_type": "code",
   "execution_count": null,
   "id": "ab61c295-7718-45d6-b1b0-8dd6761f9f3f",
   "metadata": {},
   "outputs": [],
   "source": [
    "pinecone_api_key = utils.get_pinecone_api_key()\n",
    "print(pinecone_api_key)"
   ]
  },
  {
   "cell_type": "code",
   "execution_count": null,
   "id": "9ee1f6f4-414a-408e-9e88-f19f9ca3b83b",
   "metadata": {},
   "outputs": [],
   "source": [
    "from sentence_transformers import SentenceTransformer\n",
    "from torch.utils.data import DataLoader\n",
    "from torch import nn\n",
    "from tqdm import tqdm"
   ]
  },
  {
   "cell_type": "code",
   "execution_count": null,
   "id": "ecebdb18-6610-4362-bfab-0c41c4f1f150",
   "metadata": {},
   "outputs": [],
   "source": [
    "index_name = utils.create_dlai_index_name(\"idx-log1\")\n",
    "print(index_name)"
   ]
  },
  {
   "cell_type": "code",
   "execution_count": null,
   "id": "909e175c-0603-4e0c-b97d-fc9e4c12a59b",
   "metadata": {},
   "outputs": [],
   "source": [
    "pinecone = Pinecone(\n",
    "    api_key=pinecone_api_key\n",
    ")"
   ]
  },
  {
   "cell_type": "code",
   "execution_count": null,
   "id": "d51e1e72-c8cd-4fd4-9853-31a5179e44d9",
   "metadata": {},
   "outputs": [],
   "source": [
    "pinecone.create_index(\n",
    "    name=index_name,\n",
    "    dimension=256,\n",
    "    metric='cosine',\n",
    "    spec=ServerlessSpec(cloud=\"aws\", region=\"us-east-1\")\n",
    ")\n",
    "\n",
    "INDEX = pinecone.Index(index_name)"
   ]
  },
  {
   "cell_type": "code",
   "execution_count": null,
   "id": "d0629916-c20c-441b-a745-4077074f7ada",
   "metadata": {},
   "outputs": [],
   "source": [
    "#!wget -q --show-progress -O training.tar.zip \"https://www.dropbox.com/scl/fi/rihfngx4ju5pzjzjj7u9z/lesson6.tar.zip?rlkey=rct9a9bo8euqgshrk8wiq2orh&dl=1\"\n",
    "\n",
    "#!tar -xzvf training.tar.zip\n",
    "\n",
    "#!tar -xzvf lesson6.tar"
   ]
  },
  {
   "cell_type": "code",
   "execution_count": null,
   "id": "9916c738-5017-4726-81a9-021c2edbd9cf",
   "metadata": {},
   "outputs": [],
   "source": [
    "!ls -lrt training.txt sample.log"
   ]
  },
  {
   "cell_type": "code",
   "execution_count": null,
   "id": "10d5e225-9ad7-4775-9d6b-a9ae4a8b6824",
   "metadata": {},
   "outputs": [],
   "source": [
    "!head -5 sample.log"
   ]
  },
  {
   "cell_type": "code",
   "execution_count": null,
   "id": "cedacfd2-b851-4c25-8d6a-2c94a9759e4f",
   "metadata": {},
   "outputs": [],
   "source": [
    "!head -5 training.txt"
   ]
  },
  {
   "cell_type": "markdown",
   "id": "578a699c-da4e-4da4-9d8a-9b5a0250e7f4",
   "metadata": {},
   "source": [
    "### Check cuda and setup the model"
   ]
  },
  {
   "cell_type": "code",
   "execution_count": null,
   "id": "2d64b185-ed5a-4c7d-a91c-ae56124e96cf",
   "metadata": {},
   "outputs": [],
   "source": [
    "import torch\n",
    "device = 'cuda' if torch.cuda.is_available() == True else 'cpu'\n",
    "print (device)"
   ]
  },
  {
   "cell_type": "code",
   "execution_count": null,
   "id": "66133e60-1cd6-48dc-9c7f-af26668b2e5f",
   "metadata": {},
   "outputs": [],
   "source": [
    "#BERT model for word embeddings\n",
    "from sentence_transformers import InputExample, util, losses, models\n",
    "#1\n",
    "word_embedding_model = models.Transformer('bert-base-uncased', max_seq_length=768)\n",
    "#2\n",
    "pooling_model = models.Pooling(word_embedding_dimension=word_embedding_model.get_word_embedding_dimension())\n",
    "#3\n",
    "dense_model = models.Dense(\n",
    "    in_features=pooling_model.get_sentence_embedding_dimension(),\n",
    "    out_features=256,\n",
    "    activation_function=nn.Tanh()\n",
    ")\n",
    "#model\n",
    "#model = SentenceTransformer(modules=[word_embedding_model, pooling_model, dense_model], device=device)\n",
    "model = SentenceTransformer(modules=[word_embedding_model, pooling_model, dense_model], device=\"mps\") #change device to mps for training the model"
   ]
  },
  {
   "cell_type": "code",
   "execution_count": null,
   "id": "5255c1b9-19cc-4fc3-98af-14096f55c6da",
   "metadata": {},
   "outputs": [],
   "source": [
    "train_examples = []\n",
    "\n",
    "with open('training.txt', 'r') as f:\n",
    "    lines = f.readlines()\n",
    "    for line in lines:\n",
    "        line = line.strip()\n",
    "        if line:\n",
    "            a,b, label = line.split('^')\n",
    "            #print(a,b,label)\n",
    "            train_examples.append(InputExample(texts=[a,b], label=float(label)))"
   ]
  },
  {
   "cell_type": "code",
   "execution_count": null,
   "id": "202d51b2-ed4b-4d66-801d-5efa9af6b1c4",
   "metadata": {},
   "outputs": [],
   "source": [
    "len(train_examples)"
   ]
  },
  {
   "cell_type": "code",
   "execution_count": null,
   "id": "6e3a9f49-9bda-4317-ac46-09c54219e7f2",
   "metadata": {},
   "outputs": [],
   "source": [
    "#import pandas as pd\n",
    "#df = pd.DataFrame(train_examples)\n",
    "#df.head()"
   ]
  },
  {
   "cell_type": "code",
   "execution_count": null,
   "id": "d20158db-104e-41c6-b665-f36ac6b193ce",
   "metadata": {},
   "outputs": [],
   "source": [
    "train_dataloader = DataLoader(train_examples, shuffle=True, batch_size=16)\n",
    "train_loss_fn = losses.CosineSimilarityLoss(model)"
   ]
  },
  {
   "cell_type": "code",
   "execution_count": null,
   "id": "44733f49-e38b-45e7-94f2-c6f2c85686b8",
   "metadata": {},
   "outputs": [],
   "source": [
    "#pip install accelerate -U"
   ]
  },
  {
   "cell_type": "code",
   "execution_count": null,
   "id": "e0a06896-5183-479c-9a72-92a60d4e8bc5",
   "metadata": {
    "scrolled": true
   },
   "outputs": [],
   "source": [
    "import pickle\n",
    "from sentence_transformers import SentenceTransformerTrainingArguments, SentenceTransformerTrainer\n",
    "from datasets import Dataset\n",
    "\n",
    "load_pretrained_model = True\n",
    "\n",
    "warmup_steps=100\n",
    "\n",
    "train_dataset = Dataset.from_pandas(df)\n",
    "\n",
    "if load_pretrained_model:\n",
    "    trained_model_file = open('pickle/pretrained_model','rb')\n",
    "    db = pickle.load(trained_model_file)\n",
    "    trained_model_file.close()\n",
    "else:\n",
    "    model.fit(train_objectives=[(train_dataloader, train_loss_fn)], epochs=16, warmup_steps=warmup_steps)"
   ]
  },
  {
   "cell_type": "code",
   "execution_count": null,
   "id": "1761391b-d26f-4de6-9ad1-d3d732efbdb5",
   "metadata": {},
   "outputs": [],
   "source": [
    "help(model.fit)"
   ]
  },
  {
   "cell_type": "code",
   "execution_count": null,
   "id": "e79e519a-670b-4900-9d82-602785266735",
   "metadata": {},
   "outputs": [],
   "source": [
    "samples = []\n",
    "\n",
    "with open('sample.log', \"r\") as f:\n",
    "    lines = f.readlines()\n",
    "    for line in lines:\n",
    "        line = line.strip()\n",
    "        if line:\n",
    "            samples.append(line)"
   ]
  },
  {
   "cell_type": "code",
   "execution_count": null,
   "id": "a21bca29-aba1-406b-9e90-1e4dcc9b00a9",
   "metadata": {},
   "outputs": [],
   "source": [
    "len(samples)"
   ]
  },
  {
   "cell_type": "markdown",
   "id": "e57fc6e9-84f2-4566-9ae1-4b775d6d63a3",
   "metadata": {},
   "source": [
    "### Create embeddings and upsert to pinecone"
   ]
  },
  {
   "cell_type": "code",
   "execution_count": null,
   "id": "558d9248-0ea4-4444-86be-a460cc7de915",
   "metadata": {},
   "outputs": [],
   "source": [
    "emb = model.encode(samples)\n",
    "\n",
    "prepped = []\n",
    "\n",
    "for i in tqdm(range(len(samples))):\n",
    "    v = {'id':f'{i}', 'values':emb[i].tolist() ,'metadata':{'log':samples[i]}}\n",
    "    prepped.append(v)\n",
    "\n",
    "print(len(prepped))"
   ]
  },
  {
   "cell_type": "code",
   "execution_count": null,
   "id": "0372b68b-6006-4cc8-a159-e97df87f39f9",
   "metadata": {},
   "outputs": [],
   "source": [
    "INDEX.upsert(prepped)"
   ]
  },
  {
   "cell_type": "code",
   "execution_count": null,
   "id": "8682b85d-a095-4a4c-bc58-b358904f5fdb",
   "metadata": {},
   "outputs": [],
   "source": [
    "good_log_line = samples[0]\n",
    "print(good_log_line)"
   ]
  },
  {
   "cell_type": "code",
   "execution_count": null,
   "id": "6c8ba0de-c273-43d2-a4e2-632e09ccd4a2",
   "metadata": {},
   "outputs": [],
   "source": [
    "from time import sleep"
   ]
  },
  {
   "cell_type": "code",
   "execution_count": null,
   "id": "2acc4bfb-51a0-4816-bc1f-5be0ae337b5c",
   "metadata": {},
   "outputs": [],
   "source": [
    "results = []\n",
    "\n",
    "while len(results)==0:\n",
    "    sleep(2)\n",
    "    response = INDEX.query(\n",
    "        vector=emb[0].tolist(),\n",
    "        top_k=100,\n",
    "        include_metadata=True\n",
    "    )\n",
    "    results = response[\"matches\"]\n",
    "    print(\".:. \",end=\"\")"
   ]
  },
  {
   "cell_type": "code",
   "execution_count": null,
   "id": "69936689-d3f9-419e-8b9f-b57a5d28cb91",
   "metadata": {},
   "outputs": [],
   "source": [
    "#print(results)"
   ]
  },
  {
   "cell_type": "code",
   "execution_count": null,
   "id": "b8b7c8af-6950-4ae1-8d3d-a5c022de387a",
   "metadata": {},
   "outputs": [],
   "source": [
    "for i in range(0,10) :\n",
    "  print(f\"{round(results[i]['score'], 4)}\\t{results[i]['metadata']['log']}\")"
   ]
  },
  {
   "cell_type": "code",
   "execution_count": null,
   "id": "d2605ae7-56f8-436d-8f97-9a26cd1ac68c",
   "metadata": {},
   "outputs": [],
   "source": [
    "last_line = len(results)-1\n",
    "\n",
    "print(f\"{round(results[last_line]['score'])}\\t{results[last_line]['metadata']['log']}\")"
   ]
  },
  {
   "cell_type": "code",
   "execution_count": null,
   "id": "561f5233-0be7-4613-83df-23f617624686",
   "metadata": {},
   "outputs": [],
   "source": []
  },
  {
   "cell_type": "code",
   "execution_count": null,
   "id": "e376de68-7262-4390-8e50-c6cc10648b76",
   "metadata": {},
   "outputs": [],
   "source": []
  },
  {
   "cell_type": "code",
   "execution_count": null,
   "id": "d304c22f-9dfa-4c97-b240-8cff528da5c9",
   "metadata": {},
   "outputs": [],
   "source": []
  },
  {
   "cell_type": "code",
   "execution_count": null,
   "id": "a6bee8b6-c2c3-4311-834c-75b2816d9ff7",
   "metadata": {},
   "outputs": [],
   "source": []
  },
  {
   "cell_type": "code",
   "execution_count": null,
   "id": "7f77f719-687c-4c95-a6f9-c6058f4bbbae",
   "metadata": {},
   "outputs": [],
   "source": []
  },
  {
   "cell_type": "code",
   "execution_count": null,
   "id": "6e193202-0d4b-405d-b0be-a6067bd23a5d",
   "metadata": {},
   "outputs": [],
   "source": []
  }
 ],
 "metadata": {
  "kernelspec": {
   "display_name": "Python 3 (ipykernel)",
   "language": "python",
   "name": "python3"
  },
  "language_info": {
   "codemirror_mode": {
    "name": "ipython",
    "version": 3
   },
   "file_extension": ".py",
   "mimetype": "text/x-python",
   "name": "python",
   "nbconvert_exporter": "python",
   "pygments_lexer": "ipython3",
   "version": "3.12.2"
  }
 },
 "nbformat": 4,
 "nbformat_minor": 5
}
